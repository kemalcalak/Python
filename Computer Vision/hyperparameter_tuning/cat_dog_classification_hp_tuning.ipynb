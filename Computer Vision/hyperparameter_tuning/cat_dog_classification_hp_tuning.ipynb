{
 "cells": [
  {
   "cell_type": "code",
   "execution_count": 2,
   "id": "3b2a4df0",
   "metadata": {},
   "outputs": [],
   "source": [
    "from keras import layers\n",
    "from keras.models import Sequential\n",
    "import keras_tuner as kt\n",
    "from tensorflow.keras import optimizers"
   ]
  },
  {
   "cell_type": "code",
   "execution_count": 4,
   "id": "ec634b1e",
   "metadata": {},
   "outputs": [],
   "source": [
    "def build_model(hp):\n",
    "    \n",
    "    model = Sequential()\n",
    "\n",
    "    model.add(layers.Conv2D(32, (3,3), activation = \"relu\", input_shape = (150,150,3)))\n",
    "    model.add(layers.MaxPooling2D((2,2)))\n",
    "\n",
    "    model.add(layers.Conv2D(64, (3,3), activation = \"relu\"))\n",
    "    model.add(layers.MaxPooling2D((2,2)))\n",
    "\n",
    "    model.add(layers.Conv2D(128, (3,3), activation = \"relu\"))\n",
    "    model.add(layers.MaxPooling2D((2,2)))\n",
    "\n",
    "    model.add(layers.Conv2D(128, (3,3), activation = \"relu\"))\n",
    "    model.add(layers.MaxPooling2D((2,2)))\n",
    "\n",
    "\n",
    "    model.add(layers.Flatten())\n",
    "\n",
    "\n",
    "    model.add(layers.Dense(units=hp.Choice(\"layer size\", [128, 256, 512]), activation = \"relu\")) # 64, 128, 256, 512\n",
    "    model.add(layers.Dense(1, activation = \"sigmoid\"))\n",
    "\n",
    "    model.compile(loss = \"binary_crossentropy\",\n",
    "              optimizer = optimizers.RMSprop(learning_rate = 1e-4),\n",
    "              metrics = [\"acc\"])\n",
    "    \n",
    "    return model"
   ]
  },
  {
   "cell_type": "code",
   "execution_count": 5,
   "id": "1f54db9f",
   "metadata": {},
   "outputs": [],
   "source": [
    "keras_tuner = kt.RandomSearch(build_model,\n",
    "                              objective = \"val_acc\",\n",
    "                              overwrite = True,\n",
    "                              max_trials = 3,\n",
    "                              directory = \"models/parameter_tuning\",\n",
    "                              project_name = \"parameter_tuning\")"
   ]
  },
  {
   "cell_type": "code",
   "execution_count": 6,
   "id": "aef9c9f9",
   "metadata": {},
   "outputs": [],
   "source": [
    "train_directory = \"dataset/catdog/train\"\n",
    "validation_directory = \"dataset/catdog/validation\""
   ]
  },
  {
   "cell_type": "code",
   "execution_count": 7,
   "id": "1bab6f45",
   "metadata": {},
   "outputs": [],
   "source": [
    "from keras.preprocessing.image import ImageDataGenerator\n",
    "\n",
    "train_datagen = ImageDataGenerator(rescale=1./255)\n",
    "validation_datagen = ImageDataGenerator(rescale=1./255)"
   ]
  },
  {
   "cell_type": "code",
   "execution_count": 8,
   "id": "25acc310",
   "metadata": {},
   "outputs": [
    {
     "name": "stdout",
     "output_type": "stream",
     "text": [
      "Found 1999 images belonging to 2 classes.\n",
      "Found 1000 images belonging to 2 classes.\n"
     ]
    }
   ],
   "source": [
    "train_generator = train_datagen.flow_from_directory(train_directory,\n",
    "                                                    target_size = (150,150),\n",
    "                                                    batch_size = 20,\n",
    "                                                    class_mode = \"binary\")\n",
    "\n",
    "validation_generator = train_datagen.flow_from_directory(validation_directory,\n",
    "                                                         target_size = (150,150),\n",
    "                                                         batch_size = 20,\n",
    "                                                         class_mode = \"binary\")"
   ]
  },
  {
   "cell_type": "code",
   "execution_count": 9,
   "id": "966e1610",
   "metadata": {},
   "outputs": [
    {
     "name": "stdout",
     "output_type": "stream",
     "text": [
      "Trial 3 Complete [00h 13m 11s]\n",
      "val_acc: 0.7329999804496765\n",
      "\n",
      "Best val_acc So Far: 0.753000020980835\n",
      "Total elapsed time: 00h 41m 18s\n",
      "INFO:tensorflow:Oracle triggered exit\n"
     ]
    },
    {
     "ename": "NameError",
     "evalue": "name 'tuner' is not defined",
     "output_type": "error",
     "traceback": [
      "\u001b[1;31m---------------------------------------------------------------------------\u001b[0m",
      "\u001b[1;31mNameError\u001b[0m                                 Traceback (most recent call last)",
      "\u001b[1;32mC:\\Users\\OUZ~1\\AppData\\Local\\Temp/ipykernel_2692/499725266.py\u001b[0m in \u001b[0;36m<module>\u001b[1;34m\u001b[0m\n\u001b[0;32m      1\u001b[0m \u001b[0mkeras_tuner\u001b[0m\u001b[1;33m.\u001b[0m\u001b[0msearch_space_summary\u001b[0m\u001b[1;33m(\u001b[0m\u001b[1;33m)\u001b[0m\u001b[1;33m\u001b[0m\u001b[1;33m\u001b[0m\u001b[0m\n\u001b[0;32m      2\u001b[0m \u001b[0mkeras_tuner\u001b[0m\u001b[1;33m.\u001b[0m\u001b[0msearch\u001b[0m\u001b[1;33m(\u001b[0m\u001b[0mtrain_generator\u001b[0m\u001b[1;33m,\u001b[0m \u001b[0mvalidation_data\u001b[0m \u001b[1;33m=\u001b[0m \u001b[0mvalidation_generator\u001b[0m\u001b[1;33m,\u001b[0m \u001b[0mepochs\u001b[0m\u001b[1;33m=\u001b[0m\u001b[1;36m25\u001b[0m\u001b[1;33m)\u001b[0m\u001b[1;33m\u001b[0m\u001b[1;33m\u001b[0m\u001b[0m\n\u001b[1;32m----> 3\u001b[1;33m \u001b[0mbest_model\u001b[0m \u001b[1;33m=\u001b[0m \u001b[0mtuner\u001b[0m\u001b[1;33m.\u001b[0m\u001b[0mget_best_models\u001b[0m\u001b[1;33m(\u001b[0m\u001b[1;33m)\u001b[0m\u001b[1;33m[\u001b[0m\u001b[1;36m0\u001b[0m\u001b[1;33m]\u001b[0m\u001b[1;33m\u001b[0m\u001b[1;33m\u001b[0m\u001b[0m\n\u001b[0m",
      "\u001b[1;31mNameError\u001b[0m: name 'tuner' is not defined"
     ]
    }
   ],
   "source": [
    "keras_tuner.search_space_summary()\n",
    "keras_tuner.search(train_generator, validation_data = validation_generator, epochs=25)"
   ]
  },
  {
   "cell_type": "code",
   "execution_count": 10,
   "id": "716467de",
   "metadata": {},
   "outputs": [],
   "source": [
    "best_model = keras_tuner.get_best_models()[0]"
   ]
  }
 ],
 "metadata": {
  "kernelspec": {
   "display_name": "Python 3 (ipykernel)",
   "language": "python",
   "name": "python3"
  },
  "language_info": {
   "codemirror_mode": {
    "name": "ipython",
    "version": 3
   },
   "file_extension": ".py",
   "mimetype": "text/x-python",
   "name": "python",
   "nbconvert_exporter": "python",
   "pygments_lexer": "ipython3",
   "version": "3.7.4"
  }
 },
 "nbformat": 4,
 "nbformat_minor": 5
}
