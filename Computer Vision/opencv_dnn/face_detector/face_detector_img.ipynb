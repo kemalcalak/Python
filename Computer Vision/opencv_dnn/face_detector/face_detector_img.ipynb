{
 "cells": [
  {
   "cell_type": "code",
   "execution_count": 1,
   "id": "7e1c9791",
   "metadata": {},
   "outputs": [],
   "source": [
    "import cv2\n",
    "import numpy as np"
   ]
  },
  {
   "cell_type": "code",
   "execution_count": 3,
   "id": "c6157cb3",
   "metadata": {},
   "outputs": [],
   "source": [
    "img = cv2.imread(\"test.jpg\")\n",
    "model = cv2.dnn.readNetFromCaffe(\"data/deploy.prototxt.txt\",\n",
    "                                 \"data/res10_300x300_ssd_iter_140000.caffemodel\")"
   ]
  },
  {
   "cell_type": "code",
   "execution_count": 4,
   "id": "95a4e187",
   "metadata": {},
   "outputs": [],
   "source": [
    "height, width, channel = img.shape"
   ]
  },
  {
   "cell_type": "code",
   "execution_count": 10,
   "id": "6d2c4226",
   "metadata": {},
   "outputs": [],
   "source": [
    "blob = cv2.dnn.blobFromImage(cv2.resize(img, (300,300)),\n",
    "                             1.0,\n",
    "                             (300,300),\n",
    "                             (104,117,123))\n",
    "\n",
    "model.setInput(blob)\n",
    "output = model.forward()"
   ]
  },
  {
   "cell_type": "code",
   "execution_count": 11,
   "id": "37f6688b",
   "metadata": {},
   "outputs": [
    {
     "data": {
      "text/plain": [
       "(1, 1, 200, 7)"
      ]
     },
     "execution_count": 11,
     "metadata": {},
     "output_type": "execute_result"
    }
   ],
   "source": [
    "output.shape"
   ]
  },
  {
   "cell_type": "code",
   "execution_count": 15,
   "id": "269b8e81",
   "metadata": {},
   "outputs": [],
   "source": [
    "for detection in range(0, output.shape[2]):\n",
    "    \n",
    "    confidence = output[0,0,detection,2]\n",
    "    \n",
    "    if confidence > .5:\n",
    "        \n",
    "        loc = output[0,0,detection,3:7] * np.array([width, height, width, height])\n",
    "        (x1, y1, x2, y2) = loc.astype(\"int\")\n",
    "        \n",
    "        cv2.rectangle(img, (x1, y1), (x2, y2), (0,255,0), thickness=2)\n",
    "        \n",
    "        \n",
    "cv2.imshow(\"Prediction\", img)\n",
    "cv2.imwrite(\"result.jpg\", img)\n",
    "cv2.waitKey(0)\n",
    "cv2.destroyAllWindows()"
   ]
  },
  {
   "cell_type": "code",
   "execution_count": null,
   "id": "8916a864",
   "metadata": {},
   "outputs": [],
   "source": []
  },
  {
   "cell_type": "code",
   "execution_count": null,
   "id": "5aaddccc",
   "metadata": {},
   "outputs": [],
   "source": []
  },
  {
   "cell_type": "code",
   "execution_count": null,
   "id": "1d8fa545",
   "metadata": {},
   "outputs": [],
   "source": []
  },
  {
   "cell_type": "code",
   "execution_count": null,
   "id": "ebf57d7b",
   "metadata": {},
   "outputs": [],
   "source": []
  }
 ],
 "metadata": {
  "kernelspec": {
   "display_name": "Python 3 (ipykernel)",
   "language": "python",
   "name": "python3"
  },
  "language_info": {
   "codemirror_mode": {
    "name": "ipython",
    "version": 3
   },
   "file_extension": ".py",
   "mimetype": "text/x-python",
   "name": "python",
   "nbconvert_exporter": "python",
   "pygments_lexer": "ipython3",
   "version": "3.7.4"
  }
 },
 "nbformat": 4,
 "nbformat_minor": 5
}
