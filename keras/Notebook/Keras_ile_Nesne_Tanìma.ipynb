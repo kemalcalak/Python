{
  "nbformat": 4,
  "nbformat_minor": 0,
  "metadata": {
    "colab": {
      "provenance": [],
      "collapsed_sections": [
        "orNaX3S5t7r-"
      ]
    },
    "kernelspec": {
      "name": "python3",
      "display_name": "Python 3"
    },
    "language_info": {
      "name": "python"
    },
    "gpuClass": "standard",
    "accelerator": "GPU"
  },
  "cells": [
    {
      "cell_type": "markdown",
      "source": [
        "# Keras ile Nesne Tanıma\n",
        "\n",
        "\n",
        "---"
      ],
      "metadata": {
        "id": "2SrQtN6Fs1qS"
      }
    },
    {
      "cell_type": "markdown",
      "source": [
        "![picture](https://miro.medium.com/max/652/1*uokXCDa_O7jzfbUC9qS6cg.png)"
      ],
      "metadata": {
        "id": "jkNLBcwOs2nt"
      }
    },
    {
      "cell_type": "markdown",
      "source": [
        "Bu kılavuz/notebook ***Keras Kütüphanesi ile Nesne Tanıma*** uygulamaları geliştirme öğrenimini kapsamaktadır. Kılavuz tamamlandığında ***Keras ile Nesne Tanıma*** algoritmaları geliştirilebilecek düzeye gelinmiş olacak. \n",
        "\n",
        "Bu ve bunun gibi konularla ilgili benimle iletişime geçmek isteyenler, aşağıdaki bağlantıları kullanabilirler.\n",
        "\n",
        "- E-posta: grboguz@gmail.com\n",
        "- Instagram: https://www.instagram.com/oguzhangurbzz/\n",
        "- Github: https://github.com/grboguz\n",
        "- Discord: https://discord.gg/YW6mdcMnFF\n",
        "- Udemy: https://www.udemy.com/user/oguzhan-gurbuz/\n",
        "- Linkedin: https://www.linkedin.com/in/o%C4%9Fuzhan-g%C3%BCrb%C3%BCz-4780481a6/\n",
        "\n",
        "Not: Eğer özel yardım talebiniz varsa bu [bağlantıdan](https://www.shopier.com/grboguz) Shopier üzerindeki özel danışmanlıklarımızı inceleyebilirsiniz. "
      ],
      "metadata": {
        "id": "SV6jfmj_s7FV"
      }
    },
    {
      "cell_type": "markdown",
      "source": [
        "***Bounding Box Regression*** tekniğini kullanarak nesne tanıma uygulaması geliştireceğiz."
      ],
      "metadata": {
        "id": "TKVCO0L1te39"
      }
    },
    {
      "cell_type": "markdown",
      "source": [
        "### İçerik"
      ],
      "metadata": {
        "id": "H8Qz0LXM28jO"
      }
    },
    {
      "cell_type": "markdown",
      "source": [
        "  1.   Bounding Box Regression\n",
        "  2.   Single Class Object Detection\n",
        "  3.   Multi Class Object Detection "
      ],
      "metadata": {
        "id": "2GY2HbXz2-25"
      }
    },
    {
      "cell_type": "markdown",
      "source": [
        "### Bounding Box Regression"
      ],
      "metadata": {
        "id": "orNaX3S5t7r-"
      }
    },
    {
      "cell_type": "markdown",
      "source": [
        "![picture](https://miro.medium.com/max/1276/1*HGWSXE8pFbAfB9zuCGXSQA.jpeg)"
      ],
      "metadata": {
        "id": "ngJVpA1puBgq"
      }
    },
    {
      "cell_type": "markdown",
      "source": [
        "Bir görüntü sınıflandırma uygulaması aşağıdaki gibi çalışır:\n",
        "- Bir görüntü seç\n",
        "- Bir mimariye girdi olarak ver\n",
        "- Üretilen olasılık matrisiyle etiketi belirle."
      ],
      "metadata": {
        "id": "hvhtFKjsuBPO"
      }
    },
    {
      "cell_type": "markdown",
      "source": [
        "Aslında bounding box regression tekniği de buna benzer şekilde çalışır fakat bazı noktalarda farklılıklar mevcuttur. Alışılagelmiş bir regresyon modeli bize sadece sınıflandırma sonucunu verir. Sınırlandırıcı dikdörtgenler üretmez. Tipik bir regresyon modeli aşağıdaki uygulamalarda kullanılabilir:\n",
        "- Ev fiyat tahmini\n",
        "- Borsa tahmini\n",
        "- Popülasyon artış hızı"
      ],
      "metadata": {
        "id": "HOu0VGM0vJoZ"
      }
    },
    {
      "cell_type": "markdown",
      "source": [
        "![picture](https://www.imsl.com/sites/default/files/image/2021-06/IMSL%20What%20is%20Regression%20Model%20Blog%20Feature.png)"
      ],
      "metadata": {
        "id": "JLp4qbHx1gUU"
      }
    },
    {
      "cell_type": "markdown",
      "source": [
        "Tipik bir regresyon modeli üzerinde aşağıdaki değişiklikler yapılırsa, bu mimari bize sınırlayıcı noktalar da döndürür:\n",
        "- Sırasıyla sol üst ve sağ alt (x, y) koordinatlarına karşılık gelen dört nöronlu tam bağlantılı(fully connected) bir katman oluşturulmalı\n",
        "\n",
        "- Bu dört nöron katmanı [0,1] aralığında çıktılar döndürmeli. Bunun içinde sigmoid fonksiyonu uygulanmalı\n",
        "\n",
        "- Modeli, (1) giriş görüntülerinden ve (2) görüntüdeki nesnenin sınırlayıcı kutusundan oluşan eğitim verilerinde mean-squared error (ortalama kare hatası) veya mean-absolute error (ortalama mutlak hata) gibi bir kayıp işlevi kullanarak eğitilmeli."
      ],
      "metadata": {
        "id": "RR2CKDSRw4KI"
      }
    },
    {
      "cell_type": "markdown",
      "source": [
        "### Tek Sınıflı Nesne Tanıma Uygulaması (Single Class Object Detection)"
      ],
      "metadata": {
        "id": "ZcnDyJiZ2v_D"
      }
    },
    {
      "cell_type": "markdown",
      "source": [
        "Uygulamamıza ilk olarak veri kümemizi oluşturarak başlayalım. Bu bağlantıdan (https://data.caltech.edu/records/mzrjq-6wc02) veri kümemizi indirelim ve sadece tek sınıflı olacak şekilde bir alt küme (subset) oluşturalım. Alt küme oluşturmak için [videodaki](https://www.udemy.com/user/oguzhan-gurbuz/) adımları birebir takip ediniz."
      ],
      "metadata": {
        "id": "PTGB8ZzV3GcK"
      }
    },
    {
      "cell_type": "markdown",
      "source": [
        "![picture](https://debuggercafe.com/wp-content/uploads/2020/03/caltech101exp-min.png)"
      ],
      "metadata": {
        "id": "4wgTzNtG3w5K"
      }
    },
    {
      "cell_type": "markdown",
      "source": [
        "Alt kümeyi oluşturup sonra Google Drive hesabınıza yükledikten sonra kodlarımızı yazmaya başlayabiliriz !"
      ],
      "metadata": {
        "id": "y3VhmT9-4FS-"
      }
    },
    {
      "cell_type": "markdown",
      "source": [
        "GPU Testi"
      ],
      "metadata": {
        "id": "W878jgwk4dBy"
      }
    },
    {
      "cell_type": "code",
      "source": [
        "import tensorflow as tf\n",
        "device_name = tf.test.gpu_device_name()\n",
        "\n",
        "if device_name == \"/device:GPU:0\":\n",
        "  print(\"Found GPU at: {}\".format(device_name))\n",
        "else:\n",
        "  print(\"GPU device not found\")"
      ],
      "metadata": {
        "colab": {
          "base_uri": "https://localhost:8080/"
        },
        "id": "PKtIiuxfs9e-",
        "outputId": "676611fa-008c-4dcf-c555-7eb2cdd50a5e"
      },
      "execution_count": null,
      "outputs": [
        {
          "output_type": "stream",
          "name": "stdout",
          "text": [
            "Found GPU at: /device:GPU:0\n"
          ]
        }
      ]
    },
    {
      "cell_type": "markdown",
      "source": [
        "Google Drive Bağlantısı"
      ],
      "metadata": {
        "id": "e4pGmkcH4gBK"
      }
    },
    {
      "cell_type": "code",
      "source": [
        "from google.colab import drive\n",
        "drive.mount(\"/content/gdrive\")"
      ],
      "metadata": {
        "colab": {
          "base_uri": "https://localhost:8080/"
        },
        "id": "CbX6ihdws_mD",
        "outputId": "36cb8e5d-41b6-4bba-effc-149178ab8d1a"
      },
      "execution_count": null,
      "outputs": [
        {
          "output_type": "stream",
          "name": "stdout",
          "text": [
            "Mounted at /content/gdrive\n"
          ]
        }
      ]
    },
    {
      "cell_type": "code",
      "source": [
        "%pwd"
      ],
      "metadata": {
        "colab": {
          "base_uri": "https://localhost:8080/",
          "height": 35
        },
        "id": "POWuW3FStFEf",
        "outputId": "8e52a523-7500-4b04-bfa7-9b65d46f5ef7"
      },
      "execution_count": null,
      "outputs": [
        {
          "output_type": "execute_result",
          "data": {
            "text/plain": [
              "'/content'"
            ],
            "application/vnd.google.colaboratory.intrinsic+json": {
              "type": "string"
            }
          },
          "metadata": {},
          "execution_count": 3
        }
      ]
    },
    {
      "cell_type": "code",
      "source": [
        "%cd /content/gdrive/MyDrive/caltech101"
      ],
      "metadata": {
        "colab": {
          "base_uri": "https://localhost:8080/"
        },
        "id": "JLJ1ofxEriEI",
        "outputId": "4770abdd-4b70-42a7-f0cf-319ac60bc415"
      },
      "execution_count": null,
      "outputs": [
        {
          "output_type": "stream",
          "name": "stdout",
          "text": [
            "/content/gdrive/MyDrive/caltech101\n"
          ]
        }
      ]
    },
    {
      "cell_type": "code",
      "source": [
        "!unzip subset_caltech.zip"
      ],
      "metadata": {
        "id": "qaHd1nyKmpsp"
      },
      "execution_count": null,
      "outputs": []
    },
    {
      "cell_type": "markdown",
      "source": [
        "Ön tanımlamaları yap.\n",
        "\n",
        "- Görüntülerin dizini\n",
        "- Etiketlerin dizini\n",
        "- Eğitim parametreleri"
      ],
      "metadata": {
        "id": "z-2aHN7-rspb"
      }
    },
    {
      "cell_type": "code",
      "source": [
        "IMAGES_PATH = \"/content/gdrive/MyDrive/caltech101/subset_caltech/motorbikes/images\"\n",
        "LABELS_PATH = \"/content/gdrive/MyDrive/caltech101/subset_caltech/motorbikes/labels\"\n",
        "MODEL_PATH = \"/content/gdrive/MyDrive/caltech101/subset_caltech/model.h5\"\n",
        "PLOT_PATH = \"/content/gdrive/MyDrive/caltech101/subset_caltech/plot.png\""
      ],
      "metadata": {
        "id": "WDZDqvoqrr1J"
      },
      "execution_count": null,
      "outputs": []
    },
    {
      "cell_type": "code",
      "source": [
        "INIT_LR = 1e-4\n",
        "NUM_EPOCHS = 25\n",
        "BATCH_SIZE = 32"
      ],
      "metadata": {
        "id": "8EpM442_rryX"
      },
      "execution_count": null,
      "outputs": []
    },
    {
      "cell_type": "markdown",
      "source": [
        "Dataset İnceleme & Düzenleme"
      ],
      "metadata": {
        "id": "AWUJXXOTskES"
      }
    },
    {
      "cell_type": "code",
      "source": [
        "import os \n",
        "#os.listdir(IMAGES_PATH)"
      ],
      "metadata": {
        "id": "Pqq9LmzopUcX"
      },
      "execution_count": null,
      "outputs": []
    },
    {
      "cell_type": "code",
      "source": [
        "num_images = len(os.listdir(IMAGES_PATH))\n",
        "num_labels = len(os.listdir(LABELS_PATH))\n",
        "\n",
        "print(\"[INFO]..Images:\",num_images)\n",
        "print(\"[INFO]..Labels:\",num_labels)"
      ],
      "metadata": {
        "colab": {
          "base_uri": "https://localhost:8080/"
        },
        "id": "NUBnG9fErrv7",
        "outputId": "7d1d2b07-bca8-498b-b30f-aa20dbd058c4"
      },
      "execution_count": null,
      "outputs": [
        {
          "output_type": "stream",
          "name": "stdout",
          "text": [
            "[INFO]..Images: 798\n",
            "[INFO]..Labels: 798\n"
          ]
        }
      ]
    },
    {
      "cell_type": "code",
      "source": [
        "image_paths = os.listdir(IMAGES_PATH)\n",
        "image_paths.sort()\n",
        "# image_paths"
      ],
      "metadata": {
        "id": "YCSX_fAFtFGP"
      },
      "execution_count": null,
      "outputs": []
    },
    {
      "cell_type": "code",
      "source": [
        "label_paths = os.listdir(LABELS_PATH)\n",
        "label_paths.sort()\n",
        "# label_paths"
      ],
      "metadata": {
        "id": "aQbKUhP0tLzn"
      },
      "execution_count": null,
      "outputs": []
    },
    {
      "cell_type": "markdown",
      "source": [
        "Görüntü ve etiketleri eşleştiren aşağıdaki gibi bir liste oluştur:\n",
        "-  `[dosya, x, y, z, q]`\n",
        "- `[img.jpg, 19, 141, 32, 244]`"
      ],
      "metadata": {
        "id": "xUSAgk5Z6djm"
      }
    },
    {
      "cell_type": "code",
      "source": [
        "from scipy.io import loadmat"
      ],
      "metadata": {
        "id": "qFW3hyvV0jPc"
      },
      "execution_count": null,
      "outputs": []
    },
    {
      "cell_type": "code",
      "source": [
        "motorbike = []\n",
        "\n",
        "for i in range(0, len(label_paths)):\n",
        "\n",
        "  image = image_paths[i]\n",
        "  label = label_paths[i]\n",
        "\n",
        "  label_path = os.path.join(LABELS_PATH, label)\n",
        "  annot = loadmat(label_path)[\"box_coord\"][0]\n",
        "  #print(type(annot))\n",
        "  #print(i)\n",
        "\n",
        "  annot = annot.tolist()\n",
        "  #print(type(annot))\n",
        "\n",
        "  annot.insert(0,image)\n",
        "  motorbike.append(annot)"
      ],
      "metadata": {
        "id": "Hr1kAqKut2pw"
      },
      "execution_count": null,
      "outputs": []
    },
    {
      "cell_type": "code",
      "source": [
        "print(\"[INFO]\\n-----------------------\")\n",
        "print(\"Num Of Item:\",len(motorbike))\n",
        "\n",
        "for i in range(0,10):\n",
        "  print(motorbike[i])"
      ],
      "metadata": {
        "colab": {
          "base_uri": "https://localhost:8080/"
        },
        "id": "eYBP49nwt2md",
        "outputId": "1e232c5e-f5d2-4ac7-fc59-2e45ff2c4f61"
      },
      "execution_count": null,
      "outputs": [
        {
          "output_type": "stream",
          "name": "stdout",
          "text": [
            "[INFO]\n",
            "-----------------------\n",
            "Num Of Item: 798\n",
            "['image_0001.jpg', 19, 141, 31, 233]\n",
            "['image_0002.jpg', 15, 142, 32, 232]\n",
            "['image_0003.jpg', 20, 143, 30, 234]\n",
            "['image_0004.jpg', 15, 132, 30, 231]\n",
            "['image_0005.jpg', 19, 145, 31, 232]\n",
            "['image_0006.jpg', 20, 142, 32, 231]\n",
            "['image_0007.jpg', 16, 121, 33, 230]\n",
            "['image_0008.jpg', 17, 125, 31, 232]\n",
            "['image_0009.jpg', 18, 133, 31, 231]\n",
            "['image_0010.jpg', 18, 127, 32, 233]\n"
          ]
        }
      ]
    },
    {
      "cell_type": "markdown",
      "source": [
        "Eğitim için Görüntüleri Hazırlama"
      ],
      "metadata": {
        "id": "EcEWQxPY435W"
      }
    },
    {
      "cell_type": "code",
      "source": [
        "data = []\n",
        "filenames = []\n",
        "bounding_box = []"
      ],
      "metadata": {
        "id": "_d8wKnDpJ2Qf"
      },
      "execution_count": null,
      "outputs": []
    },
    {
      "cell_type": "markdown",
      "source": [
        "`['image_0001.jpg', 19, 141, 31, 233]`\n",
        "\n",
        "`[filename, startY, endY, startX, endX]`"
      ],
      "metadata": {
        "id": "sORRjVHfCtcq"
      }
    },
    {
      "cell_type": "code",
      "source": [
        "import cv2\n",
        "\n",
        "from tensorflow.keras.preprocessing.image import load_img\n",
        "from tensorflow.keras.preprocessing.image import img_to_array"
      ],
      "metadata": {
        "id": "nwNBipzEJ0c2"
      },
      "execution_count": null,
      "outputs": []
    },
    {
      "cell_type": "code",
      "source": [
        "for info in motorbike:\n",
        "  (filename, startY, endY, startX, endX) = info\n",
        "\n",
        "  image_path = os.path.join(IMAGES_PATH, filename)\n",
        "  print(image_path)\n",
        "\n",
        "  image = cv2.imread(image_path)\n",
        "  (h,w) = image.shape[:2]\n",
        "\n",
        "  startX = float(startX) / w\n",
        "  startY = float(startY) / h\n",
        "  endX = float(endX) / w\n",
        "  endY = float(endY) / h\n",
        "\n",
        "  image = load_img(image_path, target_size=(224,224))\n",
        "  image = img_to_array(image)\n",
        "\n",
        "  data.append(image)\n",
        "  bounding_box.append((startX, startY, endX, endY))\n",
        "  filenames.append(filename)"
      ],
      "metadata": {
        "id": "Vj0fn0cZJwv7"
      },
      "execution_count": null,
      "outputs": []
    },
    {
      "cell_type": "code",
      "source": [
        "len(data)"
      ],
      "metadata": {
        "colab": {
          "base_uri": "https://localhost:8080/"
        },
        "id": "10nNhbAcIlag",
        "outputId": "4b150ced-4113-4923-adc5-3080cbd36d0c"
      },
      "execution_count": null,
      "outputs": [
        {
          "output_type": "execute_result",
          "data": {
            "text/plain": [
              "798"
            ]
          },
          "metadata": {},
          "execution_count": 20
        }
      ]
    },
    {
      "cell_type": "code",
      "source": [
        "import numpy as np"
      ],
      "metadata": {
        "id": "v3MSVD3dHTnm"
      },
      "execution_count": null,
      "outputs": []
    },
    {
      "cell_type": "code",
      "source": [
        "# [0,255] --> [0,1]\n",
        "data = np.array(data, dtype=\"float32\")/255\n",
        "bbox = np.array(bounding_box, dtype=\"float32\")"
      ],
      "metadata": {
        "id": "vDK3Sa7Tt2iC"
      },
      "execution_count": null,
      "outputs": []
    },
    {
      "cell_type": "code",
      "source": [
        "from sklearn.model_selection import train_test_split"
      ],
      "metadata": {
        "id": "ZFfQ5RwjGdRy"
      },
      "execution_count": null,
      "outputs": []
    },
    {
      "cell_type": "code",
      "source": [
        "data.shape"
      ],
      "metadata": {
        "colab": {
          "base_uri": "https://localhost:8080/"
        },
        "id": "EpZsVwvBHhnO",
        "outputId": "924c83bc-5664-486b-8262-1992bb4e891e"
      },
      "execution_count": null,
      "outputs": [
        {
          "output_type": "execute_result",
          "data": {
            "text/plain": [
              "(798, 224, 224, 3)"
            ]
          },
          "metadata": {},
          "execution_count": 24
        }
      ]
    },
    {
      "cell_type": "code",
      "source": [
        "# 90%(train)- 10%(test)\n",
        "split = train_test_split(data, bbox, filenames, test_size=0.10, random_state=42)"
      ],
      "metadata": {
        "id": "kWEzjrGOwfbc"
      },
      "execution_count": null,
      "outputs": []
    },
    {
      "cell_type": "markdown",
      "source": [
        "`split = [ trainImages, testImages, trainBBox, testBBox, trainFilenames, testFilenames ]`"
      ],
      "metadata": {
        "id": "hje3HrvnLzev"
      }
    },
    {
      "cell_type": "code",
      "source": [
        "(trainImages, testImages) = split[:2]\n",
        "(trainBBox, testBBox) = split[2:4]\n",
        "(trainFilenames, testFilenames) = split[4:]"
      ],
      "metadata": {
        "id": "QcWkLwQpwfVZ"
      },
      "execution_count": null,
      "outputs": []
    },
    {
      "cell_type": "code",
      "source": [
        "# test dosyalarımı kullanmak üzere bir değişken içerisine kaydedelim.\n",
        "print(\"[INFO]...saving testing file names\")\n",
        "test_paths = []\n",
        "\n",
        "for i in range(0, len(testFilenames)):\n",
        "  test_paths.append(testFilenames[i])\n",
        "\n",
        "print(\"[INFO]...done\")\n",
        "print(\"[INFO]..Number of Test Images:\", len(test_paths))"
      ],
      "metadata": {
        "colab": {
          "base_uri": "https://localhost:8080/"
        },
        "id": "-MsSHgEiwfSX",
        "outputId": "dcf563aa-3c7b-4fd7-b0c2-097a2e1d562a"
      },
      "execution_count": null,
      "outputs": [
        {
          "output_type": "stream",
          "name": "stdout",
          "text": [
            "[INFO]...saving testing file names\n",
            "[INFO]...done\n",
            "[INFO]..Number of Test Images: 80\n"
          ]
        }
      ]
    },
    {
      "cell_type": "markdown",
      "source": [
        "Modeli Oluşturma"
      ],
      "metadata": {
        "id": "K52YI5cEy_SZ"
      }
    },
    {
      "cell_type": "markdown",
      "source": [
        "Bu aşamada transfer learning tekniği kullanılacaktır. Eğer yeterli hissetmiyorsanız lütfen bu [makaleyi](https://keras.io/guides/transfer_learning/) okuyun ve [videodaki](https://www.udemy.com/user/oguzhan-gurbuz/) açıklamaları dikkatlice takip ediniz."
      ],
      "metadata": {
        "id": "ECOxHXi55E1i"
      }
    },
    {
      "cell_type": "code",
      "source": [
        "from tensorflow.keras.applications import VGG16\n",
        "from tensorflow.keras.layers import Flatten\n",
        "from tensorflow.keras.layers import Dense\n",
        "from tensorflow.keras.layers import Input\n",
        "\n",
        "from tensorflow.keras.models import Model\n",
        "from tensorflow.keras.optimizers import Adam"
      ],
      "metadata": {
        "id": "5tiDohklPmO_"
      },
      "execution_count": null,
      "outputs": []
    },
    {
      "cell_type": "code",
      "source": [
        "vgg = VGG16(weights=\"imagenet\", include_top=False, input_tensor=Input(shape=(224,224,3)))\n",
        "vgg.trainable = False\n",
        "\n",
        "output = vgg.output\n",
        "flatten = Flatten()(output)\n",
        "\n",
        "bboxLayer = Dense(128, activation=\"relu\")(flatten)\n",
        "bboxLayer = Dense(64, activation=\"relu\")(bboxLayer)\n",
        "bboxLayer = Dense(32, activation=\"relu\")(bboxLayer)\n",
        "bboxLayer = Dense(4, activation=\"sigmoid\")(bboxLayer)\n",
        "\n",
        "model = Model(inputs=vgg.input, outputs=bboxLayer)"
      ],
      "metadata": {
        "id": "inp2waRbrrqz"
      },
      "execution_count": null,
      "outputs": []
    },
    {
      "cell_type": "code",
      "source": [
        "opt = Adam(lr=INIT_LR)\n",
        "model.compile(loss=\"mse\", optimizer=opt)\n",
        "model.summary()"
      ],
      "metadata": {
        "id": "nTw5yA0vrroV"
      },
      "execution_count": null,
      "outputs": []
    },
    {
      "cell_type": "markdown",
      "source": [
        "Eğitim"
      ],
      "metadata": {
        "id": "l2Xf8SU65yTe"
      }
    },
    {
      "cell_type": "code",
      "source": [
        "print(\"[INFO].. training progress..\")\n",
        "history = model.fit(trainImages,\n",
        "                    trainBBox,\n",
        "                    validation_data = (testImages, testBBox),\n",
        "                    batch_size=BATCH_SIZE,\n",
        "                    epochs=NUM_EPOCHS,\n",
        "                    verbose=1)"
      ],
      "metadata": {
        "colab": {
          "base_uri": "https://localhost:8080/"
        },
        "id": "ThYtIqLM5uQS",
        "outputId": "b8221e5b-5d5e-49cb-86ee-69d5da567005"
      },
      "execution_count": null,
      "outputs": [
        {
          "output_type": "stream",
          "name": "stdout",
          "text": [
            "23/23 [==============================] - 4s 175ms/step - loss: 0.0010 - val_loss: 0.0012\n",
            "Epoch 4/25\n",
            "23/23 [==============================] - 4s 176ms/step - loss: 8.9144e-04 - val_loss: 0.0011\n",
            "Epoch 5/25\n",
            "23/23 [==============================] - 4s 173ms/step - loss: 7.7014e-04 - val_loss: 0.0010\n",
            "Epoch 6/25\n",
            "23/23 [==============================] - 4s 173ms/step - loss: 6.9102e-04 - val_loss: 9.4334e-04\n",
            "Epoch 7/25\n",
            "23/23 [==============================] - 4s 170ms/step - loss: 6.1775e-04 - val_loss: 9.1758e-04\n",
            "Epoch 8/25\n",
            "23/23 [==============================] - 4s 169ms/step - loss: 5.5674e-04 - val_loss: 8.7306e-04\n",
            "Epoch 9/25\n",
            "23/23 [==============================] - 4s 169ms/step - loss: 5.0748e-04 - val_loss: 8.3760e-04\n",
            "Epoch 10/25\n",
            "23/23 [==============================] - 4s 169ms/step - loss: 4.6207e-04 - val_loss: 8.1900e-04\n",
            "Epoch 11/25\n",
            "23/23 [==============================] - 4s 167ms/step - loss: 4.2281e-04 - val_loss: 8.0073e-04\n",
            "Epoch 12/25\n",
            "23/23 [==============================] - 4s 167ms/step - loss: 3.8988e-04 - val_loss: 7.8888e-04\n",
            "Epoch 13/25\n",
            "23/23 [==============================] - 4s 168ms/step - loss: 3.5148e-04 - val_loss: 7.5561e-04\n",
            "Epoch 14/25\n",
            "23/23 [==============================] - 4s 167ms/step - loss: 3.2320e-04 - val_loss: 7.4483e-04\n",
            "Epoch 15/25\n",
            "23/23 [==============================] - 4s 168ms/step - loss: 2.9795e-04 - val_loss: 7.3935e-04\n",
            "Epoch 16/25\n",
            "23/23 [==============================] - 4s 170ms/step - loss: 2.8008e-04 - val_loss: 7.2795e-04\n",
            "Epoch 17/25\n",
            "23/23 [==============================] - 4s 169ms/step - loss: 2.5664e-04 - val_loss: 7.3239e-04\n",
            "Epoch 18/25\n",
            "23/23 [==============================] - 4s 174ms/step - loss: 2.3820e-04 - val_loss: 7.1532e-04\n",
            "Epoch 19/25\n",
            "23/23 [==============================] - 4s 176ms/step - loss: 2.2235e-04 - val_loss: 7.1064e-04\n",
            "Epoch 20/25\n",
            "23/23 [==============================] - 4s 169ms/step - loss: 2.0663e-04 - val_loss: 7.0823e-04\n",
            "Epoch 21/25\n",
            "23/23 [==============================] - 4s 170ms/step - loss: 1.9601e-04 - val_loss: 6.9726e-04\n",
            "Epoch 22/25\n",
            "23/23 [==============================] - 4s 170ms/step - loss: 1.7968e-04 - val_loss: 6.9510e-04\n",
            "Epoch 23/25\n",
            "23/23 [==============================] - 4s 170ms/step - loss: 1.6853e-04 - val_loss: 6.9361e-04\n",
            "Epoch 24/25\n",
            "23/23 [==============================] - 4s 170ms/step - loss: 1.5832e-04 - val_loss: 6.9075e-04\n",
            "Epoch 25/25\n",
            "23/23 [==============================] - 4s 172ms/step - loss: 1.4981e-04 - val_loss: 6.8492e-04\n"
          ]
        }
      ]
    },
    {
      "cell_type": "markdown",
      "source": [
        "Visualization"
      ],
      "metadata": {
        "id": "TRgK8dfDS4vE"
      }
    },
    {
      "cell_type": "code",
      "source": [
        "import matplotlib.pyplot as plt\n",
        "\n",
        "plt.style.use(\"seaborn-darkgrid\")\n",
        "plt.figure()\n",
        "\n",
        "plt.plot(np.arange(0,NUM_EPOCHS), history.history[\"loss\"], label=\"train_loss\")\n",
        "plt.plot(np.arange(0,NUM_EPOCHS), history.history[\"val_loss\"], label=\"val_loss\")\n",
        "\n",
        "plt.title(\"Training | Loss & Validation Loss\")\n",
        "plt.legend(loc=\"upper right\")"
      ],
      "metadata": {
        "colab": {
          "base_uri": "https://localhost:8080/",
          "height": 294
        },
        "id": "5OVW6h6qUDNg",
        "outputId": "f19bcbf3-b2f6-4e94-8136-7e374e3c9d6c"
      },
      "execution_count": null,
      "outputs": [
        {
          "output_type": "execute_result",
          "data": {
            "text/plain": [
              "<matplotlib.legend.Legend at 0x7f50f555f460>"
            ]
          },
          "metadata": {},
          "execution_count": 47
        },
        {
          "output_type": "display_data",
          "data": {
            "text/plain": [
              "<Figure size 432x288 with 1 Axes>"
            ],
            "image/png": "[encoded data removed]"
          },
          "metadata": {}
        }
      ]
    },
    {
      "cell_type": "code",
      "source": [
        "plt.savefig(PLOT_PATH)"
      ],
      "metadata": {
        "colab": {
          "base_uri": "https://localhost:8080/",
          "height": 34
        },
        "id": "EuQ84kuUUeWf",
        "outputId": "8a582ee4-8707-4138-bee7-590d30ccba9c"
      },
      "execution_count": null,
      "outputs": [
        {
          "output_type": "display_data",
          "data": {
            "text/plain": [
              "<Figure size 432x288 with 0 Axes>"
            ]
          },
          "metadata": {}
        }
      ]
    },
    {
      "cell_type": "code",
      "source": [
        "model.save(MODEL_PATH, save_format=\"h5\")"
      ],
      "metadata": {
        "id": "DniCI5WcVGVY"
      },
      "execution_count": null,
      "outputs": []
    },
    {
      "cell_type": "markdown",
      "source": [
        "Prediction"
      ],
      "metadata": {
        "id": "NaFvf-IN52eS"
      }
    },
    {
      "cell_type": "code",
      "source": [
        "from google.colab.patches import cv2_imshow\n",
        "from tensorflow.keras.models import load_model"
      ],
      "metadata": {
        "id": "536vTiVpy-7l"
      },
      "execution_count": null,
      "outputs": []
    },
    {
      "cell_type": "code",
      "source": [
        "model = load_model(MODEL_PATH)\n",
        "\n",
        "# 0->80\n",
        "test = os.path.join(IMAGES_PATH, test_paths[0])\n",
        "\n",
        "# preprocess\n",
        "image = load_img(test, target_size=(224,224))\n",
        "image = img_to_array(image)/255.0\n",
        "image = np.expand_dims(image, axis=0)\n",
        "\n",
        "# prediction\n",
        "preds = model.predict(image)[0]\n",
        "(startX, startY, endX, endY) = preds"
      ],
      "metadata": {
        "colab": {
          "base_uri": "https://localhost:8080/"
        },
        "id": "5GlsmaSL1kZs",
        "outputId": "23f5d7fc-f577-409f-e0ff-1ee57ff1ab16"
      },
      "execution_count": null,
      "outputs": [
        {
          "output_type": "stream",
          "name": "stdout",
          "text": [
            "1/1 [==============================] - 0s 135ms/step\n"
          ]
        }
      ]
    },
    {
      "cell_type": "code",
      "source": [
        "import imutils"
      ],
      "metadata": {
        "id": "BDHuae9kXMSz"
      },
      "execution_count": null,
      "outputs": []
    },
    {
      "cell_type": "code",
      "source": [
        "image = cv2.imread(test)\n",
        "image = imutils.resize(image, width=600)\n",
        "(h,w) = image.shape[:2]\n",
        "\n",
        "startX = int(startX*w)\n",
        "startY = int(startY*h)\n",
        "endX = int(endX*w)\n",
        "endY = int(endY*h)\n",
        "\n",
        "cv2.rectangle(image, (startX, startY), (endX, endY), (0,255,0), 2)\n",
        "cv2_imshow(image)"
      ],
      "metadata": {
        "colab": {
          "base_uri": "https://localhost:8080/",
          "height": 417
        },
        "id": "BhUHD9KrA-Nu",
        "outputId": "7ef2a665-1a1d-4bbf-9cd7-25c6b8a8690a"
      },
      "execution_count": null,
      "outputs": [
        {
          "output_type": "display_data",
          "data": {
            "text/plain": [
              "<PIL.Image.Image image mode=RGB size=600x400 at 0x7F51284F6C70>"
            ],
            "image/png": "[encoded data removed]"
          },
          "metadata": {}
        }
      ]
    },
    {
      "cell_type": "markdown",
      "source": [
        "### Çok Sınıflı Nesne Tanıma Uygulaması (Multi Class Object Detection)"
      ],
      "metadata": {
        "id": "cZp2tnK-BQrG"
      }
    },
    {
      "cell_type": "markdown",
      "source": [
        "Sıkıştırılımış dataset dosyasını ayrıştır."
      ],
      "metadata": {
        "id": "TCRkYJAAfb6Q"
      }
    },
    {
      "cell_type": "code",
      "source": [
        "from google.colab import drive\n",
        "drive.mount(\"/content/gdrive\")"
      ],
      "metadata": {
        "colab": {
          "base_uri": "https://localhost:8080/"
        },
        "id": "nnHWD-HVBMQw",
        "outputId": "6fa38bc2-a705-4fac-cbe4-cb938313ae21"
      },
      "execution_count": null,
      "outputs": [
        {
          "output_type": "stream",
          "name": "stdout",
          "text": [
            "Drive already mounted at /content/gdrive; to attempt to forcibly remount, call drive.mount(\"/content/gdrive\", force_remount=True).\n"
          ]
        }
      ]
    },
    {
      "cell_type": "code",
      "source": [
        "%cd /content/gdrive/MyDrive/caltech101"
      ],
      "metadata": {
        "colab": {
          "base_uri": "https://localhost:8080/"
        },
        "id": "vavRQdEWuxHU",
        "outputId": "3abaca3f-d416-4c65-ea5e-f556150a422c"
      },
      "execution_count": null,
      "outputs": [
        {
          "output_type": "stream",
          "name": "stdout",
          "text": [
            "/content/gdrive/MyDrive/caltech101\n"
          ]
        }
      ]
    },
    {
      "cell_type": "code",
      "source": [
        "!unzip /content/gdrive/MyDrive/caltech101/subset_caltech_multiclass.zip"
      ],
      "metadata": {
        "id": "Db5wq6CriReC"
      },
      "execution_count": null,
      "outputs": []
    },
    {
      "cell_type": "markdown",
      "source": [
        "Ön tanımlamaları yap.\n",
        "\n",
        "- Görüntülerin dizini\n",
        "- Etiketlerin dizini\n",
        "- Eğitim parametreleri"
      ],
      "metadata": {
        "id": "KCcVDXJ3dK0R"
      }
    },
    {
      "cell_type": "code",
      "source": [
        "IMAGES_PATH = \"/content/gdrive/MyDrive/caltech101/subset_caltech - multiclass/images\"\n",
        "LABELS_PATH = \"/content/gdrive/MyDrive/caltech101/subset_caltech - multiclass/labels\"\n",
        "\n",
        "MODEL_PATH = \"/content/gdrive/MyDrive/caltech101/subset_caltech - multiclass/model_multiclass.h5\"\n",
        "PLOT_PATH = \"/content/gdrive/MyDrive/caltech101/subset_caltech - multiclass/plot.png\""
      ],
      "metadata": {
        "id": "l14_uI19BMOA"
      },
      "execution_count": null,
      "outputs": []
    },
    {
      "cell_type": "code",
      "source": [
        "INIT_LR = 1e-4\n",
        "NUM_EPOCHS = 25\n",
        "BATCH_SIZE = 32"
      ],
      "metadata": {
        "id": "_4Ky4IzEj7J9"
      },
      "execution_count": null,
      "outputs": []
    },
    {
      "cell_type": "markdown",
      "source": [
        "Dataset İnceleme & Düzenleme"
      ],
      "metadata": {
        "id": "WDF3FD-1dRaN"
      }
    },
    {
      "cell_type": "code",
      "source": [
        "import os\n",
        "# os.listdir(os.path.join(IMAGES_PATH,\"airplane\"))"
      ],
      "metadata": {
        "id": "pLn2BDx2si2m"
      },
      "execution_count": null,
      "outputs": []
    },
    {
      "cell_type": "code",
      "source": [
        "num_images_airplane = len(os.listdir(os.path.join(IMAGES_PATH,\"airplane\")))\n",
        "num_labels_airplane = len(os.listdir(os.path.join(LABELS_PATH,\"airplane\")))\n",
        "\n",
        "print(\"[INFO]..Images:\",num_images_airplane)\n",
        "print(\"[INFO]..Labels:\",num_labels_airplane)"
      ],
      "metadata": {
        "colab": {
          "base_uri": "https://localhost:8080/"
        },
        "id": "kMv9qdjTGSmO",
        "outputId": "1ae397a4-f71f-440d-b1ef-194611ab2018"
      },
      "execution_count": null,
      "outputs": [
        {
          "output_type": "stream",
          "name": "stdout",
          "text": [
            "[INFO]..Images: 800\n",
            "[INFO]..Labels: 800\n"
          ]
        }
      ]
    },
    {
      "cell_type": "code",
      "source": [
        "num_images_face = len(os.listdir(os.path.join(IMAGES_PATH,\"face\")))\n",
        "num_labels_face = len(os.listdir(os.path.join(LABELS_PATH,\"face\")))\n",
        "\n",
        "print(\"[INFO]..Images:\",num_images_face)\n",
        "print(\"[INFO]..Labels:\",num_labels_face)"
      ],
      "metadata": {
        "colab": {
          "base_uri": "https://localhost:8080/"
        },
        "id": "n3knVItmIGNN",
        "outputId": "e88b1c8a-27de-49d0-fee8-5789fe5b46de"
      },
      "execution_count": null,
      "outputs": [
        {
          "output_type": "stream",
          "name": "stdout",
          "text": [
            "[INFO]..Images: 435\n",
            "[INFO]..Labels: 435\n"
          ]
        }
      ]
    },
    {
      "cell_type": "code",
      "source": [
        "num_images_motorbike = len(os.listdir(os.path.join(IMAGES_PATH,\"motorbike\")))\n",
        "num_labels_motorbike = len(os.listdir(os.path.join(LABELS_PATH,\"motorbike\")))\n",
        "\n",
        "print(\"[INFO]..Images:\",num_images_motorbike)\n",
        "print(\"[INFO]..Labels:\",num_labels_motorbike)"
      ],
      "metadata": {
        "colab": {
          "base_uri": "https://localhost:8080/"
        },
        "id": "Bs8akQg6IGfN",
        "outputId": "57814918-89e1-45af-e28f-6fc03b687b8b"
      },
      "execution_count": null,
      "outputs": [
        {
          "output_type": "stream",
          "name": "stdout",
          "text": [
            "[INFO]..Images: 798\n",
            "[INFO]..Labels: 798\n"
          ]
        }
      ]
    },
    {
      "cell_type": "code",
      "source": [
        "motorbike_image = os.listdir(os.path.join(IMAGES_PATH,\"motorbike\"))\n",
        "motorbike_image.sort()\n",
        "# motorbike_image\n",
        "\n",
        "motorbike_labels = os.listdir(os.path.join(LABELS_PATH,\"motorbike\"))\n",
        "motorbike_labels.sort()\n",
        "# motorbike_labels"
      ],
      "metadata": {
        "id": "pzNmXWk8IGyO"
      },
      "execution_count": null,
      "outputs": []
    },
    {
      "cell_type": "markdown",
      "source": [
        "Görüntü ve etiketleri eşleştiren aşağıdaki gibi bir liste oluştur:\n",
        "-  `[dosya, x, y, z, q, label]`\n",
        "- `[img.jpg, 19, 141, 32, 244, motorbike]`"
      ],
      "metadata": {
        "id": "b0HWEIBMdZc-"
      }
    },
    {
      "cell_type": "code",
      "source": [
        "from scipy.io import loadmat"
      ],
      "metadata": {
        "id": "n7HF6OoTBMJB"
      },
      "execution_count": null,
      "outputs": []
    },
    {
      "cell_type": "code",
      "source": [
        "motorbikes = []\n",
        "\n",
        "for i in range(0, len(motorbike_labels)):\n",
        "\n",
        "  image = motorbike_image[i]\n",
        "  label = motorbike_labels[i]\n",
        "\n",
        "  label_path = os.path.join(LABELS_PATH,\"motorbike\",label)\n",
        "  annot = loadmat(label_path)[\"box_coord\"][0]\n",
        "  #print(type(annot))\n",
        "  print(i)\n",
        "\n",
        "  annot = annot.tolist()\n",
        "  #print(type(annot))\n",
        "\n",
        "  annot.insert(0,image)\n",
        "  annot.insert(5,\"motorbike\")\n",
        "  motorbikes.append(annot)"
      ],
      "metadata": {
        "id": "1DYO6ShGJrpl"
      },
      "execution_count": null,
      "outputs": []
    },
    {
      "cell_type": "code",
      "source": [
        "for i in range(0,5):\n",
        "  print(motorbikes[i])"
      ],
      "metadata": {
        "colab": {
          "base_uri": "https://localhost:8080/"
        },
        "id": "39f9VlA7NKMu",
        "outputId": "5b1d2da8-fae0-4a6a-d700-ccff312fb762"
      },
      "execution_count": null,
      "outputs": [
        {
          "output_type": "stream",
          "name": "stdout",
          "text": [
            "['image_0001.jpg', 19, 141, 31, 233, 'motorbike']\n",
            "['image_0002.jpg', 15, 142, 32, 232, 'motorbike']\n",
            "['image_0003.jpg', 20, 143, 30, 234, 'motorbike']\n",
            "['image_0004.jpg', 15, 132, 30, 231, 'motorbike']\n",
            "['image_0005.jpg', 19, 145, 31, 232, 'motorbike']\n"
          ]
        }
      ]
    },
    {
      "cell_type": "code",
      "source": [
        "airplane_image = os.listdir(os.path.join(IMAGES_PATH,\"airplane\"))\n",
        "airplane_image.sort()\n",
        "# motorbike_image\n",
        "\n",
        "airplane_labels = os.listdir(os.path.join(LABELS_PATH,\"airplane\"))\n",
        "airplane_labels.sort()\n",
        "# motorbike_labels"
      ],
      "metadata": {
        "id": "1cBQGV_kBMGc"
      },
      "execution_count": null,
      "outputs": []
    },
    {
      "cell_type": "code",
      "source": [
        "airplanes = []\n",
        "\n",
        "for i in range(0, len(airplane_labels)):\n",
        "\n",
        "  image = airplane_image[i]\n",
        "  label = airplane_labels[i]\n",
        "\n",
        "  label_path = os.path.join(LABELS_PATH,\"airplane\",label)\n",
        "  annot = loadmat(label_path)[\"box_coord\"][0]\n",
        "  #print(type(annot))\n",
        "  print(i)\n",
        "\n",
        "  annot = annot.tolist()\n",
        "  #print(type(annot))\n",
        "\n",
        "  annot.insert(0,image)\n",
        "  annot.insert(5,\"airplane\")\n",
        "  airplanes.append(annot)"
      ],
      "metadata": {
        "id": "GxCta6PhNNpy"
      },
      "execution_count": null,
      "outputs": []
    },
    {
      "cell_type": "code",
      "source": [
        "for i in range(0,5):\n",
        "  print(airplanes[i])"
      ],
      "metadata": {
        "colab": {
          "base_uri": "https://localhost:8080/"
        },
        "id": "CZI8yr7bMvPP",
        "outputId": "ccdcbc16-bc78-4e5d-ad0e-bf8858b44560"
      },
      "execution_count": null,
      "outputs": [
        {
          "output_type": "stream",
          "name": "stdout",
          "text": [
            "['image_0001.jpg', 30, 137, 49, 349, 'airplane']\n",
            "['image_0002.jpg', 35, 153, 59, 342, 'airplane']\n",
            "['image_0003.jpg', 36, 135, 47, 331, 'airplane']\n",
            "['image_0004.jpg', 24, 141, 47, 342, 'airplane']\n",
            "['image_0005.jpg', 18, 146, 48, 339, 'airplane']\n"
          ]
        }
      ]
    },
    {
      "cell_type": "code",
      "source": [
        "face_image = os.listdir(os.path.join(IMAGES_PATH,\"face\"))\n",
        "face_image.sort()\n",
        "# face_image\n",
        "\n",
        "face_labels = os.listdir(os.path.join(LABELS_PATH,\"face\"))\n",
        "face_labels.sort()\n",
        "# face_labels"
      ],
      "metadata": {
        "id": "lHwLCnWywdQ0"
      },
      "execution_count": null,
      "outputs": []
    },
    {
      "cell_type": "code",
      "source": [
        "faces = []\n",
        "\n",
        "for i in range(0, len(face_labels)):\n",
        "\n",
        "  image = face_image[i]\n",
        "  label = face_labels[i]\n",
        "\n",
        "  label_path = os.path.join(LABELS_PATH,\"face\",label)\n",
        "  annot = loadmat(label_path)[\"box_coord\"][0]\n",
        "  #print(type(annot))\n",
        "  print(i)\n",
        "\n",
        "  annot = annot.tolist()\n",
        "  #print(type(annot))\n",
        "\n",
        "  annot.insert(0,image)\n",
        "  annot.insert(5,\"face\")\n",
        "  faces.append(annot)"
      ],
      "metadata": {
        "id": "uRwOsUhiHZYe"
      },
      "execution_count": null,
      "outputs": []
    },
    {
      "cell_type": "code",
      "source": [
        "for i in range(0,5):\n",
        "  print(faces[i])"
      ],
      "metadata": {
        "colab": {
          "base_uri": "https://localhost:8080/"
        },
        "id": "1DoBWr4-NioS",
        "outputId": "2c9d8d87-44f5-4c49-f57c-f24408d2b471"
      },
      "execution_count": null,
      "outputs": [
        {
          "output_type": "stream",
          "name": "stdout",
          "text": [
            "['image_0001.jpg', 15, 300, 251, 444, 'face']\n",
            "['image_0002.jpg', 31, 310, 106, 296, 'face']\n",
            "['image_0003.jpg', 17, 279, 207, 385, 'face']\n",
            "['image_0004.jpg', 55, 328, 102, 303, 'face']\n",
            "['image_0005.jpg', 30, 312, 246, 446, 'face']\n"
          ]
        }
      ]
    },
    {
      "cell_type": "code",
      "source": [
        "all_data=[airplanes, motorbikes, faces]"
      ],
      "metadata": {
        "id": "uiOYULEcMsvl"
      },
      "execution_count": null,
      "outputs": []
    },
    {
      "cell_type": "code",
      "source": [
        "all_data[0][:2]"
      ],
      "metadata": {
        "colab": {
          "base_uri": "https://localhost:8080/"
        },
        "id": "HfLzUmbCHZRp",
        "outputId": "ec697bf5-d0a8-463f-ac96-8eeaedd35aaf"
      },
      "execution_count": null,
      "outputs": [
        {
          "output_type": "execute_result",
          "data": {
            "text/plain": [
              "[['image_0001.jpg', 30, 137, 49, 349, 'airplane'],\n",
              " ['image_0002.jpg', 35, 153, 59, 342, 'airplane']]"
            ]
          },
          "metadata": {},
          "execution_count": 22
        }
      ]
    },
    {
      "cell_type": "code",
      "source": [
        "all_data[1][:2]"
      ],
      "metadata": {
        "colab": {
          "base_uri": "https://localhost:8080/"
        },
        "id": "dKNBBRCszs-2",
        "outputId": "57820a24-3890-42d7-b1e7-ae2b441037d1"
      },
      "execution_count": null,
      "outputs": [
        {
          "output_type": "execute_result",
          "data": {
            "text/plain": [
              "[['image_0001.jpg', 19, 141, 31, 233, 'motorbike'],\n",
              " ['image_0002.jpg', 15, 142, 32, 232, 'motorbike']]"
            ]
          },
          "metadata": {},
          "execution_count": 23
        }
      ]
    },
    {
      "cell_type": "code",
      "source": [
        "all_data[2][:2]"
      ],
      "metadata": {
        "colab": {
          "base_uri": "https://localhost:8080/"
        },
        "id": "OiITrRqlztUu",
        "outputId": "1c533123-1157-498a-f04b-f111f35d86ce"
      },
      "execution_count": null,
      "outputs": [
        {
          "output_type": "execute_result",
          "data": {
            "text/plain": [
              "[['image_0001.jpg', 15, 300, 251, 444, 'face'],\n",
              " ['image_0002.jpg', 31, 310, 106, 296, 'face']]"
            ]
          },
          "metadata": {},
          "execution_count": 24
        }
      ]
    },
    {
      "cell_type": "code",
      "source": [
        "data = []\n",
        "labels = []\n",
        "bboxes = []\n",
        "imagePaths = []"
      ],
      "metadata": {
        "id": "DFfF16KWNogK"
      },
      "execution_count": null,
      "outputs": []
    },
    {
      "cell_type": "markdown",
      "source": [
        "Eğitim için Görüntüleri Hazırlama"
      ],
      "metadata": {
        "id": "afn4b1y1drQs"
      }
    },
    {
      "cell_type": "code",
      "source": [
        "import os\n",
        "import cv2\n",
        "import numpy as np\n",
        "\n",
        "from tensorflow.keras.preprocessing.image import load_img\n",
        "from tensorflow.keras.preprocessing.image import img_to_array"
      ],
      "metadata": {
        "id": "9pw-Yhaj1EF6"
      },
      "execution_count": null,
      "outputs": []
    },
    {
      "cell_type": "code",
      "source": [
        "i = 0\n",
        "for item in all_data:\n",
        "  for info in item:\n",
        "    i = i+1\n",
        "    (filename, startY, endY, startX, endX, label) = info\n",
        "\n",
        "    image_path = os.path.join(IMAGES_PATH,label,filename)\n",
        "    print(i)\n",
        "\n",
        "    image = cv2.imread(image_path)\n",
        "    (h,w) = image.shape[:2]\n",
        "\n",
        "    startX = float(startX) / w\n",
        "    startY = float(startY) / h\n",
        "    endX = float(endX) / w\n",
        "    endY = float(endY) / h\n",
        "\n",
        "    image = load_img(image_path, target_size=(224,224))\n",
        "    image = img_to_array(image)\n",
        "\n",
        "    data.append(image)\n",
        "    labels.append(label)\n",
        "    bboxes.append((startX, startY, endX, endY))\n",
        "    imagePaths.append(filename)"
      ],
      "metadata": {
        "colab": {
          "base_uri": "https://localhost:8080/"
        },
        "id": "zFgcENUkPtPm",
        "outputId": "d0ba5bfe-2365-4ea4-f56e-06ed76b45e6e"
      },
      "execution_count": null,
      "outputs": [
        {
          "output_type": "stream",
          "name": "stdout",
          "text": [
            "1\n",
            "2\n",
            "3\n",
            "4\n",
            "5\n",
            "6\n",
            "7\n",
            "8\n",
            "9\n",
            "10\n",
            "11\n",
            "12\n",
            "13\n",
            "14\n",
            "15\n",
            "16\n",
            "17\n",
            "18\n",
            "19\n",
            "20\n",
            "21\n",
            "22\n",
            "23\n",
            "24\n",
            "25\n",
            "26\n",
            "27\n",
            "28\n",
            "29\n",
            "30\n",
            "31\n",
            "32\n",
            "33\n",
            "34\n",
            "35\n",
            "36\n",
            "37\n",
            "38\n",
            "39\n",
            "40\n",
            "41\n",
            "42\n",
            "43\n",
            "44\n",
            "45\n",
            "46\n",
            "47\n",
            "48\n",
            "49\n",
            "50\n",
            "51\n",
            "52\n",
            "53\n",
            "54\n",
            "55\n",
            "56\n",
            "57\n",
            "58\n",
            "59\n",
            "60\n",
            "61\n",
            "62\n",
            "63\n",
            "64\n",
            "65\n",
            "66\n",
            "67\n",
            "68\n",
            "69\n",
            "70\n",
            "71\n",
            "72\n",
            "73\n",
            "74\n",
            "75\n",
            "76\n",
            "77\n",
            "78\n",
            "79\n",
            "80\n",
            "81\n",
            "82\n",
            "83\n",
            "84\n",
            "85\n",
            "86\n",
            "87\n",
            "88\n",
            "89\n",
            "90\n",
            "91\n",
            "92\n",
            "93\n",
            "94\n",
            "95\n",
            "96\n",
            "97\n",
            "98\n",
            "99\n",
            "100\n",
            "101\n",
            "102\n",
            "103\n",
            "104\n",
            "105\n",
            "106\n",
            "107\n",
            "108\n",
            "109\n",
            "110\n",
            "111\n",
            "112\n",
            "113\n",
            "114\n",
            "115\n",
            "116\n",
            "117\n",
            "118\n",
            "119\n",
            "120\n",
            "121\n",
            "122\n",
            "123\n",
            "124\n",
            "125\n",
            "126\n",
            "127\n",
            "128\n",
            "129\n",
            "130\n",
            "131\n",
            "132\n",
            "133\n",
            "134\n",
            "135\n",
            "136\n",
            "137\n",
            "138\n",
            "139\n",
            "140\n",
            "141\n",
            "142\n",
            "143\n",
            "144\n",
            "145\n",
            "146\n",
            "147\n",
            "148\n",
            "149\n",
            "150\n",
            "151\n",
            "152\n",
            "153\n",
            "154\n",
            "155\n",
            "156\n",
            "157\n",
            "158\n",
            "159\n",
            "160\n",
            "161\n",
            "162\n",
            "163\n",
            "164\n",
            "165\n",
            "166\n",
            "167\n",
            "168\n",
            "169\n",
            "170\n",
            "171\n",
            "172\n",
            "173\n",
            "174\n",
            "175\n",
            "176\n",
            "177\n",
            "178\n",
            "179\n",
            "180\n",
            "181\n",
            "182\n",
            "183\n",
            "184\n",
            "185\n",
            "186\n",
            "187\n",
            "188\n",
            "189\n",
            "190\n",
            "191\n",
            "192\n",
            "193\n",
            "194\n",
            "195\n",
            "196\n",
            "197\n",
            "198\n",
            "199\n",
            "200\n",
            "201\n",
            "202\n",
            "203\n",
            "204\n",
            "205\n",
            "206\n",
            "207\n",
            "208\n",
            "209\n",
            "210\n",
            "211\n",
            "212\n",
            "213\n",
            "214\n",
            "215\n",
            "216\n",
            "217\n",
            "218\n",
            "219\n",
            "220\n",
            "221\n",
            "222\n",
            "223\n",
            "224\n",
            "225\n",
            "226\n",
            "227\n",
            "228\n",
            "229\n",
            "230\n",
            "231\n",
            "232\n",
            "233\n",
            "234\n",
            "235\n",
            "236\n",
            "237\n",
            "238\n",
            "239\n",
            "240\n",
            "241\n",
            "242\n",
            "243\n",
            "244\n",
            "245\n",
            "246\n",
            "247\n",
            "248\n",
            "249\n",
            "250\n",
            "251\n",
            "252\n",
            "253\n",
            "254\n",
            "255\n",
            "256\n",
            "257\n",
            "258\n",
            "259\n",
            "260\n",
            "261\n",
            "262\n",
            "263\n",
            "264\n",
            "265\n",
            "266\n",
            "267\n",
            "268\n",
            "269\n",
            "270\n",
            "271\n",
            "272\n",
            "273\n",
            "274\n",
            "275\n",
            "276\n",
            "277\n",
            "278\n",
            "279\n",
            "280\n",
            "281\n",
            "282\n",
            "283\n",
            "284\n",
            "285\n",
            "286\n",
            "287\n",
            "288\n",
            "289\n",
            "290\n",
            "291\n",
            "292\n",
            "293\n",
            "294\n",
            "295\n",
            "296\n",
            "297\n",
            "298\n",
            "299\n",
            "300\n",
            "301\n",
            "302\n",
            "303\n",
            "304\n",
            "305\n",
            "306\n",
            "307\n",
            "308\n",
            "309\n",
            "310\n",
            "311\n",
            "312\n",
            "313\n",
            "314\n",
            "315\n",
            "316\n",
            "317\n",
            "318\n",
            "319\n",
            "320\n",
            "321\n",
            "322\n",
            "323\n",
            "324\n",
            "325\n",
            "326\n",
            "327\n",
            "328\n",
            "329\n",
            "330\n",
            "331\n",
            "332\n",
            "333\n",
            "334\n",
            "335\n",
            "336\n",
            "337\n",
            "338\n",
            "339\n",
            "340\n",
            "341\n",
            "342\n",
            "343\n",
            "344\n",
            "345\n",
            "346\n",
            "347\n",
            "348\n",
            "349\n",
            "350\n",
            "351\n",
            "352\n",
            "353\n",
            "354\n",
            "355\n",
            "356\n",
            "357\n",
            "358\n",
            "359\n",
            "360\n",
            "361\n",
            "362\n",
            "363\n",
            "364\n",
            "365\n",
            "366\n",
            "367\n",
            "368\n",
            "369\n",
            "370\n",
            "371\n",
            "372\n",
            "373\n",
            "374\n",
            "375\n",
            "376\n",
            "377\n",
            "378\n",
            "379\n",
            "380\n",
            "381\n",
            "382\n",
            "383\n",
            "384\n",
            "385\n",
            "386\n",
            "387\n",
            "388\n",
            "389\n",
            "390\n",
            "391\n",
            "392\n",
            "393\n",
            "394\n",
            "395\n",
            "396\n",
            "397\n",
            "398\n",
            "399\n",
            "400\n",
            "401\n",
            "402\n",
            "403\n",
            "404\n",
            "405\n",
            "406\n",
            "407\n",
            "408\n",
            "409\n",
            "410\n",
            "411\n",
            "412\n",
            "413\n",
            "414\n",
            "415\n",
            "416\n",
            "417\n",
            "418\n",
            "419\n",
            "420\n",
            "421\n",
            "422\n",
            "423\n",
            "424\n",
            "425\n",
            "426\n",
            "427\n",
            "428\n",
            "429\n",
            "430\n",
            "431\n",
            "432\n",
            "433\n",
            "434\n",
            "435\n",
            "436\n",
            "437\n",
            "438\n",
            "439\n",
            "440\n",
            "441\n",
            "442\n",
            "443\n",
            "444\n",
            "445\n",
            "446\n",
            "447\n",
            "448\n",
            "449\n",
            "450\n",
            "451\n",
            "452\n",
            "453\n",
            "454\n",
            "455\n",
            "456\n",
            "457\n",
            "458\n",
            "459\n",
            "460\n",
            "461\n",
            "462\n",
            "463\n",
            "464\n",
            "465\n",
            "466\n",
            "467\n",
            "468\n",
            "469\n",
            "470\n",
            "471\n",
            "472\n",
            "473\n",
            "474\n",
            "475\n",
            "476\n",
            "477\n",
            "478\n",
            "479\n",
            "480\n",
            "481\n",
            "482\n",
            "483\n",
            "484\n",
            "485\n",
            "486\n",
            "487\n",
            "488\n",
            "489\n",
            "490\n",
            "491\n",
            "492\n",
            "493\n",
            "494\n",
            "495\n",
            "496\n",
            "497\n",
            "498\n",
            "499\n",
            "500\n",
            "501\n",
            "502\n",
            "503\n",
            "504\n",
            "505\n",
            "506\n",
            "507\n",
            "508\n",
            "509\n",
            "510\n",
            "511\n",
            "512\n",
            "513\n",
            "514\n",
            "515\n",
            "516\n",
            "517\n",
            "518\n",
            "519\n",
            "520\n",
            "521\n",
            "522\n",
            "523\n",
            "524\n",
            "525\n",
            "526\n",
            "527\n",
            "528\n",
            "529\n",
            "530\n",
            "531\n",
            "532\n",
            "533\n",
            "534\n",
            "535\n",
            "536\n",
            "537\n",
            "538\n",
            "539\n",
            "540\n",
            "541\n",
            "542\n",
            "543\n",
            "544\n",
            "545\n",
            "546\n",
            "547\n",
            "548\n",
            "549\n",
            "550\n",
            "551\n",
            "552\n",
            "553\n",
            "554\n",
            "555\n",
            "556\n",
            "557\n",
            "558\n",
            "559\n",
            "560\n",
            "561\n",
            "562\n",
            "563\n",
            "564\n",
            "565\n",
            "566\n",
            "567\n",
            "568\n",
            "569\n",
            "570\n",
            "571\n",
            "572\n",
            "573\n",
            "574\n",
            "575\n",
            "576\n",
            "577\n",
            "578\n",
            "579\n",
            "580\n",
            "581\n",
            "582\n",
            "583\n",
            "584\n",
            "585\n",
            "586\n",
            "587\n",
            "588\n",
            "589\n",
            "590\n",
            "591\n",
            "592\n",
            "593\n",
            "594\n",
            "595\n",
            "596\n",
            "597\n",
            "598\n",
            "599\n",
            "600\n",
            "601\n",
            "602\n",
            "603\n",
            "604\n",
            "605\n",
            "606\n",
            "607\n",
            "608\n",
            "609\n",
            "610\n",
            "611\n",
            "612\n",
            "613\n",
            "614\n",
            "615\n",
            "616\n",
            "617\n",
            "618\n",
            "619\n",
            "620\n",
            "621\n",
            "622\n",
            "623\n",
            "624\n",
            "625\n",
            "626\n",
            "627\n",
            "628\n",
            "629\n",
            "630\n",
            "631\n",
            "632\n",
            "633\n",
            "634\n",
            "635\n",
            "636\n",
            "637\n",
            "638\n",
            "639\n",
            "640\n",
            "641\n",
            "642\n",
            "643\n",
            "644\n",
            "645\n",
            "646\n",
            "647\n",
            "648\n",
            "649\n",
            "650\n",
            "651\n",
            "652\n",
            "653\n",
            "654\n",
            "655\n",
            "656\n",
            "657\n",
            "658\n",
            "659\n",
            "660\n",
            "661\n",
            "662\n",
            "663\n",
            "664\n",
            "665\n",
            "666\n",
            "667\n",
            "668\n",
            "669\n",
            "670\n",
            "671\n",
            "672\n",
            "673\n",
            "674\n",
            "675\n",
            "676\n",
            "677\n",
            "678\n",
            "679\n",
            "680\n",
            "681\n",
            "682\n",
            "683\n",
            "684\n",
            "685\n",
            "686\n",
            "687\n",
            "688\n",
            "689\n",
            "690\n",
            "691\n",
            "692\n",
            "693\n",
            "694\n",
            "695\n",
            "696\n",
            "697\n",
            "698\n",
            "699\n",
            "700\n",
            "701\n",
            "702\n",
            "703\n",
            "704\n",
            "705\n",
            "706\n",
            "707\n",
            "708\n",
            "709\n",
            "710\n",
            "711\n",
            "712\n",
            "713\n",
            "714\n",
            "715\n",
            "716\n",
            "717\n",
            "718\n",
            "719\n",
            "720\n",
            "721\n",
            "722\n",
            "723\n",
            "724\n",
            "725\n",
            "726\n",
            "727\n",
            "728\n",
            "729\n",
            "730\n",
            "731\n",
            "732\n",
            "733\n",
            "734\n",
            "735\n",
            "736\n",
            "737\n",
            "738\n",
            "739\n",
            "740\n",
            "741\n",
            "742\n",
            "743\n",
            "744\n",
            "745\n",
            "746\n",
            "747\n",
            "748\n",
            "749\n",
            "750\n",
            "751\n",
            "752\n",
            "753\n",
            "754\n",
            "755\n",
            "756\n",
            "757\n",
            "758\n",
            "759\n",
            "760\n",
            "761\n",
            "762\n",
            "763\n",
            "764\n",
            "765\n",
            "766\n",
            "767\n",
            "768\n",
            "769\n",
            "770\n",
            "771\n",
            "772\n",
            "773\n",
            "774\n",
            "775\n",
            "776\n",
            "777\n",
            "778\n",
            "779\n",
            "780\n",
            "781\n",
            "782\n",
            "783\n",
            "784\n",
            "785\n",
            "786\n",
            "787\n",
            "788\n",
            "789\n",
            "790\n",
            "791\n",
            "792\n",
            "793\n",
            "794\n",
            "795\n",
            "796\n",
            "797\n",
            "798\n",
            "799\n",
            "800\n",
            "801\n",
            "802\n",
            "803\n",
            "804\n",
            "805\n",
            "806\n",
            "807\n",
            "808\n",
            "809\n",
            "810\n",
            "811\n",
            "812\n",
            "813\n",
            "814\n",
            "815\n",
            "816\n",
            "817\n",
            "818\n",
            "819\n",
            "820\n",
            "821\n",
            "822\n",
            "823\n",
            "824\n",
            "825\n",
            "826\n",
            "827\n",
            "828\n",
            "829\n",
            "830\n",
            "831\n",
            "832\n",
            "833\n",
            "834\n",
            "835\n",
            "836\n",
            "837\n",
            "838\n",
            "839\n",
            "840\n",
            "841\n",
            "842\n",
            "843\n",
            "844\n",
            "845\n",
            "846\n",
            "847\n",
            "848\n",
            "849\n",
            "850\n",
            "851\n",
            "852\n",
            "853\n",
            "854\n",
            "855\n",
            "856\n",
            "857\n",
            "858\n",
            "859\n",
            "860\n",
            "861\n",
            "862\n",
            "863\n",
            "864\n",
            "865\n",
            "866\n",
            "867\n",
            "868\n",
            "869\n",
            "870\n",
            "871\n",
            "872\n",
            "873\n",
            "874\n",
            "875\n",
            "876\n",
            "877\n",
            "878\n",
            "879\n",
            "880\n",
            "881\n",
            "882\n",
            "883\n",
            "884\n",
            "885\n",
            "886\n",
            "887\n",
            "888\n",
            "889\n",
            "890\n",
            "891\n",
            "892\n",
            "893\n",
            "894\n",
            "895\n",
            "896\n",
            "897\n",
            "898\n",
            "899\n",
            "900\n",
            "901\n",
            "902\n",
            "903\n",
            "904\n",
            "905\n",
            "906\n",
            "907\n",
            "908\n",
            "909\n",
            "910\n",
            "911\n",
            "912\n",
            "913\n",
            "914\n",
            "915\n",
            "916\n",
            "917\n",
            "918\n",
            "919\n",
            "920\n",
            "921\n",
            "922\n",
            "923\n",
            "924\n",
            "925\n",
            "926\n",
            "927\n",
            "928\n",
            "929\n",
            "930\n",
            "931\n",
            "932\n",
            "933\n",
            "934\n",
            "935\n",
            "936\n",
            "937\n",
            "938\n",
            "939\n",
            "940\n",
            "941\n",
            "942\n",
            "943\n",
            "944\n",
            "945\n",
            "946\n",
            "947\n",
            "948\n",
            "949\n",
            "950\n",
            "951\n",
            "952\n",
            "953\n",
            "954\n",
            "955\n",
            "956\n",
            "957\n",
            "958\n",
            "959\n",
            "960\n",
            "961\n",
            "962\n",
            "963\n",
            "964\n",
            "965\n",
            "966\n",
            "967\n",
            "968\n",
            "969\n",
            "970\n",
            "971\n",
            "972\n",
            "973\n",
            "974\n",
            "975\n",
            "976\n",
            "977\n",
            "978\n",
            "979\n",
            "980\n",
            "981\n",
            "982\n",
            "983\n",
            "984\n",
            "985\n",
            "986\n",
            "987\n",
            "988\n",
            "989\n",
            "990\n",
            "991\n",
            "992\n",
            "993\n",
            "994\n",
            "995\n",
            "996\n",
            "997\n",
            "998\n",
            "999\n",
            "1000\n",
            "1001\n",
            "1002\n",
            "1003\n",
            "1004\n",
            "1005\n",
            "1006\n",
            "1007\n",
            "1008\n",
            "1009\n",
            "1010\n",
            "1011\n",
            "1012\n",
            "1013\n",
            "1014\n",
            "1015\n",
            "1016\n",
            "1017\n",
            "1018\n",
            "1019\n",
            "1020\n",
            "1021\n",
            "1022\n",
            "1023\n",
            "1024\n",
            "1025\n",
            "1026\n",
            "1027\n",
            "1028\n",
            "1029\n",
            "1030\n",
            "1031\n",
            "1032\n",
            "1033\n",
            "1034\n",
            "1035\n",
            "1036\n",
            "1037\n",
            "1038\n",
            "1039\n",
            "1040\n",
            "1041\n",
            "1042\n",
            "1043\n",
            "1044\n",
            "1045\n",
            "1046\n",
            "1047\n",
            "1048\n",
            "1049\n",
            "1050\n",
            "1051\n",
            "1052\n",
            "1053\n",
            "1054\n",
            "1055\n",
            "1056\n",
            "1057\n",
            "1058\n",
            "1059\n",
            "1060\n",
            "1061\n",
            "1062\n",
            "1063\n",
            "1064\n",
            "1065\n",
            "1066\n",
            "1067\n",
            "1068\n",
            "1069\n",
            "1070\n",
            "1071\n",
            "1072\n",
            "1073\n",
            "1074\n",
            "1075\n",
            "1076\n",
            "1077\n",
            "1078\n",
            "1079\n",
            "1080\n",
            "1081\n",
            "1082\n",
            "1083\n",
            "1084\n",
            "1085\n",
            "1086\n",
            "1087\n",
            "1088\n",
            "1089\n",
            "1090\n",
            "1091\n",
            "1092\n",
            "1093\n",
            "1094\n",
            "1095\n",
            "1096\n",
            "1097\n",
            "1098\n",
            "1099\n",
            "1100\n",
            "1101\n",
            "1102\n",
            "1103\n",
            "1104\n",
            "1105\n",
            "1106\n",
            "1107\n",
            "1108\n",
            "1109\n",
            "1110\n",
            "1111\n",
            "1112\n",
            "1113\n",
            "1114\n",
            "1115\n",
            "1116\n",
            "1117\n",
            "1118\n",
            "1119\n",
            "1120\n",
            "1121\n",
            "1122\n",
            "1123\n",
            "1124\n",
            "1125\n",
            "1126\n",
            "1127\n",
            "1128\n",
            "1129\n",
            "1130\n",
            "1131\n",
            "1132\n",
            "1133\n",
            "1134\n",
            "1135\n",
            "1136\n",
            "1137\n",
            "1138\n",
            "1139\n",
            "1140\n",
            "1141\n",
            "1142\n",
            "1143\n",
            "1144\n",
            "1145\n",
            "1146\n",
            "1147\n",
            "1148\n",
            "1149\n",
            "1150\n",
            "1151\n",
            "1152\n",
            "1153\n",
            "1154\n",
            "1155\n",
            "1156\n",
            "1157\n",
            "1158\n",
            "1159\n",
            "1160\n",
            "1161\n",
            "1162\n",
            "1163\n",
            "1164\n",
            "1165\n",
            "1166\n",
            "1167\n",
            "1168\n",
            "1169\n",
            "1170\n",
            "1171\n",
            "1172\n",
            "1173\n",
            "1174\n",
            "1175\n",
            "1176\n",
            "1177\n",
            "1178\n",
            "1179\n",
            "1180\n",
            "1181\n",
            "1182\n",
            "1183\n",
            "1184\n",
            "1185\n",
            "1186\n",
            "1187\n",
            "1188\n",
            "1189\n",
            "1190\n",
            "1191\n",
            "1192\n",
            "1193\n",
            "1194\n",
            "1195\n",
            "1196\n",
            "1197\n",
            "1198\n",
            "1199\n",
            "1200\n",
            "1201\n",
            "1202\n",
            "1203\n",
            "1204\n",
            "1205\n",
            "1206\n",
            "1207\n",
            "1208\n",
            "1209\n",
            "1210\n",
            "1211\n",
            "1212\n",
            "1213\n",
            "1214\n",
            "1215\n",
            "1216\n",
            "1217\n",
            "1218\n",
            "1219\n",
            "1220\n",
            "1221\n",
            "1222\n",
            "1223\n",
            "1224\n",
            "1225\n",
            "1226\n",
            "1227\n",
            "1228\n",
            "1229\n",
            "1230\n",
            "1231\n",
            "1232\n",
            "1233\n",
            "1234\n",
            "1235\n",
            "1236\n",
            "1237\n",
            "1238\n",
            "1239\n",
            "1240\n",
            "1241\n",
            "1242\n",
            "1243\n",
            "1244\n",
            "1245\n",
            "1246\n",
            "1247\n",
            "1248\n",
            "1249\n",
            "1250\n",
            "1251\n",
            "1252\n",
            "1253\n",
            "1254\n",
            "1255\n",
            "1256\n",
            "1257\n",
            "1258\n",
            "1259\n",
            "1260\n",
            "1261\n",
            "1262\n",
            "1263\n",
            "1264\n",
            "1265\n",
            "1266\n",
            "1267\n",
            "1268\n",
            "1269\n",
            "1270\n",
            "1271\n",
            "1272\n",
            "1273\n",
            "1274\n",
            "1275\n",
            "1276\n",
            "1277\n",
            "1278\n",
            "1279\n",
            "1280\n",
            "1281\n",
            "1282\n",
            "1283\n",
            "1284\n",
            "1285\n",
            "1286\n",
            "1287\n",
            "1288\n",
            "1289\n",
            "1290\n",
            "1291\n",
            "1292\n",
            "1293\n",
            "1294\n",
            "1295\n",
            "1296\n",
            "1297\n",
            "1298\n",
            "1299\n",
            "1300\n",
            "1301\n",
            "1302\n",
            "1303\n",
            "1304\n",
            "1305\n",
            "1306\n",
            "1307\n",
            "1308\n",
            "1309\n",
            "1310\n",
            "1311\n",
            "1312\n",
            "1313\n",
            "1314\n",
            "1315\n",
            "1316\n",
            "1317\n",
            "1318\n",
            "1319\n",
            "1320\n",
            "1321\n",
            "1322\n",
            "1323\n",
            "1324\n",
            "1325\n",
            "1326\n",
            "1327\n",
            "1328\n",
            "1329\n",
            "1330\n",
            "1331\n",
            "1332\n",
            "1333\n",
            "1334\n",
            "1335\n",
            "1336\n",
            "1337\n",
            "1338\n",
            "1339\n",
            "1340\n",
            "1341\n",
            "1342\n",
            "1343\n",
            "1344\n",
            "1345\n",
            "1346\n",
            "1347\n",
            "1348\n",
            "1349\n",
            "1350\n",
            "1351\n",
            "1352\n",
            "1353\n",
            "1354\n",
            "1355\n",
            "1356\n",
            "1357\n",
            "1358\n",
            "1359\n",
            "1360\n",
            "1361\n",
            "1362\n",
            "1363\n",
            "1364\n",
            "1365\n",
            "1366\n",
            "1367\n",
            "1368\n",
            "1369\n",
            "1370\n",
            "1371\n",
            "1372\n",
            "1373\n",
            "1374\n",
            "1375\n",
            "1376\n",
            "1377\n",
            "1378\n",
            "1379\n",
            "1380\n",
            "1381\n",
            "1382\n",
            "1383\n",
            "1384\n",
            "1385\n",
            "1386\n",
            "1387\n",
            "1388\n",
            "1389\n",
            "1390\n",
            "1391\n",
            "1392\n",
            "1393\n",
            "1394\n",
            "1395\n",
            "1396\n",
            "1397\n",
            "1398\n",
            "1399\n",
            "1400\n",
            "1401\n",
            "1402\n",
            "1403\n",
            "1404\n",
            "1405\n",
            "1406\n",
            "1407\n",
            "1408\n",
            "1409\n",
            "1410\n",
            "1411\n",
            "1412\n",
            "1413\n",
            "1414\n",
            "1415\n",
            "1416\n",
            "1417\n",
            "1418\n",
            "1419\n",
            "1420\n",
            "1421\n",
            "1422\n",
            "1423\n",
            "1424\n",
            "1425\n",
            "1426\n",
            "1427\n",
            "1428\n",
            "1429\n",
            "1430\n",
            "1431\n",
            "1432\n",
            "1433\n",
            "1434\n",
            "1435\n",
            "1436\n",
            "1437\n",
            "1438\n",
            "1439\n",
            "1440\n",
            "1441\n",
            "1442\n",
            "1443\n",
            "1444\n",
            "1445\n",
            "1446\n",
            "1447\n",
            "1448\n",
            "1449\n",
            "1450\n",
            "1451\n",
            "1452\n",
            "1453\n",
            "1454\n",
            "1455\n",
            "1456\n",
            "1457\n",
            "1458\n",
            "1459\n",
            "1460\n",
            "1461\n",
            "1462\n",
            "1463\n",
            "1464\n",
            "1465\n",
            "1466\n",
            "1467\n",
            "1468\n",
            "1469\n",
            "1470\n",
            "1471\n",
            "1472\n",
            "1473\n",
            "1474\n",
            "1475\n",
            "1476\n",
            "1477\n",
            "1478\n",
            "1479\n",
            "1480\n",
            "1481\n",
            "1482\n",
            "1483\n",
            "1484\n",
            "1485\n",
            "1486\n",
            "1487\n",
            "1488\n",
            "1489\n",
            "1490\n",
            "1491\n",
            "1492\n",
            "1493\n",
            "1494\n",
            "1495\n",
            "1496\n",
            "1497\n",
            "1498\n",
            "1499\n",
            "1500\n",
            "1501\n",
            "1502\n",
            "1503\n",
            "1504\n",
            "1505\n",
            "1506\n",
            "1507\n",
            "1508\n",
            "1509\n",
            "1510\n",
            "1511\n",
            "1512\n",
            "1513\n",
            "1514\n",
            "1515\n",
            "1516\n",
            "1517\n",
            "1518\n",
            "1519\n",
            "1520\n",
            "1521\n",
            "1522\n",
            "1523\n",
            "1524\n",
            "1525\n",
            "1526\n",
            "1527\n",
            "1528\n",
            "1529\n",
            "1530\n",
            "1531\n",
            "1532\n",
            "1533\n",
            "1534\n",
            "1535\n",
            "1536\n",
            "1537\n",
            "1538\n",
            "1539\n",
            "1540\n",
            "1541\n",
            "1542\n",
            "1543\n",
            "1544\n",
            "1545\n",
            "1546\n",
            "1547\n",
            "1548\n",
            "1549\n",
            "1550\n",
            "1551\n",
            "1552\n",
            "1553\n",
            "1554\n",
            "1555\n",
            "1556\n",
            "1557\n",
            "1558\n",
            "1559\n",
            "1560\n",
            "1561\n",
            "1562\n",
            "1563\n",
            "1564\n",
            "1565\n",
            "1566\n",
            "1567\n",
            "1568\n",
            "1569\n",
            "1570\n",
            "1571\n",
            "1572\n",
            "1573\n",
            "1574\n",
            "1575\n",
            "1576\n",
            "1577\n",
            "1578\n",
            "1579\n",
            "1580\n",
            "1581\n",
            "1582\n",
            "1583\n",
            "1584\n",
            "1585\n",
            "1586\n",
            "1587\n",
            "1588\n",
            "1589\n",
            "1590\n",
            "1591\n",
            "1592\n",
            "1593\n",
            "1594\n",
            "1595\n",
            "1596\n",
            "1597\n",
            "1598\n",
            "1599\n",
            "1600\n",
            "1601\n",
            "1602\n",
            "1603\n",
            "1604\n",
            "1605\n",
            "1606\n",
            "1607\n",
            "1608\n",
            "1609\n",
            "1610\n",
            "1611\n",
            "1612\n",
            "1613\n",
            "1614\n",
            "1615\n",
            "1616\n",
            "1617\n",
            "1618\n",
            "1619\n",
            "1620\n",
            "1621\n",
            "1622\n",
            "1623\n",
            "1624\n",
            "1625\n",
            "1626\n",
            "1627\n",
            "1628\n",
            "1629\n",
            "1630\n",
            "1631\n",
            "1632\n",
            "1633\n",
            "1634\n",
            "1635\n",
            "1636\n",
            "1637\n",
            "1638\n",
            "1639\n",
            "1640\n",
            "1641\n",
            "1642\n",
            "1643\n",
            "1644\n",
            "1645\n",
            "1646\n",
            "1647\n",
            "1648\n",
            "1649\n",
            "1650\n",
            "1651\n",
            "1652\n",
            "1653\n",
            "1654\n",
            "1655\n",
            "1656\n",
            "1657\n",
            "1658\n",
            "1659\n",
            "1660\n",
            "1661\n",
            "1662\n",
            "1663\n",
            "1664\n",
            "1665\n",
            "1666\n",
            "1667\n",
            "1668\n",
            "1669\n",
            "1670\n",
            "1671\n",
            "1672\n",
            "1673\n",
            "1674\n",
            "1675\n",
            "1676\n",
            "1677\n",
            "1678\n",
            "1679\n",
            "1680\n",
            "1681\n",
            "1682\n",
            "1683\n",
            "1684\n",
            "1685\n",
            "1686\n",
            "1687\n",
            "1688\n",
            "1689\n",
            "1690\n",
            "1691\n",
            "1692\n",
            "1693\n",
            "1694\n",
            "1695\n",
            "1696\n",
            "1697\n",
            "1698\n",
            "1699\n",
            "1700\n",
            "1701\n",
            "1702\n",
            "1703\n",
            "1704\n",
            "1705\n",
            "1706\n",
            "1707\n",
            "1708\n",
            "1709\n",
            "1710\n",
            "1711\n",
            "1712\n",
            "1713\n",
            "1714\n",
            "1715\n",
            "1716\n",
            "1717\n",
            "1718\n",
            "1719\n",
            "1720\n",
            "1721\n",
            "1722\n",
            "1723\n",
            "1724\n",
            "1725\n",
            "1726\n",
            "1727\n",
            "1728\n",
            "1729\n",
            "1730\n",
            "1731\n",
            "1732\n",
            "1733\n",
            "1734\n",
            "1735\n",
            "1736\n",
            "1737\n",
            "1738\n",
            "1739\n",
            "1740\n",
            "1741\n",
            "1742\n",
            "1743\n",
            "1744\n",
            "1745\n",
            "1746\n",
            "1747\n",
            "1748\n",
            "1749\n",
            "1750\n",
            "1751\n",
            "1752\n",
            "1753\n",
            "1754\n",
            "1755\n",
            "1756\n",
            "1757\n",
            "1758\n",
            "1759\n",
            "1760\n",
            "1761\n",
            "1762\n",
            "1763\n",
            "1764\n",
            "1765\n",
            "1766\n",
            "1767\n",
            "1768\n",
            "1769\n",
            "1770\n",
            "1771\n",
            "1772\n",
            "1773\n",
            "1774\n",
            "1775\n",
            "1776\n",
            "1777\n",
            "1778\n",
            "1779\n",
            "1780\n",
            "1781\n",
            "1782\n",
            "1783\n",
            "1784\n",
            "1785\n",
            "1786\n",
            "1787\n",
            "1788\n",
            "1789\n",
            "1790\n",
            "1791\n",
            "1792\n",
            "1793\n",
            "1794\n",
            "1795\n",
            "1796\n",
            "1797\n",
            "1798\n",
            "1799\n",
            "1800\n",
            "1801\n",
            "1802\n",
            "1803\n",
            "1804\n",
            "1805\n",
            "1806\n",
            "1807\n",
            "1808\n",
            "1809\n",
            "1810\n",
            "1811\n",
            "1812\n",
            "1813\n",
            "1814\n",
            "1815\n",
            "1816\n",
            "1817\n",
            "1818\n",
            "1819\n",
            "1820\n",
            "1821\n",
            "1822\n",
            "1823\n",
            "1824\n",
            "1825\n",
            "1826\n",
            "1827\n",
            "1828\n",
            "1829\n",
            "1830\n",
            "1831\n",
            "1832\n",
            "1833\n",
            "1834\n",
            "1835\n",
            "1836\n",
            "1837\n",
            "1838\n",
            "1839\n",
            "1840\n",
            "1841\n",
            "1842\n",
            "1843\n",
            "1844\n",
            "1845\n",
            "1846\n",
            "1847\n",
            "1848\n",
            "1849\n",
            "1850\n",
            "1851\n",
            "1852\n",
            "1853\n",
            "1854\n",
            "1855\n",
            "1856\n",
            "1857\n",
            "1858\n",
            "1859\n",
            "1860\n",
            "1861\n",
            "1862\n",
            "1863\n",
            "1864\n",
            "1865\n",
            "1866\n",
            "1867\n",
            "1868\n",
            "1869\n",
            "1870\n",
            "1871\n",
            "1872\n",
            "1873\n",
            "1874\n",
            "1875\n",
            "1876\n",
            "1877\n",
            "1878\n",
            "1879\n",
            "1880\n",
            "1881\n",
            "1882\n",
            "1883\n",
            "1884\n",
            "1885\n",
            "1886\n",
            "1887\n",
            "1888\n",
            "1889\n",
            "1890\n",
            "1891\n",
            "1892\n",
            "1893\n",
            "1894\n",
            "1895\n",
            "1896\n",
            "1897\n",
            "1898\n",
            "1899\n",
            "1900\n",
            "1901\n",
            "1902\n",
            "1903\n",
            "1904\n",
            "1905\n",
            "1906\n",
            "1907\n",
            "1908\n",
            "1909\n",
            "1910\n",
            "1911\n",
            "1912\n",
            "1913\n",
            "1914\n",
            "1915\n",
            "1916\n",
            "1917\n",
            "1918\n",
            "1919\n",
            "1920\n",
            "1921\n",
            "1922\n",
            "1923\n",
            "1924\n",
            "1925\n",
            "1926\n",
            "1927\n",
            "1928\n",
            "1929\n",
            "1930\n",
            "1931\n",
            "1932\n",
            "1933\n",
            "1934\n",
            "1935\n",
            "1936\n",
            "1937\n",
            "1938\n",
            "1939\n",
            "1940\n",
            "1941\n",
            "1942\n",
            "1943\n",
            "1944\n",
            "1945\n",
            "1946\n",
            "1947\n",
            "1948\n",
            "1949\n",
            "1950\n",
            "1951\n",
            "1952\n",
            "1953\n",
            "1954\n",
            "1955\n",
            "1956\n",
            "1957\n",
            "1958\n",
            "1959\n",
            "1960\n",
            "1961\n",
            "1962\n",
            "1963\n",
            "1964\n",
            "1965\n",
            "1966\n",
            "1967\n",
            "1968\n",
            "1969\n",
            "1970\n",
            "1971\n",
            "1972\n",
            "1973\n",
            "1974\n",
            "1975\n",
            "1976\n",
            "1977\n",
            "1978\n",
            "1979\n",
            "1980\n",
            "1981\n",
            "1982\n",
            "1983\n",
            "1984\n",
            "1985\n",
            "1986\n",
            "1987\n",
            "1988\n",
            "1989\n",
            "1990\n",
            "1991\n",
            "1992\n",
            "1993\n",
            "1994\n",
            "1995\n",
            "1996\n",
            "1997\n",
            "1998\n",
            "1999\n",
            "2000\n",
            "2001\n",
            "2002\n",
            "2003\n",
            "2004\n",
            "2005\n",
            "2006\n",
            "2007\n",
            "2008\n",
            "2009\n",
            "2010\n",
            "2011\n",
            "2012\n",
            "2013\n",
            "2014\n",
            "2015\n",
            "2016\n",
            "2017\n",
            "2018\n",
            "2019\n",
            "2020\n",
            "2021\n",
            "2022\n",
            "2023\n",
            "2024\n",
            "2025\n",
            "2026\n",
            "2027\n",
            "2028\n",
            "2029\n",
            "2030\n",
            "2031\n",
            "2032\n",
            "2033\n"
          ]
        }
      ]
    },
    {
      "cell_type": "code",
      "source": [
        "len(labels)"
      ],
      "metadata": {
        "id": "aFFAFyurN9Hz",
        "colab": {
          "base_uri": "https://localhost:8080/"
        },
        "outputId": "2e822cf7-5b2f-4328-b09a-e6ae301c43a6"
      },
      "execution_count": null,
      "outputs": [
        {
          "output_type": "execute_result",
          "data": {
            "text/plain": [
              "2033"
            ]
          },
          "metadata": {},
          "execution_count": 28
        }
      ]
    },
    {
      "cell_type": "code",
      "source": [
        "# [0,255] --> [0,1]\n",
        "data = np.array(data, dtype=\"float32\") / 255.0\n",
        "labels = np.array(labels)\n",
        "\n",
        "bboxes = np.array(bboxes, dtype=\"float32\")\n",
        "imagePaths = np.array(imagePaths)"
      ],
      "metadata": {
        "id": "CBcbMNWkN9FF"
      },
      "execution_count": null,
      "outputs": []
    },
    {
      "cell_type": "markdown",
      "source": [
        "One-Hot Encoding"
      ],
      "metadata": {
        "id": "cOE7G2do3Dru"
      }
    },
    {
      "cell_type": "code",
      "source": [
        "from sklearn.model_selection import train_test_split\n",
        "from sklearn.preprocessing import LabelBinarizer\n",
        "from tensorflow.keras.utils import to_categorical"
      ],
      "metadata": {
        "id": "oJB5jK8i20ti"
      },
      "execution_count": null,
      "outputs": []
    },
    {
      "cell_type": "markdown",
      "source": [
        "`labels = motorbike, face, airplane`\n",
        "\n",
        "`[1,0,0]`\n",
        "\n",
        "`[0,1,0]`\n",
        "\n",
        "`[0,0,1]`"
      ],
      "metadata": {
        "id": "9-FP1dNg21v6"
      }
    },
    {
      "cell_type": "code",
      "source": [
        "lb = LabelBinarizer()\n",
        "labels = lb.fit_transform(labels)\n",
        "\n",
        "if len(lb.classes_) == 2:\n",
        "\tlabels = to_categorical(labels)"
      ],
      "metadata": {
        "id": "017wehYZ2Ngf"
      },
      "execution_count": null,
      "outputs": []
    },
    {
      "cell_type": "code",
      "source": [
        "data.shape"
      ],
      "metadata": {
        "id": "94sqqote2O95",
        "colab": {
          "base_uri": "https://localhost:8080/"
        },
        "outputId": "474f2b27-fc8e-4ecd-d186-eb3f95d8137f"
      },
      "execution_count": null,
      "outputs": [
        {
          "output_type": "execute_result",
          "data": {
            "text/plain": [
              "(2033, 224, 224, 3)"
            ]
          },
          "metadata": {},
          "execution_count": 32
        }
      ]
    },
    {
      "cell_type": "code",
      "source": [
        "# 80%(train)- 20%(test)\n",
        "split = train_test_split(data, labels, bboxes, imagePaths, test_size=0.20, random_state=42)"
      ],
      "metadata": {
        "id": "Z6BVEDtPN9Cl"
      },
      "execution_count": null,
      "outputs": []
    },
    {
      "cell_type": "code",
      "source": [
        "(trainImages, testImages) = split[:2]\n",
        "(trainLabels, testLabels) = split[2:4]\n",
        "(trainBBoxes, testBBoxes) = split[4:6]\n",
        "(trainPaths, testFilenames) = split[6:]"
      ],
      "metadata": {
        "id": "28UJT3t2N9AB"
      },
      "execution_count": null,
      "outputs": []
    },
    {
      "cell_type": "code",
      "source": [
        "test_paths = []\n",
        "\n",
        "for i in range(0,len(testFilenames)):\n",
        "  test_paths.append(testFilenames[i])"
      ],
      "metadata": {
        "id": "-hHFaS3fN89e"
      },
      "execution_count": null,
      "outputs": []
    },
    {
      "cell_type": "markdown",
      "source": [
        "Modeli Oluşturma"
      ],
      "metadata": {
        "id": "DJscjNy3d50Q"
      }
    },
    {
      "cell_type": "code",
      "source": [
        "from tensorflow.keras.applications import VGG16\n",
        "from tensorflow.keras.layers import Flatten\n",
        "from tensorflow.keras.layers import Dense\n",
        "from tensorflow.keras.layers import Input\n",
        "from tensorflow.keras.layers import Dropout\n",
        "\n",
        "from tensorflow.keras.models import Model\n",
        "from tensorflow.keras.optimizers import Adam"
      ],
      "metadata": {
        "id": "DRuOS17fN87O"
      },
      "execution_count": null,
      "outputs": []
    },
    {
      "cell_type": "code",
      "source": [
        "vgg = VGG16(weights=\"imagenet\", include_top=False, input_tensor=Input(shape=(224, 224, 3)))\n",
        "\n",
        "vgg.trainable = False\n",
        "\n",
        "flatten = vgg.output\n",
        "flatten = Flatten()(flatten)\n",
        "\n",
        "bboxLayer = Dense(128, activation=\"relu\")(flatten)\n",
        "bboxLayer = Dense(64, activation=\"relu\")(bboxLayer)\n",
        "bboxLayer = Dense(32, activation=\"relu\")(bboxLayer)\n",
        "bboxLayer = Dense(4, activation=\"sigmoid\",name=\"bounding_box\")(bboxLayer)\n",
        "\n",
        "classLayer = Dense(512, activation=\"relu\")(flatten)\n",
        "classLayer = Dropout(0.5)(classLayer)\n",
        "classLayer = Dense(512, activation=\"relu\")(classLayer)\n",
        "classLayer = Dropout(0.5)(classLayer)\n",
        "classLayer = Dense(len(lb.classes_), activation=\"softmax\", name=\"class_label\")(classLayer)\n",
        "\n",
        "model = Model(inputs=vgg.input, outputs=(bboxLayer, classLayer))"
      ],
      "metadata": {
        "id": "mskq6TI6UHX1"
      },
      "execution_count": null,
      "outputs": []
    },
    {
      "cell_type": "code",
      "source": [
        "losses = {\"class_label\": \"categorical_crossentropy\",\n",
        "          \"bounding_box\": \"mean_squared_error\"}\n",
        "\n",
        "lossWeights = {\"class_label\": 1.0, \n",
        "               \"bounding_box\": 1.0}\n",
        "\n",
        "opt = Adam(lr=INIT_LR)\n",
        "model.compile(loss=losses, optimizer=opt, metrics=[\"accuracy\"], loss_weights=lossWeights)\n",
        "model.summary()"
      ],
      "metadata": {
        "id": "YNJmUaiA6cxe"
      },
      "execution_count": null,
      "outputs": []
    },
    {
      "cell_type": "markdown",
      "source": [
        "Eğitim"
      ],
      "metadata": {
        "id": "s5j3Dj3Kd-dJ"
      }
    },
    {
      "cell_type": "code",
      "source": [
        "trainTargets = {\"class_label\": trainLabels,\n",
        "                \"bounding_box\": trainBBoxes}\n",
        "\n",
        "\n",
        "testTargets = {\"class_label\": testLabels,\n",
        "               \"bounding_box\": testBBoxes}"
      ],
      "metadata": {
        "id": "wT-RpkJY5LZ2"
      },
      "execution_count": null,
      "outputs": []
    },
    {
      "cell_type": "code",
      "source": [
        "print(\"[INFO].. training progress..\")\n",
        "history = model.fit(trainImages, \n",
        "                    trainTargets,\n",
        "                    validation_data=(testImages, testTargets),\n",
        "                    batch_size=BATCH_SIZE,\n",
        "                    epochs=NUM_EPOCHS,\n",
        "                    verbose=1)"
      ],
      "metadata": {
        "colab": {
          "base_uri": "https://localhost:8080/"
        },
        "id": "Hoic4itivbY-",
        "outputId": "5a99031d-b41e-4337-8862-48d41bbdfc54"
      },
      "execution_count": null,
      "outputs": [
        {
          "output_type": "stream",
          "name": "stdout",
          "text": [
            "[INFO].. training progress..\n",
            "Epoch 1/25\n",
            "51/51 [==============================] - 15s 297ms/step - loss: 0.1899 - bounding_box_loss: 0.0060 - class_label_loss: 0.1839 - bounding_box_accuracy: 0.5843 - class_label_accuracy: 0.9219 - val_loss: 0.0035 - val_bounding_box_loss: 0.0017 - val_class_label_loss: 0.0018 - val_bounding_box_accuracy: 0.8649 - val_class_label_accuracy: 1.0000\n",
            "Epoch 2/25\n",
            "51/51 [==============================] - 10s 203ms/step - loss: 0.0180 - bounding_box_loss: 0.0012 - class_label_loss: 0.0168 - bounding_box_accuracy: 0.8801 - class_label_accuracy: 0.9963 - val_loss: 0.0016 - val_bounding_box_loss: 0.0010 - val_class_label_loss: 5.5372e-04 - val_bounding_box_accuracy: 0.8649 - val_class_label_accuracy: 1.0000\n",
            "Epoch 3/25\n",
            "51/51 [==============================] - 10s 205ms/step - loss: 0.0090 - bounding_box_loss: 8.5676e-04 - class_label_loss: 0.0082 - bounding_box_accuracy: 0.8868 - class_label_accuracy: 0.9982 - val_loss: 0.0012 - val_bounding_box_loss: 8.6994e-04 - val_class_label_loss: 3.0144e-04 - val_bounding_box_accuracy: 0.8870 - val_class_label_accuracy: 1.0000\n",
            "Epoch 4/25\n",
            "51/51 [==============================] - 11s 209ms/step - loss: 0.0066 - bounding_box_loss: 6.8487e-04 - class_label_loss: 0.0059 - bounding_box_accuracy: 0.8911 - class_label_accuracy: 0.9988 - val_loss: 0.0012 - val_bounding_box_loss: 8.0300e-04 - val_class_label_loss: 4.1638e-04 - val_bounding_box_accuracy: 0.8796 - val_class_label_accuracy: 1.0000\n",
            "Epoch 5/25\n",
            "51/51 [==============================] - 11s 213ms/step - loss: 0.0043 - bounding_box_loss: 5.7640e-04 - class_label_loss: 0.0037 - bounding_box_accuracy: 0.8881 - class_label_accuracy: 0.9988 - val_loss: 9.5141e-04 - val_bounding_box_loss: 7.6350e-04 - val_class_label_loss: 1.8792e-04 - val_bounding_box_accuracy: 0.8575 - val_class_label_accuracy: 1.0000\n",
            "Epoch 6/25\n",
            "51/51 [==============================] - 11s 212ms/step - loss: 0.0015 - bounding_box_loss: 4.7891e-04 - class_label_loss: 0.0010 - bounding_box_accuracy: 0.9016 - class_label_accuracy: 1.0000 - val_loss: 8.5478e-04 - val_bounding_box_loss: 7.6537e-04 - val_class_label_loss: 8.9413e-05 - val_bounding_box_accuracy: 0.8600 - val_class_label_accuracy: 1.0000\n",
            "Epoch 7/25\n",
            "51/51 [==============================] - 10s 207ms/step - loss: 0.0012 - bounding_box_loss: 4.2418e-04 - class_label_loss: 7.3941e-04 - bounding_box_accuracy: 0.8991 - class_label_accuracy: 1.0000 - val_loss: 7.7230e-04 - val_bounding_box_loss: 7.1790e-04 - val_class_label_loss: 5.4405e-05 - val_bounding_box_accuracy: 0.8845 - val_class_label_accuracy: 1.0000\n",
            "Epoch 8/25\n",
            "51/51 [==============================] - 10s 205ms/step - loss: 0.0012 - bounding_box_loss: 3.6132e-04 - class_label_loss: 8.4537e-04 - bounding_box_accuracy: 0.9028 - class_label_accuracy: 1.0000 - val_loss: 7.5824e-04 - val_bounding_box_loss: 6.9284e-04 - val_class_label_loss: 6.5404e-05 - val_bounding_box_accuracy: 0.8624 - val_class_label_accuracy: 1.0000\n",
            "Epoch 9/25\n",
            "51/51 [==============================] - 10s 205ms/step - loss: 9.4459e-04 - bounding_box_loss: 3.1298e-04 - class_label_loss: 6.3161e-04 - bounding_box_accuracy: 0.9102 - class_label_accuracy: 1.0000 - val_loss: 7.4948e-04 - val_bounding_box_loss: 6.8130e-04 - val_class_label_loss: 6.8176e-05 - val_bounding_box_accuracy: 0.8894 - val_class_label_accuracy: 1.0000\n",
            "Epoch 10/25\n",
            "51/51 [==============================] - 10s 205ms/step - loss: 6.2119e-04 - bounding_box_loss: 2.7881e-04 - class_label_loss: 3.4239e-04 - bounding_box_accuracy: 0.9157 - class_label_accuracy: 1.0000 - val_loss: 7.1527e-04 - val_bounding_box_loss: 6.7858e-04 - val_class_label_loss: 3.6690e-05 - val_bounding_box_accuracy: 0.8428 - val_class_label_accuracy: 1.0000\n",
            "Epoch 11/25\n",
            "51/51 [==============================] - 10s 206ms/step - loss: 7.2326e-04 - bounding_box_loss: 2.4627e-04 - class_label_loss: 4.7699e-04 - bounding_box_accuracy: 0.9207 - class_label_accuracy: 1.0000 - val_loss: 7.2405e-04 - val_bounding_box_loss: 6.8098e-04 - val_class_label_loss: 4.3072e-05 - val_bounding_box_accuracy: 0.8624 - val_class_label_accuracy: 1.0000\n",
            "Epoch 12/25\n",
            "51/51 [==============================] - 11s 207ms/step - loss: 5.3361e-04 - bounding_box_loss: 2.2478e-04 - class_label_loss: 3.0882e-04 - bounding_box_accuracy: 0.9237 - class_label_accuracy: 1.0000 - val_loss: 7.0278e-04 - val_bounding_box_loss: 6.7739e-04 - val_class_label_loss: 2.5394e-05 - val_bounding_box_accuracy: 0.8452 - val_class_label_accuracy: 1.0000\n",
            "Epoch 13/25\n",
            "51/51 [==============================] - 11s 209ms/step - loss: 5.5991e-04 - bounding_box_loss: 2.0476e-04 - class_label_loss: 3.5516e-04 - bounding_box_accuracy: 0.9268 - class_label_accuracy: 1.0000 - val_loss: 6.9402e-04 - val_bounding_box_loss: 6.6946e-04 - val_class_label_loss: 2.4558e-05 - val_bounding_box_accuracy: 0.8649 - val_class_label_accuracy: 1.0000\n",
            "Epoch 14/25\n",
            "51/51 [==============================] - 11s 208ms/step - loss: 3.7313e-04 - bounding_box_loss: 1.8284e-04 - class_label_loss: 1.9028e-04 - bounding_box_accuracy: 0.9256 - class_label_accuracy: 1.0000 - val_loss: 6.7866e-04 - val_bounding_box_loss: 6.5173e-04 - val_class_label_loss: 2.6925e-05 - val_bounding_box_accuracy: 0.8600 - val_class_label_accuracy: 1.0000\n",
            "Epoch 15/25\n",
            "51/51 [==============================] - 11s 207ms/step - loss: 3.3386e-04 - bounding_box_loss: 1.6458e-04 - class_label_loss: 1.6928e-04 - bounding_box_accuracy: 0.9244 - class_label_accuracy: 1.0000 - val_loss: 6.8357e-04 - val_bounding_box_loss: 6.6750e-04 - val_class_label_loss: 1.6073e-05 - val_bounding_box_accuracy: 0.8649 - val_class_label_accuracy: 1.0000\n",
            "Epoch 16/25\n",
            "51/51 [==============================] - 11s 209ms/step - loss: 2.7759e-04 - bounding_box_loss: 1.4686e-04 - class_label_loss: 1.3073e-04 - bounding_box_accuracy: 0.9268 - class_label_accuracy: 1.0000 - val_loss: 6.6128e-04 - val_bounding_box_loss: 6.4831e-04 - val_class_label_loss: 1.2962e-05 - val_bounding_box_accuracy: 0.8649 - val_class_label_accuracy: 1.0000\n",
            "Epoch 17/25\n",
            "51/51 [==============================] - 11s 208ms/step - loss: 2.7943e-04 - bounding_box_loss: 1.3982e-04 - class_label_loss: 1.3962e-04 - bounding_box_accuracy: 0.9336 - class_label_accuracy: 1.0000 - val_loss: 6.5578e-04 - val_bounding_box_loss: 6.4438e-04 - val_class_label_loss: 1.1399e-05 - val_bounding_box_accuracy: 0.8673 - val_class_label_accuracy: 1.0000\n",
            "Epoch 18/25\n",
            "51/51 [==============================] - 11s 211ms/step - loss: 3.2875e-04 - bounding_box_loss: 1.2416e-04 - class_label_loss: 2.0459e-04 - bounding_box_accuracy: 0.9330 - class_label_accuracy: 1.0000 - val_loss: 6.7799e-04 - val_bounding_box_loss: 6.5588e-04 - val_class_label_loss: 2.2117e-05 - val_bounding_box_accuracy: 0.8673 - val_class_label_accuracy: 1.0000\n",
            "Epoch 19/25\n",
            "51/51 [==============================] - 11s 209ms/step - loss: 3.0995e-04 - bounding_box_loss: 1.0916e-04 - class_label_loss: 2.0079e-04 - bounding_box_accuracy: 0.9367 - class_label_accuracy: 1.0000 - val_loss: 7.0245e-04 - val_bounding_box_loss: 6.4793e-04 - val_class_label_loss: 5.4522e-05 - val_bounding_box_accuracy: 0.8649 - val_class_label_accuracy: 1.0000\n",
            "Epoch 20/25\n",
            "51/51 [==============================] - 10s 207ms/step - loss: 3.3591e-04 - bounding_box_loss: 9.6706e-05 - class_label_loss: 2.3920e-04 - bounding_box_accuracy: 0.9403 - class_label_accuracy: 1.0000 - val_loss: 6.6575e-04 - val_bounding_box_loss: 6.3996e-04 - val_class_label_loss: 2.5790e-05 - val_bounding_box_accuracy: 0.8698 - val_class_label_accuracy: 1.0000\n",
            "Epoch 21/25\n",
            "51/51 [==============================] - 11s 207ms/step - loss: 3.6231e-04 - bounding_box_loss: 9.1092e-05 - class_label_loss: 2.7122e-04 - bounding_box_accuracy: 0.9360 - class_label_accuracy: 1.0000 - val_loss: 6.5610e-04 - val_bounding_box_loss: 6.4614e-04 - val_class_label_loss: 9.9630e-06 - val_bounding_box_accuracy: 0.8771 - val_class_label_accuracy: 1.0000\n",
            "Epoch 22/25\n",
            "51/51 [==============================] - 11s 207ms/step - loss: 3.0863e-04 - bounding_box_loss: 8.1020e-05 - class_label_loss: 2.2761e-04 - bounding_box_accuracy: 0.9477 - class_label_accuracy: 1.0000 - val_loss: 6.5218e-04 - val_bounding_box_loss: 6.4117e-04 - val_class_label_loss: 1.1014e-05 - val_bounding_box_accuracy: 0.8722 - val_class_label_accuracy: 1.0000\n",
            "Epoch 23/25\n",
            "51/51 [==============================] - 11s 208ms/step - loss: 1.9796e-04 - bounding_box_loss: 7.5948e-05 - class_label_loss: 1.2201e-04 - bounding_box_accuracy: 0.9471 - class_label_accuracy: 1.0000 - val_loss: 6.5713e-04 - val_bounding_box_loss: 6.4917e-04 - val_class_label_loss: 7.9579e-06 - val_bounding_box_accuracy: 0.8649 - val_class_label_accuracy: 1.0000\n",
            "Epoch 24/25\n",
            "51/51 [==============================] - 11s 207ms/step - loss: 1.6026e-04 - bounding_box_loss: 7.6078e-05 - class_label_loss: 8.4181e-05 - bounding_box_accuracy: 0.9490 - class_label_accuracy: 1.0000 - val_loss: 6.6014e-04 - val_bounding_box_loss: 6.5339e-04 - val_class_label_loss: 6.7510e-06 - val_bounding_box_accuracy: 0.8821 - val_class_label_accuracy: 1.0000\n",
            "Epoch 25/25\n",
            "51/51 [==============================] - 11s 207ms/step - loss: 9.5508e-04 - bounding_box_loss: 8.6735e-05 - class_label_loss: 8.6834e-04 - bounding_box_accuracy: 0.9483 - class_label_accuracy: 0.9994 - val_loss: 6.7477e-04 - val_bounding_box_loss: 6.3877e-04 - val_class_label_loss: 3.6004e-05 - val_bounding_box_accuracy: 0.8624 - val_class_label_accuracy: 1.0000\n"
          ]
        }
      ]
    },
    {
      "cell_type": "code",
      "source": [
        "import pickle"
      ],
      "metadata": {
        "id": "WtNFRR7n-RIB"
      },
      "execution_count": null,
      "outputs": []
    },
    {
      "cell_type": "code",
      "source": [
        "model.save(MODEL_PATH,save_format=\"h5\")\n",
        "BASE = \"/content/gdrive/MyDrive/caltech101/subset_caltech - multiclass\"\n",
        "\n",
        "LB_PATH = os.path.join(BASE, \"lb.pickle\")\n",
        "f = open(LB_PATH,\"wb\")\n",
        "f.write(pickle.dumps(lb))\n",
        "f.close()"
      ],
      "metadata": {
        "id": "y2wSK7s79nS4"
      },
      "execution_count": null,
      "outputs": []
    },
    {
      "cell_type": "markdown",
      "source": [
        "Prediction"
      ],
      "metadata": {
        "id": "0t-VkTFPeHZd"
      }
    },
    {
      "cell_type": "code",
      "source": [
        "from tensorflow.keras.preprocessing.image import load_img\n",
        "from tensorflow.keras.preprocessing.image import img_to_array\n",
        "\n",
        "from tensorflow.keras.models import load_model"
      ],
      "metadata": {
        "id": "QqAty0ru-iN5"
      },
      "execution_count": null,
      "outputs": []
    },
    {
      "cell_type": "code",
      "source": [
        "model = load_model(MODEL_PATH)\n",
        "lb = pickle.loads(open(LB_PATH,\"rb\").read())"
      ],
      "metadata": {
        "id": "KJH9eiCEUTv_"
      },
      "execution_count": null,
      "outputs": []
    },
    {
      "cell_type": "code",
      "source": [
        "# preprocess\n",
        "test = \"/content/gdrive/MyDrive/caltech101/subset_caltech - multiclass/images/face/image_0002.jpg\"\n",
        "test1 = \"/content/gdrive/MyDrive/caltech101/subset_caltech - multiclass/images/airplane/image_0006.jpg\"\n",
        "test2 = \"/content/gdrive/MyDrive/caltech101/subset_caltech - multiclass/images/motorbike/image_0005.jpg\"\n",
        "\n",
        "image = load_img(test2, target_size=(224,224))\n",
        "image = img_to_array(image)/255.0\n",
        "image = np.expand_dims(image, axis=0)"
      ],
      "metadata": {
        "id": "TG4MTnvaXyJe"
      },
      "execution_count": null,
      "outputs": []
    },
    {
      "cell_type": "code",
      "source": [
        "# prediction\n",
        "preds = model.predict(image)\n",
        "preds"
      ],
      "metadata": {
        "colab": {
          "base_uri": "https://localhost:8080/"
        },
        "id": "4hAxO7DJWkVv",
        "outputId": "ea8f054c-3715-4f0f-f66d-2c3d93e9569d"
      },
      "execution_count": null,
      "outputs": [
        {
          "output_type": "stream",
          "name": "stdout",
          "text": [
            "1/1 [==============================] - 0s 19ms/step\n"
          ]
        },
        {
          "output_type": "execute_result",
          "data": {
            "text/plain": [
              "[array([[0.11862583, 0.11134207, 0.882199  , 0.87875926]], dtype=float32),\n",
              " array([[4.0326899e-08, 5.0525724e-08, 9.9999988e-01]], dtype=float32)]"
            ]
          },
          "metadata": {},
          "execution_count": 91
        }
      ]
    },
    {
      "cell_type": "code",
      "source": [
        "(startX, startY, endX, endY) = preds[0][0]"
      ],
      "metadata": {
        "id": "1xpptGlHWkTa"
      },
      "execution_count": null,
      "outputs": []
    },
    {
      "cell_type": "code",
      "source": [
        "predicted_labels = {0:\"airplane\",\n",
        "                    1:\"face\",\n",
        "                    2:\"motorbike\"}"
      ],
      "metadata": {
        "id": "0srRWc13eFaf"
      },
      "execution_count": null,
      "outputs": []
    },
    {
      "cell_type": "code",
      "source": [
        "preds[1]"
      ],
      "metadata": {
        "colab": {
          "base_uri": "https://localhost:8080/"
        },
        "id": "qXiCbO0VAM0V",
        "outputId": "2de7006b-4fbd-4ac2-be2e-33ca94cf71f7"
      },
      "execution_count": null,
      "outputs": [
        {
          "output_type": "execute_result",
          "data": {
            "text/plain": [
              "array([[4.0326899e-08, 5.0525724e-08, 9.9999988e-01]], dtype=float32)"
            ]
          },
          "metadata": {},
          "execution_count": 94
        }
      ]
    },
    {
      "cell_type": "code",
      "source": [
        "import cv2\n",
        "import imutils\n",
        "import numpy as np"
      ],
      "metadata": {
        "id": "3PaD8V9eAUah"
      },
      "execution_count": null,
      "outputs": []
    },
    {
      "cell_type": "code",
      "source": [
        "predicted_label = preds[1]\n",
        "predicted_label = np.argmax(predicted_label)\n",
        "predicted_label = predicted_labels[predicted_label]\n",
        "print(predicted_label)"
      ],
      "metadata": {
        "id": "BEBlz1LjZ4kE",
        "colab": {
          "base_uri": "https://localhost:8080/"
        },
        "outputId": "18d4fb6c-f051-4f12-d6ab-e06703d51bcc"
      },
      "execution_count": null,
      "outputs": [
        {
          "output_type": "stream",
          "name": "stdout",
          "text": [
            "motorbike\n"
          ]
        }
      ]
    },
    {
      "cell_type": "code",
      "source": [
        "image = cv2.imread(test2)\n",
        "image = imutils.resize(image, width=600)\n",
        "(h,w) = image.shape[:2]\n",
        "\n",
        "startX = int(startX*w) \n",
        "startY = int(startY*h) \n",
        "endX = int(endX*w)  \n",
        "endY = int(endY*h) "
      ],
      "metadata": {
        "id": "iRZdJn4wZUf_"
      },
      "execution_count": null,
      "outputs": []
    },
    {
      "cell_type": "code",
      "source": [
        "from google.colab.patches import cv2_imshow"
      ],
      "metadata": {
        "id": "gPU8xADHYCpb"
      },
      "execution_count": null,
      "outputs": []
    },
    {
      "cell_type": "code",
      "source": [
        "font = cv2.FONT_HERSHEY_SIMPLEX"
      ],
      "metadata": {
        "id": "GQ3wEVDxBoDK"
      },
      "execution_count": null,
      "outputs": []
    },
    {
      "cell_type": "code",
      "source": [
        "cv2.putText(image, predicted_label, (startX,startY-15), font, 0.5, (0,255,0), 2)\n",
        "cv2.rectangle(image, (startX,startY), (endX,endY), (0,255,0), 2)\n",
        "\n",
        "cv2_imshow(image)"
      ],
      "metadata": {
        "colab": {
          "base_uri": "https://localhost:8080/",
          "height": 397
        },
        "id": "wbY2slL7WkQ7",
        "outputId": "801dc957-7cd4-4578-bb58-da0ca211fc0e"
      },
      "execution_count": null,
      "outputs": [
        {
          "output_type": "display_data",
          "data": {
            "text/plain": [
              "<PIL.Image.Image image mode=RGB size=600x380 at 0x7FDC387C4BE0>"
            ],
            "image/png": "[encoded data removed]"
          },
          "metadata": {}
        }
      ]
    }
  ]
}