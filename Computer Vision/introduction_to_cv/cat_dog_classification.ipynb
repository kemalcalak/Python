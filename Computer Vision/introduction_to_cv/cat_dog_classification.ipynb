{
 "cells": [
  {
   "cell_type": "markdown",
   "id": "dc57f242",
   "metadata": {},
   "source": [
    "# 1. Creating Model"
   ]
  },
  {
   "cell_type": "code",
   "execution_count": 1,
   "id": "3b2a4df0",
   "metadata": {},
   "outputs": [],
   "source": [
    "from keras import layers\n",
    "from keras.models import Sequential"
   ]
  },
  {
   "cell_type": "code",
   "execution_count": 3,
   "id": "ec634b1e",
   "metadata": {},
   "outputs": [],
   "source": [
    "model = Sequential()\n",
    "\n",
    "model.add(layers.Conv2D(32, (3,3), activation = \"relu\", input_shape = (150,150,3)))\n",
    "model.add(layers.MaxPooling2D((2,2)))\n",
    "\n",
    "model.add(layers.Conv2D(64, (3,3), activation = \"relu\"))\n",
    "model.add(layers.MaxPooling2D((2,2)))\n",
    "\n",
    "model.add(layers.Conv2D(128, (3,3), activation = \"relu\"))\n",
    "model.add(layers.MaxPooling2D((2,2)))\n",
    "\n",
    "model.add(layers.Conv2D(128, (3,3), activation = \"relu\"))\n",
    "model.add(layers.MaxPooling2D((2,2)))\n",
    "\n",
    "\n",
    "model.add(layers.Flatten())\n",
    "\n",
    "\n",
    "model.add(layers.Dense(512, activation = \"relu\"))\n",
    "model.add(layers.Dense(1, activation = \"sigmoid\"))"
   ]
  },
  {
   "cell_type": "code",
   "execution_count": 4,
   "id": "1f54db9f",
   "metadata": {},
   "outputs": [
    {
     "name": "stdout",
     "output_type": "stream",
     "text": [
      "Model: \"sequential_1\"\n",
      "_________________________________________________________________\n",
      " Layer (type)                Output Shape              Param #   \n",
      "=================================================================\n",
      " conv2d (Conv2D)             (None, 148, 148, 32)      896       \n",
      "                                                                 \n",
      " max_pooling2d (MaxPooling2D  (None, 74, 74, 32)       0         \n",
      " )                                                               \n",
      "                                                                 \n",
      " conv2d_1 (Conv2D)           (None, 72, 72, 64)        18496     \n",
      "                                                                 \n",
      " max_pooling2d_1 (MaxPooling  (None, 36, 36, 64)       0         \n",
      " 2D)                                                             \n",
      "                                                                 \n",
      " conv2d_2 (Conv2D)           (None, 34, 34, 128)       73856     \n",
      "                                                                 \n",
      " max_pooling2d_2 (MaxPooling  (None, 17, 17, 128)      0         \n",
      " 2D)                                                             \n",
      "                                                                 \n",
      " conv2d_3 (Conv2D)           (None, 15, 15, 128)       147584    \n",
      "                                                                 \n",
      " max_pooling2d_3 (MaxPooling  (None, 7, 7, 128)        0         \n",
      " 2D)                                                             \n",
      "                                                                 \n",
      " flatten (Flatten)           (None, 6272)              0         \n",
      "                                                                 \n",
      " dense (Dense)               (None, 512)               3211776   \n",
      "                                                                 \n",
      " dense_1 (Dense)             (None, 1)                 513       \n",
      "                                                                 \n",
      "=================================================================\n",
      "Total params: 3,453,121\n",
      "Trainable params: 3,453,121\n",
      "Non-trainable params: 0\n",
      "_________________________________________________________________\n"
     ]
    }
   ],
   "source": [
    "model.summary()"
   ]
  },
  {
   "cell_type": "markdown",
   "id": "c878b911",
   "metadata": {},
   "source": [
    "# 2. Compiling Model"
   ]
  },
  {
   "cell_type": "code",
   "execution_count": 10,
   "id": "1a6f9dab",
   "metadata": {},
   "outputs": [],
   "source": [
    "from tensorflow.keras import optimizers\n",
    "\n",
    "model.compile(loss = \"binary_crossentropy\",\n",
    "              optimizer = optimizers.RMSprop(learning_rate = 1e-4),\n",
    "              metrics = [\"acc\"])"
   ]
  },
  {
   "cell_type": "markdown",
   "id": "b828e3fb",
   "metadata": {},
   "source": [
    "# 3. Data Generation"
   ]
  },
  {
   "cell_type": "code",
   "execution_count": 13,
   "id": "9ae4c81c",
   "metadata": {},
   "outputs": [],
   "source": [
    "from keras.preprocessing.image import ImageDataGenerator\n",
    "\n",
    "train_datagen = ImageDataGenerator(rescale=1./255)\n",
    "validation_datagen = ImageDataGenerator(rescale=1./255)"
   ]
  },
  {
   "cell_type": "code",
   "execution_count": 14,
   "id": "2360cd68",
   "metadata": {},
   "outputs": [],
   "source": [
    "train_directory = \"datasets/catdog/train\"\n",
    "validation_directory = \"datasets/catdog/validation\""
   ]
  },
  {
   "cell_type": "code",
   "execution_count": 15,
   "id": "21476305",
   "metadata": {},
   "outputs": [
    {
     "name": "stdout",
     "output_type": "stream",
     "text": [
      "Found 1999 images belonging to 2 classes.\n",
      "Found 1000 images belonging to 2 classes.\n"
     ]
    }
   ],
   "source": [
    "train_generator = train_datagen.flow_from_directory(train_directory,\n",
    "                                                    target_size = (150,150),\n",
    "                                                    batch_size = 20,\n",
    "                                                    class_mode = \"binary\")\n",
    "\n",
    "validation_generator = train_datagen.flow_from_directory(validation_directory,\n",
    "                                                         target_size = (150,150),\n",
    "                                                         batch_size = 20,\n",
    "                                                         class_mode = \"binary\")"
   ]
  },
  {
   "cell_type": "markdown",
   "id": "46e952b2",
   "metadata": {},
   "source": [
    "# 4. Training"
   ]
  },
  {
   "cell_type": "code",
   "execution_count": 16,
   "id": "d83fead5",
   "metadata": {},
   "outputs": [
    {
     "name": "stderr",
     "output_type": "stream",
     "text": [
      "<ipython-input-16-c344b01f4fc1>:1: UserWarning: `Model.fit_generator` is deprecated and will be removed in a future version. Please use `Model.fit`, which supports generators.\n",
      "  history = model.fit_generator(train_generator,\n"
     ]
    },
    {
     "name": "stdout",
     "output_type": "stream",
     "text": [
      "Epoch 1/20\n",
      "100/100 [==============================] - 37s 360ms/step - loss: 0.6937 - acc: 0.5303 - val_loss: 0.6886 - val_acc: 0.5230\n",
      "Epoch 2/20\n",
      "100/100 [==============================] - 36s 356ms/step - loss: 0.6605 - acc: 0.6083 - val_loss: 0.6487 - val_acc: 0.6260\n",
      "Epoch 3/20\n",
      "100/100 [==============================] - 35s 354ms/step - loss: 0.6179 - acc: 0.6548 - val_loss: 0.6219 - val_acc: 0.6520\n",
      "Epoch 4/20\n",
      "100/100 [==============================] - 36s 358ms/step - loss: 0.5826 - acc: 0.7004 - val_loss: 0.5899 - val_acc: 0.6850\n",
      "Epoch 5/20\n",
      "100/100 [==============================] - 37s 367ms/step - loss: 0.5376 - acc: 0.7374 - val_loss: 0.5790 - val_acc: 0.6870\n",
      "Epoch 6/20\n",
      "100/100 [==============================] - 38s 377ms/step - loss: 0.5136 - acc: 0.7454 - val_loss: 0.5761 - val_acc: 0.6960\n",
      "Epoch 7/20\n",
      "100/100 [==============================] - 37s 365ms/step - loss: 0.4723 - acc: 0.7724 - val_loss: 0.5957 - val_acc: 0.6950\n",
      "Epoch 8/20\n",
      "100/100 [==============================] - 36s 364ms/step - loss: 0.4482 - acc: 0.7834 - val_loss: 0.6773 - val_acc: 0.6850\n",
      "Epoch 9/20\n",
      "100/100 [==============================] - 37s 368ms/step - loss: 0.4285 - acc: 0.8039 - val_loss: 0.5688 - val_acc: 0.7100\n",
      "Epoch 10/20\n",
      "100/100 [==============================] - 39s 387ms/step - loss: 0.4078 - acc: 0.8159 - val_loss: 0.5488 - val_acc: 0.7260\n",
      "Epoch 11/20\n",
      "100/100 [==============================] - 38s 382ms/step - loss: 0.3710 - acc: 0.8354 - val_loss: 0.6403 - val_acc: 0.6920\n",
      "Epoch 12/20\n",
      "100/100 [==============================] - 39s 391ms/step - loss: 0.3568 - acc: 0.8469 - val_loss: 0.5581 - val_acc: 0.7320\n",
      "Epoch 13/20\n",
      "100/100 [==============================] - 37s 367ms/step - loss: 0.3235 - acc: 0.8594 - val_loss: 0.6044 - val_acc: 0.7050\n",
      "Epoch 14/20\n",
      "100/100 [==============================] - 37s 366ms/step - loss: 0.3028 - acc: 0.8749 - val_loss: 0.6477 - val_acc: 0.7170\n",
      "Epoch 15/20\n",
      "100/100 [==============================] - 37s 365ms/step - loss: 0.2806 - acc: 0.8759 - val_loss: 0.5851 - val_acc: 0.7190\n",
      "Epoch 16/20\n",
      "100/100 [==============================] - 37s 366ms/step - loss: 0.2646 - acc: 0.8964 - val_loss: 0.5742 - val_acc: 0.7380\n",
      "Epoch 17/20\n",
      "100/100 [==============================] - 37s 366ms/step - loss: 0.2401 - acc: 0.9035 - val_loss: 0.6471 - val_acc: 0.7210\n",
      "Epoch 18/20\n",
      "100/100 [==============================] - 37s 367ms/step - loss: 0.2143 - acc: 0.9135 - val_loss: 0.6975 - val_acc: 0.7170\n",
      "Epoch 19/20\n",
      "100/100 [==============================] - 37s 368ms/step - loss: 0.1952 - acc: 0.9300 - val_loss: 0.8070 - val_acc: 0.7100\n",
      "Epoch 20/20\n",
      "100/100 [==============================] - 37s 368ms/step - loss: 0.1662 - acc: 0.9440 - val_loss: 0.7149 - val_acc: 0.7130\n"
     ]
    }
   ],
   "source": [
    "history = model.fit_generator(train_generator,\n",
    "                              epochs = 20,\n",
    "                              validation_data = validation_generator,\n",
    "                              validation_steps = 50)"
   ]
  },
  {
   "cell_type": "markdown",
   "id": "b5a8b6f5",
   "metadata": {},
   "source": [
    "# 5. Visualization"
   ]
  },
  {
   "cell_type": "code",
   "execution_count": 18,
   "id": "f1ebddc1",
   "metadata": {},
   "outputs": [
    {
     "data": {
      "text/plain": [
       "<matplotlib.legend.Legend at 0x216cdc44310>"
      ]
     },
     "execution_count": 18,
     "metadata": {},
     "output_type": "execute_result"
    },
    {
     "data": {
      "image/png": "[encoded data removed]",
      "text/plain": [
       "<Figure size 432x288 with 1 Axes>"
      ]
     },
     "metadata": {},
     "output_type": "display_data"
    }
   ],
   "source": [
    "import matplotlib.pyplot as plt\n",
    "import numpy as np\n",
    "\n",
    "\n",
    "plt.style.use(\"seaborn-darkgrid\")\n",
    "plt.figure()\n",
    "\n",
    "epochs = 20\n",
    "\n",
    "plt.plot(np.arange(0,epochs), history.history[\"loss\"], label=\"train_loss\")\n",
    "plt.plot(np.arange(0,epochs), history.history[\"val_loss\"], label=\"val_loss\")\n",
    "\n",
    "plt.plot(np.arange(0,epochs), history.history[\"acc\"], label=\"train_acc\")\n",
    "plt.plot(np.arange(0,epochs), history.history[\"val_acc\"], label=\"val_acc\")\n",
    "\n",
    "plt.title(\"Trainig | Loss&Accuracy\")\n",
    "\n",
    "plt.xlabel(\"20 - Epoch\")\n",
    "plt.ylabel(\"Loss&Accuracy\")\n",
    "\n",
    "plt.legend(loc=\"lower left\")"
   ]
  },
  {
   "cell_type": "code",
   "execution_count": 31,
   "id": "12621033",
   "metadata": {},
   "outputs": [],
   "source": [
    "model.save(\"models/cat_dog_first.h5\")"
   ]
  },
  {
   "cell_type": "markdown",
   "id": "461534dd",
   "metadata": {},
   "source": [
    "Problem: Overfitting\n",
    "\n",
    "1. New Model\n",
    "2. Data Augmentation"
   ]
  },
  {
   "cell_type": "markdown",
   "id": "f617376c",
   "metadata": {},
   "source": [
    "# Creating New Model"
   ]
  },
  {
   "cell_type": "code",
   "execution_count": 19,
   "id": "40125e79",
   "metadata": {},
   "outputs": [
    {
     "name": "stdout",
     "output_type": "stream",
     "text": [
      "Model: \"sequential_2\"\n",
      "_________________________________________________________________\n",
      " Layer (type)                Output Shape              Param #   \n",
      "=================================================================\n",
      " conv2d_4 (Conv2D)           (None, 148, 148, 32)      896       \n",
      "                                                                 \n",
      " max_pooling2d_4 (MaxPooling  (None, 74, 74, 32)       0         \n",
      " 2D)                                                             \n",
      "                                                                 \n",
      " conv2d_5 (Conv2D)           (None, 72, 72, 64)        18496     \n",
      "                                                                 \n",
      " max_pooling2d_5 (MaxPooling  (None, 36, 36, 64)       0         \n",
      " 2D)                                                             \n",
      "                                                                 \n",
      " conv2d_6 (Conv2D)           (None, 34, 34, 128)       73856     \n",
      "                                                                 \n",
      " max_pooling2d_6 (MaxPooling  (None, 17, 17, 128)      0         \n",
      " 2D)                                                             \n",
      "                                                                 \n",
      " conv2d_7 (Conv2D)           (None, 15, 15, 128)       147584    \n",
      "                                                                 \n",
      " max_pooling2d_7 (MaxPooling  (None, 7, 7, 128)        0         \n",
      " 2D)                                                             \n",
      "                                                                 \n",
      " flatten_1 (Flatten)         (None, 6272)              0         \n",
      "                                                                 \n",
      " dropout (Dropout)           (None, 6272)              0         \n",
      "                                                                 \n",
      " dense_2 (Dense)             (None, 512)               3211776   \n",
      "                                                                 \n",
      " dense_3 (Dense)             (None, 1)                 513       \n",
      "                                                                 \n",
      "=================================================================\n",
      "Total params: 3,453,121\n",
      "Trainable params: 3,453,121\n",
      "Non-trainable params: 0\n",
      "_________________________________________________________________\n"
     ]
    }
   ],
   "source": [
    "model_x = Sequential()\n",
    "\n",
    "model_x.add(layers.Conv2D(32, (3,3), activation = \"relu\", input_shape = (150,150,3)))\n",
    "model_x.add(layers.MaxPooling2D((2,2)))\n",
    "\n",
    "model_x.add(layers.Conv2D(64, (3,3), activation = \"relu\"))\n",
    "model_x.add(layers.MaxPooling2D((2,2)))\n",
    "\n",
    "model_x.add(layers.Conv2D(128, (3,3), activation = \"relu\"))\n",
    "model_x.add(layers.MaxPooling2D((2,2)))\n",
    "\n",
    "model_x.add(layers.Conv2D(128, (3,3), activation = \"relu\"))\n",
    "model_x.add(layers.MaxPooling2D((2,2)))\n",
    "\n",
    "\n",
    "model_x.add(layers.Flatten())\n",
    "model_x.add(layers.Dropout(0.4))\n",
    "\n",
    "model_x.add(layers.Dense(512, activation = \"relu\"))\n",
    "model_x.add(layers.Dense(1, activation = \"sigmoid\"))\n",
    "\n",
    "model_x.summary()"
   ]
  },
  {
   "cell_type": "code",
   "execution_count": 20,
   "id": "2ae5993e",
   "metadata": {},
   "outputs": [],
   "source": [
    "model_x.compile(loss = \"binary_crossentropy\",\n",
    "                optimizer = optimizers.RMSprop(learning_rate = 1e-4),\n",
    "                metrics = [\"acc\"])"
   ]
  },
  {
   "cell_type": "markdown",
   "id": "47ba3807",
   "metadata": {},
   "source": [
    "# Image Data Augmentation"
   ]
  },
  {
   "cell_type": "code",
   "execution_count": 24,
   "id": "bf0a9655",
   "metadata": {},
   "outputs": [],
   "source": [
    "train_datagen_x = ImageDataGenerator(rescale = 1./255,\n",
    "                                     rotation_range = 45,\n",
    "                                     width_shift_range = 0.3,\n",
    "                                     height_shift_range = 0.3,\n",
    "                                     shear_range = 0.3,\n",
    "                                     zoom_range = 0.3,\n",
    "                                     horizontal_flip = True,\n",
    "                                     vertical_flip = True,\n",
    "                                     fill_mode = \"nearest\")\n",
    "\n",
    "validation_datagen_x = ImageDataGenerator(rescale = 1./255)"
   ]
  },
  {
   "cell_type": "code",
   "execution_count": 25,
   "id": "48f7052d",
   "metadata": {},
   "outputs": [
    {
     "name": "stdout",
     "output_type": "stream",
     "text": [
      "Found 1999 images belonging to 2 classes.\n",
      "Found 1999 images belonging to 2 classes.\n"
     ]
    }
   ],
   "source": [
    "train_generator_x = train_datagen_x.flow_from_directory(train_directory,\n",
    "                                                        target_size = (150,150),\n",
    "                                                        batch_size = 16,\n",
    "                                                        class_mode = \"binary\")\n",
    "\n",
    "\n",
    "validation_generator_x = validation_datagen_x.flow_from_directory(train_directory,\n",
    "                                                                  target_size = (150,150),\n",
    "                                                                  batch_size = 16,\n",
    "                                                                  class_mode = \"binary\")"
   ]
  },
  {
   "cell_type": "markdown",
   "id": "bf71d719",
   "metadata": {},
   "source": [
    "# Training New Model"
   ]
  },
  {
   "cell_type": "code",
   "execution_count": 27,
   "id": "e4f2b31f",
   "metadata": {
    "scrolled": false
   },
   "outputs": [
    {
     "name": "stderr",
     "output_type": "stream",
     "text": [
      "<ipython-input-27-72c383605a3e>:1: UserWarning: `Model.fit_generator` is deprecated and will be removed in a future version. Please use `Model.fit`, which supports generators.\n",
      "  history_x = model_x.fit_generator(train_generator_x,\n"
     ]
    },
    {
     "name": "stdout",
     "output_type": "stream",
     "text": [
      "Epoch 1/100\n",
      "100/100 [==============================] - 33s 334ms/step - loss: 0.6837 - acc: 0.5519 - val_loss: 0.6735 - val_acc: 0.5700\n",
      "Epoch 2/100\n",
      "100/100 [==============================] - 33s 329ms/step - loss: 0.6770 - acc: 0.5629 - val_loss: 0.6575 - val_acc: 0.5788\n",
      "Epoch 3/100\n",
      "100/100 [==============================] - 33s 327ms/step - loss: 0.6750 - acc: 0.5713 - val_loss: 0.6599 - val_acc: 0.5813\n",
      "Epoch 4/100\n",
      "100/100 [==============================] - 33s 333ms/step - loss: 0.6634 - acc: 0.5704 - val_loss: 0.6478 - val_acc: 0.6050\n",
      "Epoch 5/100\n",
      "100/100 [==============================] - 35s 345ms/step - loss: 0.6545 - acc: 0.5766 - val_loss: 0.6583 - val_acc: 0.5788\n",
      "Epoch 6/100\n",
      "100/100 [==============================] - 34s 335ms/step - loss: 0.6451 - acc: 0.6223 - val_loss: 0.7379 - val_acc: 0.5138\n",
      "Epoch 7/100\n",
      "100/100 [==============================] - 33s 329ms/step - loss: 0.6425 - acc: 0.6185 - val_loss: 0.6312 - val_acc: 0.6288\n",
      "Epoch 8/100\n",
      "100/100 [==============================] - 33s 330ms/step - loss: 0.6421 - acc: 0.6254 - val_loss: 0.6190 - val_acc: 0.6587\n",
      "Epoch 9/100\n",
      "100/100 [==============================] - 33s 330ms/step - loss: 0.6396 - acc: 0.6079 - val_loss: 0.6376 - val_acc: 0.6187\n",
      "Epoch 10/100\n",
      "100/100 [==============================] - 33s 330ms/step - loss: 0.6287 - acc: 0.6379 - val_loss: 0.5874 - val_acc: 0.6950\n",
      "Epoch 11/100\n",
      "100/100 [==============================] - 33s 330ms/step - loss: 0.6312 - acc: 0.6454 - val_loss: 0.6521 - val_acc: 0.6137\n",
      "Epoch 12/100\n",
      "100/100 [==============================] - 33s 330ms/step - loss: 0.6253 - acc: 0.6381 - val_loss: 0.5902 - val_acc: 0.6800\n",
      "Epoch 13/100\n",
      "100/100 [==============================] - 30s 296ms/step - loss: 0.6066 - acc: 0.6610 - val_loss: 0.5712 - val_acc: 0.7262\n",
      "Epoch 14/100\n",
      "100/100 [==============================] - 29s 285ms/step - loss: 0.6178 - acc: 0.6435 - val_loss: 0.5778 - val_acc: 0.7075\n",
      "Epoch 15/100\n",
      "100/100 [==============================] - 28s 284ms/step - loss: 0.6094 - acc: 0.6735 - val_loss: 0.5486 - val_acc: 0.7312\n",
      "Epoch 16/100\n",
      "100/100 [==============================] - 30s 295ms/step - loss: 0.6212 - acc: 0.6573 - val_loss: 0.5408 - val_acc: 0.7475\n",
      "Epoch 17/100\n",
      "100/100 [==============================] - 33s 325ms/step - loss: 0.6078 - acc: 0.6773 - val_loss: 0.5709 - val_acc: 0.7013\n",
      "Epoch 18/100\n",
      "100/100 [==============================] - 30s 296ms/step - loss: 0.5966 - acc: 0.6679 - val_loss: 0.5809 - val_acc: 0.6975\n",
      "Epoch 19/100\n",
      "100/100 [==============================] - 31s 308ms/step - loss: 0.6011 - acc: 0.6623 - val_loss: 0.5626 - val_acc: 0.7075\n",
      "Epoch 20/100\n",
      "100/100 [==============================] - 33s 332ms/step - loss: 0.5934 - acc: 0.6886 - val_loss: 0.5470 - val_acc: 0.7163\n",
      "Epoch 21/100\n",
      "100/100 [==============================] - 32s 320ms/step - loss: 0.5933 - acc: 0.6729 - val_loss: 0.5357 - val_acc: 0.7175\n",
      "Epoch 22/100\n",
      "100/100 [==============================] - 30s 304ms/step - loss: 0.6087 - acc: 0.6535 - val_loss: 0.5378 - val_acc: 0.7188\n",
      "Epoch 23/100\n",
      "100/100 [==============================] - 30s 295ms/step - loss: 0.6113 - acc: 0.6685 - val_loss: 0.5304 - val_acc: 0.7513\n",
      "Epoch 24/100\n",
      "100/100 [==============================] - 30s 295ms/step - loss: 0.5859 - acc: 0.6767 - val_loss: 0.5228 - val_acc: 0.7425\n",
      "Epoch 25/100\n",
      "100/100 [==============================] - 30s 295ms/step - loss: 0.5972 - acc: 0.6719 - val_loss: 0.5317 - val_acc: 0.7325\n",
      "Epoch 26/100\n",
      "100/100 [==============================] - 30s 295ms/step - loss: 0.5877 - acc: 0.6773 - val_loss: 0.5316 - val_acc: 0.7337\n",
      "Epoch 27/100\n",
      "100/100 [==============================] - 30s 296ms/step - loss: 0.5912 - acc: 0.6854 - val_loss: 0.5131 - val_acc: 0.7688\n",
      "Epoch 28/100\n",
      "100/100 [==============================] - 30s 296ms/step - loss: 0.5802 - acc: 0.6923 - val_loss: 0.5582 - val_acc: 0.6888\n",
      "Epoch 29/100\n",
      "100/100 [==============================] - 29s 293ms/step - loss: 0.5729 - acc: 0.6904 - val_loss: 0.5131 - val_acc: 0.7625\n",
      "Epoch 30/100\n",
      "100/100 [==============================] - 30s 297ms/step - loss: 0.5707 - acc: 0.6998 - val_loss: 0.6236 - val_acc: 0.6550\n",
      "Epoch 31/100\n",
      "100/100 [==============================] - 29s 285ms/step - loss: 0.5727 - acc: 0.6911 - val_loss: 0.5332 - val_acc: 0.7188\n",
      "Epoch 32/100\n",
      "100/100 [==============================] - 29s 286ms/step - loss: 0.5813 - acc: 0.6856 - val_loss: 0.4948 - val_acc: 0.7663\n",
      "Epoch 33/100\n",
      "100/100 [==============================] - 28s 284ms/step - loss: 0.5765 - acc: 0.6911 - val_loss: 0.5536 - val_acc: 0.7088\n",
      "Epoch 34/100\n",
      "100/100 [==============================] - 28s 284ms/step - loss: 0.5665 - acc: 0.7017 - val_loss: 0.5885 - val_acc: 0.6787\n",
      "Epoch 35/100\n",
      "100/100 [==============================] - 28s 283ms/step - loss: 0.5648 - acc: 0.7038 - val_loss: 0.5108 - val_acc: 0.7300\n",
      "Epoch 36/100\n",
      "100/100 [==============================] - 28s 283ms/step - loss: 0.5809 - acc: 0.6942 - val_loss: 0.5627 - val_acc: 0.6938\n",
      "Epoch 37/100\n",
      "100/100 [==============================] - 28s 284ms/step - loss: 0.5727 - acc: 0.7036 - val_loss: 0.5161 - val_acc: 0.7588\n",
      "Epoch 38/100\n",
      "100/100 [==============================] - 28s 282ms/step - loss: 0.5666 - acc: 0.7079 - val_loss: 0.5078 - val_acc: 0.7513\n",
      "Epoch 39/100\n",
      "100/100 [==============================] - 29s 285ms/step - loss: 0.5739 - acc: 0.6979 - val_loss: 0.5376 - val_acc: 0.7175\n",
      "Epoch 40/100\n",
      "100/100 [==============================] - 28s 284ms/step - loss: 0.5757 - acc: 0.6898 - val_loss: 0.5050 - val_acc: 0.7425\n",
      "Epoch 41/100\n",
      "100/100 [==============================] - 29s 294ms/step - loss: 0.5771 - acc: 0.6973 - val_loss: 0.5140 - val_acc: 0.7350\n",
      "Epoch 42/100\n",
      "100/100 [==============================] - 29s 287ms/step - loss: 0.5570 - acc: 0.7079 - val_loss: 0.5961 - val_acc: 0.7200\n",
      "Epoch 43/100\n",
      "100/100 [==============================] - 29s 288ms/step - loss: 0.5630 - acc: 0.6963 - val_loss: 0.5304 - val_acc: 0.7200\n",
      "Epoch 44/100\n",
      "100/100 [==============================] - 30s 299ms/step - loss: 0.5544 - acc: 0.7061 - val_loss: 0.4813 - val_acc: 0.7912\n",
      "Epoch 45/100\n",
      "100/100 [==============================] - 31s 313ms/step - loss: 0.5496 - acc: 0.7181 - val_loss: 0.6047 - val_acc: 0.7000\n",
      "Epoch 46/100\n",
      "100/100 [==============================] - 31s 306ms/step - loss: 0.5668 - acc: 0.7004 - val_loss: 0.4849 - val_acc: 0.7487\n",
      "Epoch 47/100\n",
      "100/100 [==============================] - 32s 320ms/step - loss: 0.5542 - acc: 0.7242 - val_loss: 0.4724 - val_acc: 0.7650\n",
      "Epoch 48/100\n",
      "100/100 [==============================] - 30s 304ms/step - loss: 0.5524 - acc: 0.7111 - val_loss: 0.5634 - val_acc: 0.7400\n",
      "Epoch 49/100\n",
      "100/100 [==============================] - 30s 297ms/step - loss: 0.5529 - acc: 0.7161 - val_loss: 0.4833 - val_acc: 0.7663\n",
      "Epoch 50/100\n",
      "100/100 [==============================] - 29s 289ms/step - loss: 0.5463 - acc: 0.7267 - val_loss: 0.4772 - val_acc: 0.7788\n",
      "Epoch 51/100\n",
      "100/100 [==============================] - 29s 287ms/step - loss: 0.5332 - acc: 0.7292 - val_loss: 0.5596 - val_acc: 0.6862\n",
      "Epoch 52/100\n",
      "100/100 [==============================] - 29s 290ms/step - loss: 0.5519 - acc: 0.7023 - val_loss: 0.5419 - val_acc: 0.7100\n",
      "Epoch 53/100\n",
      "100/100 [==============================] - 29s 288ms/step - loss: 0.5434 - acc: 0.7281 - val_loss: 0.5030 - val_acc: 0.7563\n",
      "Epoch 54/100\n",
      "100/100 [==============================] - 29s 289ms/step - loss: 0.5561 - acc: 0.7138 - val_loss: 0.4783 - val_acc: 0.7663\n",
      "Epoch 55/100\n",
      "100/100 [==============================] - 31s 312ms/step - loss: 0.5547 - acc: 0.7054 - val_loss: 0.4647 - val_acc: 0.7800\n",
      "Epoch 56/100\n",
      "100/100 [==============================] - 32s 316ms/step - loss: 0.5608 - acc: 0.7123 - val_loss: 0.4549 - val_acc: 0.7900\n",
      "Epoch 57/100\n",
      "100/100 [==============================] - 30s 296ms/step - loss: 0.5389 - acc: 0.7223 - val_loss: 0.4746 - val_acc: 0.7788\n",
      "Epoch 58/100\n",
      "100/100 [==============================] - 31s 313ms/step - loss: 0.5335 - acc: 0.7367 - val_loss: 0.5311 - val_acc: 0.7275\n",
      "Epoch 59/100\n",
      "100/100 [==============================] - 30s 302ms/step - loss: 0.5534 - acc: 0.7294 - val_loss: 0.4711 - val_acc: 0.7912\n",
      "Epoch 60/100\n",
      "100/100 [==============================] - 30s 296ms/step - loss: 0.5472 - acc: 0.7205 - val_loss: 0.4693 - val_acc: 0.7962\n"
     ]
    },
    {
     "name": "stdout",
     "output_type": "stream",
     "text": [
      "Epoch 61/100\n",
      "100/100 [==============================] - 30s 301ms/step - loss: 0.5385 - acc: 0.7292 - val_loss: 0.4755 - val_acc: 0.7663\n",
      "Epoch 62/100\n",
      "100/100 [==============================] - 30s 298ms/step - loss: 0.5455 - acc: 0.7223 - val_loss: 0.4590 - val_acc: 0.7763\n",
      "Epoch 63/100\n",
      "100/100 [==============================] - 32s 317ms/step - loss: 0.5465 - acc: 0.7292 - val_loss: 0.5109 - val_acc: 0.7625\n",
      "Epoch 64/100\n",
      "100/100 [==============================] - 31s 310ms/step - loss: 0.5391 - acc: 0.7317 - val_loss: 0.4482 - val_acc: 0.7937\n",
      "Epoch 65/100\n",
      "100/100 [==============================] - 30s 303ms/step - loss: 0.5416 - acc: 0.7323 - val_loss: 0.5287 - val_acc: 0.7200\n",
      "Epoch 66/100\n",
      "100/100 [==============================] - 30s 297ms/step - loss: 0.5336 - acc: 0.7325 - val_loss: 0.5644 - val_acc: 0.7200\n",
      "Epoch 67/100\n",
      "100/100 [==============================] - 32s 316ms/step - loss: 0.5346 - acc: 0.7342 - val_loss: 0.4808 - val_acc: 0.7650\n",
      "Epoch 68/100\n",
      "100/100 [==============================] - 32s 323ms/step - loss: 0.5412 - acc: 0.7261 - val_loss: 0.4561 - val_acc: 0.7750\n",
      "Epoch 69/100\n",
      "100/100 [==============================] - 31s 309ms/step - loss: 0.5319 - acc: 0.7286 - val_loss: 0.4643 - val_acc: 0.7925\n",
      "Epoch 70/100\n",
      "100/100 [==============================] - 30s 296ms/step - loss: 0.5273 - acc: 0.7236 - val_loss: 0.4653 - val_acc: 0.8062\n",
      "Epoch 71/100\n",
      "100/100 [==============================] - 30s 297ms/step - loss: 0.5426 - acc: 0.7292 - val_loss: 0.4731 - val_acc: 0.7487\n",
      "Epoch 72/100\n",
      "100/100 [==============================] - 30s 295ms/step - loss: 0.5305 - acc: 0.7305 - val_loss: 0.4681 - val_acc: 0.7788\n",
      "Epoch 73/100\n",
      "100/100 [==============================] - 29s 288ms/step - loss: 0.5237 - acc: 0.7367 - val_loss: 0.4290 - val_acc: 0.7987\n",
      "Epoch 74/100\n",
      "100/100 [==============================] - 29s 290ms/step - loss: 0.5408 - acc: 0.7342 - val_loss: 0.4649 - val_acc: 0.7825\n",
      "Epoch 75/100\n",
      "100/100 [==============================] - 29s 292ms/step - loss: 0.5367 - acc: 0.7248 - val_loss: 0.4570 - val_acc: 0.7862\n",
      "Epoch 76/100\n",
      "100/100 [==============================] - 29s 289ms/step - loss: 0.5275 - acc: 0.7323 - val_loss: 0.5483 - val_acc: 0.7738\n",
      "Epoch 77/100\n",
      "100/100 [==============================] - 29s 289ms/step - loss: 0.5343 - acc: 0.7394 - val_loss: 0.5503 - val_acc: 0.7175\n",
      "Epoch 78/100\n",
      "100/100 [==============================] - 29s 288ms/step - loss: 0.5235 - acc: 0.7517 - val_loss: 0.4249 - val_acc: 0.8112\n",
      "Epoch 79/100\n",
      "100/100 [==============================] - 29s 287ms/step - loss: 0.5228 - acc: 0.7442 - val_loss: 0.5301 - val_acc: 0.7837\n",
      "Epoch 80/100\n",
      "100/100 [==============================] - 29s 288ms/step - loss: 0.5158 - acc: 0.7480 - val_loss: 0.5504 - val_acc: 0.7525\n",
      "Epoch 81/100\n",
      "100/100 [==============================] - 29s 288ms/step - loss: 0.5390 - acc: 0.7292 - val_loss: 0.4537 - val_acc: 0.7950\n",
      "Epoch 82/100\n",
      "100/100 [==============================] - 29s 286ms/step - loss: 0.5133 - acc: 0.7281 - val_loss: 0.4623 - val_acc: 0.7763\n",
      "Epoch 83/100\n",
      "100/100 [==============================] - 29s 289ms/step - loss: 0.5204 - acc: 0.7336 - val_loss: 0.4873 - val_acc: 0.7850\n",
      "Epoch 84/100\n",
      "100/100 [==============================] - 29s 293ms/step - loss: 0.5086 - acc: 0.7492 - val_loss: 0.4767 - val_acc: 0.7563\n",
      "Epoch 85/100\n",
      "100/100 [==============================] - 29s 290ms/step - loss: 0.5275 - acc: 0.7361 - val_loss: 0.5131 - val_acc: 0.7325\n",
      "Epoch 86/100\n",
      "100/100 [==============================] - 29s 287ms/step - loss: 0.5090 - acc: 0.7373 - val_loss: 0.4426 - val_acc: 0.8175\n",
      "Epoch 87/100\n",
      "100/100 [==============================] - 29s 289ms/step - loss: 0.5274 - acc: 0.7286 - val_loss: 0.4691 - val_acc: 0.8050\n",
      "Epoch 88/100\n",
      "100/100 [==============================] - 29s 288ms/step - loss: 0.5194 - acc: 0.7367 - val_loss: 0.4516 - val_acc: 0.7788\n",
      "Epoch 89/100\n",
      "100/100 [==============================] - 29s 289ms/step - loss: 0.5251 - acc: 0.7430 - val_loss: 0.4689 - val_acc: 0.7725\n",
      "Epoch 90/100\n",
      "100/100 [==============================] - 30s 302ms/step - loss: 0.5250 - acc: 0.7517 - val_loss: 0.4516 - val_acc: 0.8025\n",
      "Epoch 91/100\n",
      "100/100 [==============================] - 29s 289ms/step - loss: 0.5081 - acc: 0.7461 - val_loss: 0.5213 - val_acc: 0.7462\n",
      "Epoch 92/100\n",
      "100/100 [==============================] - 30s 298ms/step - loss: 0.5095 - acc: 0.7536 - val_loss: 0.5002 - val_acc: 0.7775\n",
      "Epoch 93/100\n",
      "100/100 [==============================] - 32s 317ms/step - loss: 0.5036 - acc: 0.7525 - val_loss: 0.5700 - val_acc: 0.7650\n",
      "Epoch 94/100\n",
      "100/100 [==============================] - 29s 291ms/step - loss: 0.5204 - acc: 0.7511 - val_loss: 0.4592 - val_acc: 0.7837\n",
      "Epoch 95/100\n",
      "100/100 [==============================] - 29s 288ms/step - loss: 0.4988 - acc: 0.7519 - val_loss: 0.5360 - val_acc: 0.7437\n",
      "Epoch 96/100\n",
      "100/100 [==============================] - 29s 291ms/step - loss: 0.5170 - acc: 0.7513 - val_loss: 0.4097 - val_acc: 0.8150\n",
      "Epoch 97/100\n",
      "100/100 [==============================] - 29s 287ms/step - loss: 0.5110 - acc: 0.7656 - val_loss: 0.4506 - val_acc: 0.7900\n",
      "Epoch 98/100\n",
      "100/100 [==============================] - 29s 286ms/step - loss: 0.5058 - acc: 0.7567 - val_loss: 0.5100 - val_acc: 0.7550\n",
      "Epoch 99/100\n",
      "100/100 [==============================] - 29s 287ms/step - loss: 0.5256 - acc: 0.7473 - val_loss: 0.4275 - val_acc: 0.7975\n",
      "Epoch 100/100\n",
      "100/100 [==============================] - 29s 287ms/step - loss: 0.4926 - acc: 0.7617 - val_loss: 0.4557 - val_acc: 0.7750\n",
      "Info: Done!\n"
     ]
    }
   ],
   "source": [
    "history_x = model_x.fit_generator(train_generator_x,\n",
    "                                  steps_per_epoch = 100,\n",
    "                                  epochs = 100,\n",
    "                                  validation_data = validation_generator_x,\n",
    "                                  validation_steps = 50)\n",
    "\n",
    "print(\"Info: Done!\")"
   ]
  },
  {
   "cell_type": "markdown",
   "id": "9b89818c",
   "metadata": {},
   "source": [
    "# Visualization New Model"
   ]
  },
  {
   "cell_type": "code",
   "execution_count": 28,
   "id": "429ea7ab",
   "metadata": {},
   "outputs": [
    {
     "data": {
      "text/plain": [
       "<matplotlib.legend.Legend at 0x216ce4c1ac0>"
      ]
     },
     "execution_count": 28,
     "metadata": {},
     "output_type": "execute_result"
    },
    {
     "data": {
      "image/png": "[encoded data removed]",
      "text/plain": [
       "<Figure size 432x288 with 1 Axes>"
      ]
     },
     "metadata": {},
     "output_type": "display_data"
    }
   ],
   "source": [
    "import matplotlib.pyplot as plt\n",
    "import numpy as np\n",
    "\n",
    "\n",
    "plt.style.use(\"seaborn-darkgrid\")\n",
    "plt.figure()\n",
    "\n",
    "epochs = 100\n",
    "\n",
    "plt.plot(np.arange(0,epochs), history_x.history[\"loss\"], label=\"train_loss\")\n",
    "plt.plot(np.arange(0,epochs), history_x.history[\"val_loss\"], label=\"val_loss\")\n",
    "\n",
    "plt.plot(np.arange(0,epochs), history_x.history[\"acc\"], label=\"train_acc\")\n",
    "plt.plot(np.arange(0,epochs), history_x.history[\"val_acc\"], label=\"val_acc\")\n",
    "\n",
    "plt.title(\"Trainig | Loss&Accuracy\")\n",
    "\n",
    "plt.xlabel(\"100 - Epoch\")\n",
    "plt.ylabel(\"Loss&Accuracy\")\n",
    "\n",
    "plt.legend(loc=\"lower left\")"
   ]
  },
  {
   "cell_type": "code",
   "execution_count": 29,
   "id": "2046c73a",
   "metadata": {},
   "outputs": [],
   "source": [
    "model_x.save(\"models/cat_dog_last.h5\")"
   ]
  },
  {
   "cell_type": "markdown",
   "id": "4f852e3c",
   "metadata": {},
   "source": [
    "# Prediction"
   ]
  },
  {
   "cell_type": "code",
   "execution_count": 32,
   "id": "60a56edc",
   "metadata": {},
   "outputs": [],
   "source": [
    "from keras.preprocessing.image import load_img, img_to_array\n",
    "from keras.models import load_model\n",
    "import numpy as np"
   ]
  },
  {
   "cell_type": "code",
   "execution_count": 52,
   "id": "ef890974",
   "metadata": {},
   "outputs": [],
   "source": [
    "model_path = \"models/cat_dog_last.h5\"\n",
    "image_path = \"datasets/catdog/test/cats/1513.jpg\""
   ]
  },
  {
   "cell_type": "code",
   "execution_count": 53,
   "id": "f88a267f",
   "metadata": {},
   "outputs": [],
   "source": [
    "prediction_model = load_model(model_path)\n",
    "test_img = load_img(image_path, target_size=(150,150))"
   ]
  },
  {
   "cell_type": "code",
   "execution_count": 54,
   "id": "6552a308",
   "metadata": {},
   "outputs": [
    {
     "name": "stdout",
     "output_type": "stream",
     "text": [
      "<PIL.Image.Image image mode=RGB size=150x150 at 0x216CE54A640>\n"
     ]
    },
    {
     "data": {
      "image/png": "[encoded data removed]",
      "text/plain": [
       "<PIL.Image.Image image mode=RGB size=150x150 at 0x216CE54A640>"
      ]
     },
     "execution_count": 54,
     "metadata": {},
     "output_type": "execute_result"
    }
   ],
   "source": [
    "print(test_img)\n",
    "test_img"
   ]
  },
  {
   "cell_type": "code",
   "execution_count": 55,
   "id": "8804c2e0",
   "metadata": {},
   "outputs": [
    {
     "data": {
      "text/plain": [
       "(150, 150, 3)"
      ]
     },
     "execution_count": 55,
     "metadata": {},
     "output_type": "execute_result"
    }
   ],
   "source": [
    "test_img = img_to_array(test_img)\n",
    "test_img.shape\n"
   ]
  },
  {
   "cell_type": "code",
   "execution_count": 56,
   "id": "d583cadb",
   "metadata": {},
   "outputs": [],
   "source": [
    "test_img = np.expand_dims(test_img, axis=0)"
   ]
  },
  {
   "cell_type": "code",
   "execution_count": 57,
   "id": "06564571",
   "metadata": {},
   "outputs": [
    {
     "data": {
      "text/plain": [
       "(1, 150, 150, 3)"
      ]
     },
     "execution_count": 57,
     "metadata": {},
     "output_type": "execute_result"
    }
   ],
   "source": [
    "test_img.shape"
   ]
  },
  {
   "cell_type": "code",
   "execution_count": 58,
   "id": "5751f273",
   "metadata": {},
   "outputs": [
    {
     "data": {
      "text/plain": [
       "{'cats': 0, 'dogs': 1}"
      ]
     },
     "execution_count": 58,
     "metadata": {},
     "output_type": "execute_result"
    }
   ],
   "source": [
    "train_generator_x.class_indices"
   ]
  },
  {
   "cell_type": "code",
   "execution_count": 59,
   "id": "c0c63ba5",
   "metadata": {},
   "outputs": [
    {
     "data": {
      "text/plain": [
       "array([[0.]], dtype=float32)"
      ]
     },
     "execution_count": 59,
     "metadata": {},
     "output_type": "execute_result"
    }
   ],
   "source": [
    "result = prediction_model.predict(test_img)\n",
    "result"
   ]
  },
  {
   "cell_type": "code",
   "execution_count": 60,
   "id": "302dc4bb",
   "metadata": {},
   "outputs": [
    {
     "name": "stdout",
     "output_type": "stream",
     "text": [
      "Prediction: This is a Cat\n"
     ]
    }
   ],
   "source": [
    "if result[0][0] > 0.5:\n",
    "    label = \"Dog\"\n",
    "    print(\"Prediction: This is a\",label)\n",
    "    \n",
    "else:\n",
    "    label = \"Cat\"\n",
    "    print(\"Prediction: This is a\", label)"
   ]
  },
  {
   "cell_type": "code",
   "execution_count": 61,
   "id": "ed5da9e9",
   "metadata": {},
   "outputs": [],
   "source": [
    "import cv2\n",
    "\n",
    "test_img = cv2.imread(image_path)\n",
    "\n",
    "\n",
    "font = cv2.FONT_HERSHEY_SIMPLEX\n",
    "color = (255,255,0)\n",
    "cv2.putText(test_img, label, (20,40), font, 1.0, color, 3)\n",
    "\n",
    "\n",
    "cv2.imshow(\"Prediction\", test_img)\n",
    "cv2.waitKey(0)\n",
    "cv2.destroyAllWindows()"
   ]
  }
 ],
 "metadata": {
  "kernelspec": {
   "display_name": "Python 3",
   "language": "python",
   "name": "python3"
  },
  "language_info": {
   "codemirror_mode": {
    "name": "ipython",
    "version": 3
   },
   "file_extension": ".py",
   "mimetype": "text/x-python",
   "name": "python",
   "nbconvert_exporter": "python",
   "pygments_lexer": "ipython3",
   "version": "3.8.8"
  }
 },
 "nbformat": 4,
 "nbformat_minor": 5
}
