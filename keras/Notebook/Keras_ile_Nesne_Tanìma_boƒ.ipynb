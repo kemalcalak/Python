{
  "nbformat": 4,
  "nbformat_minor": 0,
  "metadata": {
    "colab": {
      "provenance": [],
      "collapsed_sections": [
        "orNaX3S5t7r-"
      ]
    },
    "kernelspec": {
      "name": "python3",
      "display_name": "Python 3"
    },
    "language_info": {
      "name": "python"
    },
    "gpuClass": "standard",
    "accelerator": "GPU"
  },
  "cells": [
    {
      "cell_type": "markdown",
      "source": [
        "# Keras ile Nesne Tanıma\n",
        "\n",
        "\n",
        "---"
      ],
      "metadata": {
        "id": "2SrQtN6Fs1qS"
      }
    },
    {
      "cell_type": "markdown",
      "source": [
        "![picture](https://miro.medium.com/max/652/1*uokXCDa_O7jzfbUC9qS6cg.png)"
      ],
      "metadata": {
        "id": "jkNLBcwOs2nt"
      }
    },
    {
      "cell_type": "markdown",
      "source": [
        "Bu kılavuz/notebook ***Keras Kütüphanesi ile Nesne Tanıma*** uygulamaları geliştirme öğrenimini kapsamaktadır. Kılavuz tamamlandığında ***Keras ile Nesne Tanıma*** algoritmaları geliştirilebilecek düzeye gelinmiş olacak. \n",
        "\n",
        "Bu ve bunun gibi konularla ilgili benimle iletişime geçmek isteyenler, aşağıdaki bağlantıları kullanabilirler.\n",
        "\n",
        "- E-posta: grboguz@gmail.com\n",
        "- Instagram: https://www.instagram.com/oguzhangurbzz/\n",
        "- Github: https://github.com/grboguz\n",
        "- Discord: https://discord.gg/YW6mdcMnFF\n",
        "- Udemy: https://www.udemy.com/user/oguzhan-gurbuz/\n",
        "- Linkedin: https://www.linkedin.com/in/o%C4%9Fuzhan-g%C3%BCrb%C3%BCz-4780481a6/\n",
        "\n",
        "Not: Eğer özel yardım talebiniz varsa bu [bağlantıdan](https://www.shopier.com/grboguz) Shopier üzerindeki özel danışmanlıklarımızı inceleyebilirsiniz. "
      ],
      "metadata": {
        "id": "SV6jfmj_s7FV"
      }
    },
    {
      "cell_type": "markdown",
      "source": [
        "***Bounding Box Regression*** tekniğini kullanarak nesne tanıma uygulaması geliştireceğiz."
      ],
      "metadata": {
        "id": "TKVCO0L1te39"
      }
    },
    {
      "cell_type": "markdown",
      "source": [
        "### İçerik"
      ],
      "metadata": {
        "id": "H8Qz0LXM28jO"
      }
    },
    {
      "cell_type": "markdown",
      "source": [
        "  1.   Bounding Box Regression\n",
        "  2.   Single Class Object Detection\n",
        "  3.   Multi Class Object Detection "
      ],
      "metadata": {
        "id": "2GY2HbXz2-25"
      }
    },
    {
      "cell_type": "markdown",
      "source": [
        "### Bounding Box Regression"
      ],
      "metadata": {
        "id": "orNaX3S5t7r-"
      }
    },
    {
      "cell_type": "markdown",
      "source": [
        "![picture](https://miro.medium.com/max/1276/1*HGWSXE8pFbAfB9zuCGXSQA.jpeg)"
      ],
      "metadata": {
        "id": "ngJVpA1puBgq"
      }
    },
    {
      "cell_type": "markdown",
      "source": [
        "Bir görüntü sınıflandırma uygulaması aşağıdaki gibi çalışır:\n",
        "- Bir görüntü seç\n",
        "- Bir mimariye girdi olarak ver\n",
        "- Üretilen olasılık matrisiyle etiketi belirle."
      ],
      "metadata": {
        "id": "hvhtFKjsuBPO"
      }
    },
    {
      "cell_type": "markdown",
      "source": [
        "Aslında bounding box regression tekniği de buna benzer şekilde çalışır fakat bazı noktalarda farklılıklar mevcuttur. Alışılagelmiş bir regresyon modeli bize sadece sınıflandırma sonucunu verir. Sınırlandırıcı dikdörtgenler üretmez. Tipik bir regresyon modeli aşağıdaki uygulamalarda kullanılabilir:\n",
        "- Ev fiyat tahmini\n",
        "- Borsa tahmini\n",
        "- Popülasyon artış hızı"
      ],
      "metadata": {
        "id": "HOu0VGM0vJoZ"
      }
    },
    {
      "cell_type": "markdown",
      "source": [
        "![picture](https://www.imsl.com/sites/default/files/image/2021-06/IMSL%20What%20is%20Regression%20Model%20Blog%20Feature.png)"
      ],
      "metadata": {
        "id": "JLp4qbHx1gUU"
      }
    },
    {
      "cell_type": "markdown",
      "source": [
        "Tipik bir regresyon modeli üzerinde aşağıdaki değişiklikler yapılırsa, bu mimari bize sınırlayıcı noktalar da döndürür:\n",
        "- Sırasıyla sol üst ve sağ alt (x, y) koordinatlarına karşılık gelen dört nöronlu tam bağlantılı(fully connected) bir katman oluşturulmalı\n",
        "\n",
        "- Bu dört nöron katmanı [0,1] aralığında çıktılar döndürmeli. Bunun içinde sigmoid fonksiyonu uygulanmalı\n",
        "\n",
        "- Modeli, (1) giriş görüntülerinden ve (2) görüntüdeki nesnenin sınırlayıcı kutusundan oluşan eğitim verilerinde mean-squared error (ortalama kare hatası) veya mean-absolute error (ortalama mutlak hata) gibi bir kayıp işlevi kullanarak eğitilmeli."
      ],
      "metadata": {
        "id": "RR2CKDSRw4KI"
      }
    },
    {
      "cell_type": "markdown",
      "source": [
        "### Tek Sınıflı Nesne Tanıma Uygulaması (Single Class Object Detection)"
      ],
      "metadata": {
        "id": "ZcnDyJiZ2v_D"
      }
    },
    {
      "cell_type": "markdown",
      "source": [
        "Uygulamamıza ilk olarak veri kümemizi oluşturarak başlayalım. Bu bağlantıdan (https://data.caltech.edu/records/mzrjq-6wc02) veri kümemizi indirelim ve sadece tek sınıflı olacak şekilde bir alt küme (subset) oluşturalım. Alt küme oluşturmak için [videodaki](https://www.udemy.com/user/oguzhan-gurbuz/) adımları birebir takip ediniz."
      ],
      "metadata": {
        "id": "PTGB8ZzV3GcK"
      }
    },
    {
      "cell_type": "markdown",
      "source": [
        "![picture](https://debuggercafe.com/wp-content/uploads/2020/03/caltech101exp-min.png)"
      ],
      "metadata": {
        "id": "4wgTzNtG3w5K"
      }
    },
    {
      "cell_type": "markdown",
      "source": [
        "Alt kümeyi oluşturup sonra Google Drive hesabınıza yükledikten sonra kodlarımızı yazmaya başlayabiliriz !"
      ],
      "metadata": {
        "id": "y3VhmT9-4FS-"
      }
    },
    {
      "cell_type": "markdown",
      "source": [
        "GPU Testi"
      ],
      "metadata": {
        "id": "W878jgwk4dBy"
      }
    },
    {
      "cell_type": "code",
      "source": [],
      "metadata": {
        "id": "PKtIiuxfs9e-"
      },
      "execution_count": null,
      "outputs": []
    },
    {
      "cell_type": "markdown",
      "source": [
        "Google Drive Bağlantısı"
      ],
      "metadata": {
        "id": "e4pGmkcH4gBK"
      }
    },
    {
      "cell_type": "code",
      "source": [],
      "metadata": {
        "id": "CbX6ihdws_mD"
      },
      "execution_count": null,
      "outputs": []
    },
    {
      "cell_type": "code",
      "source": [],
      "metadata": {
        "id": "POWuW3FStFEf"
      },
      "execution_count": null,
      "outputs": []
    },
    {
      "cell_type": "code",
      "source": [],
      "metadata": {
        "id": "JLJ1ofxEriEI"
      },
      "execution_count": null,
      "outputs": []
    },
    {
      "cell_type": "code",
      "source": [],
      "metadata": {
        "id": "qaHd1nyKmpsp"
      },
      "execution_count": null,
      "outputs": []
    },
    {
      "cell_type": "markdown",
      "source": [
        "Ön tanımlamaları yap.\n",
        "\n",
        "- Görüntülerin dizini\n",
        "- Etiketlerin dizini\n",
        "- Eğitim parametreleri"
      ],
      "metadata": {
        "id": "z-2aHN7-rspb"
      }
    },
    {
      "cell_type": "code",
      "source": [],
      "metadata": {
        "id": "WDZDqvoqrr1J"
      },
      "execution_count": null,
      "outputs": []
    },
    {
      "cell_type": "code",
      "source": [],
      "metadata": {
        "id": "8EpM442_rryX"
      },
      "execution_count": null,
      "outputs": []
    },
    {
      "cell_type": "markdown",
      "source": [
        "Dataset İnceleme & Düzenleme"
      ],
      "metadata": {
        "id": "AWUJXXOTskES"
      }
    },
    {
      "cell_type": "code",
      "source": [],
      "metadata": {
        "id": "Pqq9LmzopUcX"
      },
      "execution_count": null,
      "outputs": []
    },
    {
      "cell_type": "code",
      "source": [],
      "metadata": {
        "id": "NUBnG9fErrv7"
      },
      "execution_count": null,
      "outputs": []
    },
    {
      "cell_type": "code",
      "source": [],
      "metadata": {
        "id": "YCSX_fAFtFGP"
      },
      "execution_count": null,
      "outputs": []
    },
    {
      "cell_type": "code",
      "source": [],
      "metadata": {
        "id": "aQbKUhP0tLzn"
      },
      "execution_count": null,
      "outputs": []
    },
    {
      "cell_type": "markdown",
      "source": [
        "Görüntü ve etiketleri eşleştiren aşağıdaki gibi bir liste oluştur:\n",
        "-  `[dosya, x, y, z, q]`\n",
        "- `[img.jpg, 19, 141, 32, 244]`"
      ],
      "metadata": {
        "id": "xUSAgk5Z6djm"
      }
    },
    {
      "cell_type": "code",
      "source": [],
      "metadata": {
        "id": "qFW3hyvV0jPc"
      },
      "execution_count": null,
      "outputs": []
    },
    {
      "cell_type": "code",
      "source": [],
      "metadata": {
        "id": "Hr1kAqKut2pw"
      },
      "execution_count": null,
      "outputs": []
    },
    {
      "cell_type": "code",
      "source": [],
      "metadata": {
        "id": "eYBP49nwt2md"
      },
      "execution_count": null,
      "outputs": []
    },
    {
      "cell_type": "markdown",
      "source": [
        "Eğitim için Görüntüleri Hazırlama"
      ],
      "metadata": {
        "id": "EcEWQxPY435W"
      }
    },
    {
      "cell_type": "code",
      "source": [],
      "metadata": {
        "id": "_d8wKnDpJ2Qf"
      },
      "execution_count": null,
      "outputs": []
    },
    {
      "cell_type": "markdown",
      "source": [
        "`['image_0001.jpg', 19, 141, 31, 233]`\n",
        "\n",
        "`[filename, startY, endY, startX, endX]`"
      ],
      "metadata": {
        "id": "sORRjVHfCtcq"
      }
    },
    {
      "cell_type": "code",
      "source": [],
      "metadata": {
        "id": "nwNBipzEJ0c2"
      },
      "execution_count": null,
      "outputs": []
    },
    {
      "cell_type": "code",
      "source": [],
      "metadata": {
        "id": "Vj0fn0cZJwv7"
      },
      "execution_count": null,
      "outputs": []
    },
    {
      "cell_type": "code",
      "source": [],
      "metadata": {
        "id": "10nNhbAcIlag"
      },
      "execution_count": null,
      "outputs": []
    },
    {
      "cell_type": "code",
      "source": [],
      "metadata": {
        "id": "v3MSVD3dHTnm"
      },
      "execution_count": null,
      "outputs": []
    },
    {
      "cell_type": "code",
      "source": [
        "# [0,255] --> [0,1]\n"
      ],
      "metadata": {
        "id": "vDK3Sa7Tt2iC"
      },
      "execution_count": null,
      "outputs": []
    },
    {
      "cell_type": "code",
      "source": [],
      "metadata": {
        "id": "ZFfQ5RwjGdRy"
      },
      "execution_count": null,
      "outputs": []
    },
    {
      "cell_type": "code",
      "source": [],
      "metadata": {
        "id": "EpZsVwvBHhnO"
      },
      "execution_count": null,
      "outputs": []
    },
    {
      "cell_type": "code",
      "source": [
        "# 90%(train)- 10%(test)\n"
      ],
      "metadata": {
        "id": "kWEzjrGOwfbc"
      },
      "execution_count": null,
      "outputs": []
    },
    {
      "cell_type": "markdown",
      "source": [
        "`split = [ trainImages, testImages, trainBBox, testBBox, trainFilenames, testFilenames ]`"
      ],
      "metadata": {
        "id": "hje3HrvnLzev"
      }
    },
    {
      "cell_type": "code",
      "source": [],
      "metadata": {
        "id": "QcWkLwQpwfVZ"
      },
      "execution_count": null,
      "outputs": []
    },
    {
      "cell_type": "code",
      "source": [
        "# test dosyalarımı kullanmak üzere bir değişken içerisine kaydedelim.\n"
      ],
      "metadata": {
        "id": "-MsSHgEiwfSX"
      },
      "execution_count": null,
      "outputs": []
    },
    {
      "cell_type": "markdown",
      "source": [
        "Modeli Oluşturma"
      ],
      "metadata": {
        "id": "K52YI5cEy_SZ"
      }
    },
    {
      "cell_type": "markdown",
      "source": [
        "Bu aşamada transfer learning tekniği kullanılacaktır. Eğer yeterli hissetmiyorsanız lütfen bu [makaleyi](https://keras.io/guides/transfer_learning/) okuyun ve [videodaki](https://www.udemy.com/user/oguzhan-gurbuz/) açıklamaları dikkatlice takip ediniz."
      ],
      "metadata": {
        "id": "ECOxHXi55E1i"
      }
    },
    {
      "cell_type": "code",
      "source": [],
      "metadata": {
        "id": "5tiDohklPmO_"
      },
      "execution_count": null,
      "outputs": []
    },
    {
      "cell_type": "code",
      "source": [],
      "metadata": {
        "id": "inp2waRbrrqz"
      },
      "execution_count": null,
      "outputs": []
    },
    {
      "cell_type": "code",
      "source": [],
      "metadata": {
        "id": "nTw5yA0vrroV"
      },
      "execution_count": null,
      "outputs": []
    },
    {
      "cell_type": "markdown",
      "source": [
        "Eğitim"
      ],
      "metadata": {
        "id": "l2Xf8SU65yTe"
      }
    },
    {
      "cell_type": "code",
      "source": [],
      "metadata": {
        "id": "ThYtIqLM5uQS"
      },
      "execution_count": null,
      "outputs": []
    },
    {
      "cell_type": "markdown",
      "source": [
        "Visualization"
      ],
      "metadata": {
        "id": "TRgK8dfDS4vE"
      }
    },
    {
      "cell_type": "code",
      "source": [],
      "metadata": {
        "id": "5OVW6h6qUDNg"
      },
      "execution_count": null,
      "outputs": []
    },
    {
      "cell_type": "code",
      "source": [],
      "metadata": {
        "id": "EuQ84kuUUeWf"
      },
      "execution_count": null,
      "outputs": []
    },
    {
      "cell_type": "code",
      "source": [],
      "metadata": {
        "id": "DniCI5WcVGVY"
      },
      "execution_count": null,
      "outputs": []
    },
    {
      "cell_type": "markdown",
      "source": [
        "Prediction"
      ],
      "metadata": {
        "id": "NaFvf-IN52eS"
      }
    },
    {
      "cell_type": "code",
      "source": [],
      "metadata": {
        "id": "536vTiVpy-7l"
      },
      "execution_count": null,
      "outputs": []
    },
    {
      "cell_type": "code",
      "source": [],
      "metadata": {
        "id": "5GlsmaSL1kZs"
      },
      "execution_count": null,
      "outputs": []
    },
    {
      "cell_type": "code",
      "source": [],
      "metadata": {
        "id": "BDHuae9kXMSz"
      },
      "execution_count": null,
      "outputs": []
    },
    {
      "cell_type": "code",
      "source": [],
      "metadata": {
        "id": "BhUHD9KrA-Nu"
      },
      "execution_count": null,
      "outputs": []
    },
    {
      "cell_type": "markdown",
      "source": [
        "### Çok Sınıflı Nesne Tanıma Uygulaması (Multi Class Object Detection)"
      ],
      "metadata": {
        "id": "cZp2tnK-BQrG"
      }
    },
    {
      "cell_type": "markdown",
      "source": [
        "Sıkıştırılımış dataset dosyasını ayrıştır."
      ],
      "metadata": {
        "id": "TCRkYJAAfb6Q"
      }
    },
    {
      "cell_type": "code",
      "source": [],
      "metadata": {
        "id": "nnHWD-HVBMQw"
      },
      "execution_count": null,
      "outputs": []
    },
    {
      "cell_type": "code",
      "source": [],
      "metadata": {
        "id": "vavRQdEWuxHU"
      },
      "execution_count": null,
      "outputs": []
    },
    {
      "cell_type": "code",
      "source": [],
      "metadata": {
        "id": "Db5wq6CriReC"
      },
      "execution_count": null,
      "outputs": []
    },
    {
      "cell_type": "markdown",
      "source": [
        "Ön tanımlamaları yap.\n",
        "\n",
        "- Görüntülerin dizini\n",
        "- Etiketlerin dizini\n",
        "- Eğitim parametreleri"
      ],
      "metadata": {
        "id": "KCcVDXJ3dK0R"
      }
    },
    {
      "cell_type": "code",
      "source": [],
      "metadata": {
        "id": "l14_uI19BMOA"
      },
      "execution_count": null,
      "outputs": []
    },
    {
      "cell_type": "code",
      "source": [],
      "metadata": {
        "id": "_4Ky4IzEj7J9"
      },
      "execution_count": null,
      "outputs": []
    },
    {
      "cell_type": "markdown",
      "source": [
        "Dataset İnceleme & Düzenleme"
      ],
      "metadata": {
        "id": "WDF3FD-1dRaN"
      }
    },
    {
      "cell_type": "code",
      "source": [],
      "metadata": {
        "id": "pLn2BDx2si2m"
      },
      "execution_count": null,
      "outputs": []
    },
    {
      "cell_type": "code",
      "source": [],
      "metadata": {
        "id": "kMv9qdjTGSmO"
      },
      "execution_count": null,
      "outputs": []
    },
    {
      "cell_type": "code",
      "source": [],
      "metadata": {
        "id": "n3knVItmIGNN"
      },
      "execution_count": null,
      "outputs": []
    },
    {
      "cell_type": "code",
      "source": [],
      "metadata": {
        "id": "Bs8akQg6IGfN"
      },
      "execution_count": null,
      "outputs": []
    },
    {
      "cell_type": "code",
      "source": [],
      "metadata": {
        "id": "pzNmXWk8IGyO"
      },
      "execution_count": null,
      "outputs": []
    },
    {
      "cell_type": "markdown",
      "source": [
        "Görüntü ve etiketleri eşleştiren aşağıdaki gibi bir liste oluştur:\n",
        "-  `[dosya, x, y, z, q, label]`\n",
        "- `[img.jpg, 19, 141, 32, 244, motorbike]`"
      ],
      "metadata": {
        "id": "b0HWEIBMdZc-"
      }
    },
    {
      "cell_type": "code",
      "source": [],
      "metadata": {
        "id": "n7HF6OoTBMJB"
      },
      "execution_count": null,
      "outputs": []
    },
    {
      "cell_type": "code",
      "source": [],
      "metadata": {
        "id": "1DYO6ShGJrpl"
      },
      "execution_count": null,
      "outputs": []
    },
    {
      "cell_type": "code",
      "source": [],
      "metadata": {
        "id": "39f9VlA7NKMu"
      },
      "execution_count": null,
      "outputs": []
    },
    {
      "cell_type": "code",
      "source": [],
      "metadata": {
        "id": "1cBQGV_kBMGc"
      },
      "execution_count": null,
      "outputs": []
    },
    {
      "cell_type": "code",
      "source": [],
      "metadata": {
        "id": "GxCta6PhNNpy"
      },
      "execution_count": null,
      "outputs": []
    },
    {
      "cell_type": "code",
      "source": [],
      "metadata": {
        "id": "CZI8yr7bMvPP"
      },
      "execution_count": null,
      "outputs": []
    },
    {
      "cell_type": "code",
      "source": [],
      "metadata": {
        "id": "lHwLCnWywdQ0"
      },
      "execution_count": null,
      "outputs": []
    },
    {
      "cell_type": "code",
      "source": [],
      "metadata": {
        "id": "uRwOsUhiHZYe"
      },
      "execution_count": null,
      "outputs": []
    },
    {
      "cell_type": "code",
      "source": [],
      "metadata": {
        "id": "1DoBWr4-NioS"
      },
      "execution_count": null,
      "outputs": []
    },
    {
      "cell_type": "code",
      "source": [],
      "metadata": {
        "id": "uiOYULEcMsvl"
      },
      "execution_count": null,
      "outputs": []
    },
    {
      "cell_type": "code",
      "source": [],
      "metadata": {
        "id": "HfLzUmbCHZRp"
      },
      "execution_count": null,
      "outputs": []
    },
    {
      "cell_type": "code",
      "source": [],
      "metadata": {
        "id": "dKNBBRCszs-2"
      },
      "execution_count": null,
      "outputs": []
    },
    {
      "cell_type": "code",
      "source": [],
      "metadata": {
        "id": "OiITrRqlztUu"
      },
      "execution_count": null,
      "outputs": []
    },
    {
      "cell_type": "code",
      "source": [],
      "metadata": {
        "id": "DFfF16KWNogK"
      },
      "execution_count": null,
      "outputs": []
    },
    {
      "cell_type": "markdown",
      "source": [
        "Eğitim için Görüntüleri Hazırlama"
      ],
      "metadata": {
        "id": "afn4b1y1drQs"
      }
    },
    {
      "cell_type": "code",
      "source": [],
      "metadata": {
        "id": "9pw-Yhaj1EF6"
      },
      "execution_count": null,
      "outputs": []
    },
    {
      "cell_type": "code",
      "source": [],
      "metadata": {
        "id": "zFgcENUkPtPm"
      },
      "execution_count": null,
      "outputs": []
    },
    {
      "cell_type": "code",
      "source": [],
      "metadata": {
        "id": "aFFAFyurN9Hz"
      },
      "execution_count": null,
      "outputs": []
    },
    {
      "cell_type": "code",
      "source": [
        "# [0,255] --> [0,1]"
      ],
      "metadata": {
        "id": "CBcbMNWkN9FF"
      },
      "execution_count": null,
      "outputs": []
    },
    {
      "cell_type": "markdown",
      "source": [
        "One-Hot Encoding"
      ],
      "metadata": {
        "id": "cOE7G2do3Dru"
      }
    },
    {
      "cell_type": "code",
      "source": [],
      "metadata": {
        "id": "oJB5jK8i20ti"
      },
      "execution_count": null,
      "outputs": []
    },
    {
      "cell_type": "markdown",
      "source": [
        "`labels = motorbike, face, airplane`\n",
        "\n",
        "`[1,0,0]`\n",
        "\n",
        "`[0,1,0]`\n",
        "\n",
        "`[0,0,1]`"
      ],
      "metadata": {
        "id": "9-FP1dNg21v6"
      }
    },
    {
      "cell_type": "code",
      "source": [],
      "metadata": {
        "id": "017wehYZ2Ngf"
      },
      "execution_count": null,
      "outputs": []
    },
    {
      "cell_type": "code",
      "source": [],
      "metadata": {
        "id": "94sqqote2O95"
      },
      "execution_count": null,
      "outputs": []
    },
    {
      "cell_type": "code",
      "source": [
        "# 80%(train)- 20%(test)"
      ],
      "metadata": {
        "id": "Z6BVEDtPN9Cl"
      },
      "execution_count": null,
      "outputs": []
    },
    {
      "cell_type": "code",
      "source": [],
      "metadata": {
        "id": "28UJT3t2N9AB"
      },
      "execution_count": null,
      "outputs": []
    },
    {
      "cell_type": "code",
      "source": [],
      "metadata": {
        "id": "-hHFaS3fN89e"
      },
      "execution_count": null,
      "outputs": []
    },
    {
      "cell_type": "markdown",
      "source": [
        "Modeli Oluşturma"
      ],
      "metadata": {
        "id": "DJscjNy3d50Q"
      }
    },
    {
      "cell_type": "code",
      "source": [],
      "metadata": {
        "id": "DRuOS17fN87O"
      },
      "execution_count": null,
      "outputs": []
    },
    {
      "cell_type": "code",
      "source": [],
      "metadata": {
        "id": "mskq6TI6UHX1"
      },
      "execution_count": null,
      "outputs": []
    },
    {
      "cell_type": "code",
      "source": [],
      "metadata": {
        "id": "YNJmUaiA6cxe"
      },
      "execution_count": null,
      "outputs": []
    },
    {
      "cell_type": "markdown",
      "source": [
        "Eğitim"
      ],
      "metadata": {
        "id": "s5j3Dj3Kd-dJ"
      }
    },
    {
      "cell_type": "code",
      "source": [],
      "metadata": {
        "id": "wT-RpkJY5LZ2"
      },
      "execution_count": null,
      "outputs": []
    },
    {
      "cell_type": "code",
      "source": [],
      "metadata": {
        "id": "Hoic4itivbY-"
      },
      "execution_count": null,
      "outputs": []
    },
    {
      "cell_type": "code",
      "source": [],
      "metadata": {
        "id": "WtNFRR7n-RIB"
      },
      "execution_count": null,
      "outputs": []
    },
    {
      "cell_type": "code",
      "source": [],
      "metadata": {
        "id": "y2wSK7s79nS4"
      },
      "execution_count": null,
      "outputs": []
    },
    {
      "cell_type": "markdown",
      "source": [
        "Prediction"
      ],
      "metadata": {
        "id": "0t-VkTFPeHZd"
      }
    },
    {
      "cell_type": "code",
      "source": [],
      "metadata": {
        "id": "QqAty0ru-iN5"
      },
      "execution_count": null,
      "outputs": []
    },
    {
      "cell_type": "code",
      "source": [],
      "metadata": {
        "id": "KJH9eiCEUTv_"
      },
      "execution_count": null,
      "outputs": []
    },
    {
      "cell_type": "code",
      "source": [
        "# preprocess"
      ],
      "metadata": {
        "id": "TG4MTnvaXyJe"
      },
      "execution_count": null,
      "outputs": []
    },
    {
      "cell_type": "code",
      "source": [
        "# prediction\n"
      ],
      "metadata": {
        "id": "4hAxO7DJWkVv"
      },
      "execution_count": null,
      "outputs": []
    },
    {
      "cell_type": "code",
      "source": [],
      "metadata": {
        "id": "1xpptGlHWkTa"
      },
      "execution_count": null,
      "outputs": []
    },
    {
      "cell_type": "code",
      "source": [],
      "metadata": {
        "id": "0srRWc13eFaf"
      },
      "execution_count": null,
      "outputs": []
    },
    {
      "cell_type": "code",
      "source": [],
      "metadata": {
        "id": "qXiCbO0VAM0V"
      },
      "execution_count": null,
      "outputs": []
    },
    {
      "cell_type": "code",
      "source": [],
      "metadata": {
        "id": "3PaD8V9eAUah"
      },
      "execution_count": null,
      "outputs": []
    },
    {
      "cell_type": "code",
      "source": [],
      "metadata": {
        "id": "BEBlz1LjZ4kE"
      },
      "execution_count": null,
      "outputs": []
    },
    {
      "cell_type": "code",
      "source": [],
      "metadata": {
        "id": "iRZdJn4wZUf_"
      },
      "execution_count": null,
      "outputs": []
    },
    {
      "cell_type": "code",
      "source": [],
      "metadata": {
        "id": "gPU8xADHYCpb"
      },
      "execution_count": null,
      "outputs": []
    },
    {
      "cell_type": "code",
      "source": [],
      "metadata": {
        "id": "GQ3wEVDxBoDK"
      },
      "execution_count": null,
      "outputs": []
    },
    {
      "cell_type": "code",
      "source": [],
      "metadata": {
        "id": "wbY2slL7WkQ7"
      },
      "execution_count": null,
      "outputs": []
    }
  ]
}