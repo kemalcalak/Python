{
 "cells": [
  {
   "cell_type": "code",
   "execution_count": 2,
   "id": "6318ecf6",
   "metadata": {},
   "outputs": [],
   "source": [
    "import keras\n",
    "import tensorflow as tf\n",
    "import matplotlib.pyplot as plt"
   ]
  },
  {
   "cell_type": "code",
   "execution_count": 6,
   "id": "4745a6cb",
   "metadata": {},
   "outputs": [],
   "source": [
    "input_shape = (28,28,1)"
   ]
  },
  {
   "cell_type": "code",
   "execution_count": 3,
   "id": "e39fbec8",
   "metadata": {},
   "outputs": [],
   "source": [
    "def plotData(history, metric):\n",
    "    \n",
    "    train_metrics = history.history[metric]\n",
    "    validation_metrics = history.history[\"val_\"+metric]\n",
    "    \n",
    "    epochs = range(1, len(train_metrics)+1)\n",
    "    \n",
    "    plt.plot(epochs, train_metrics)\n",
    "    plt.plot(epochs, validation_metrics)\n",
    "    \n",
    "    plt.title(\"Training&Validation\"+metric)\n",
    "    \n",
    "    plt.xlabel(\"Epochs\")\n",
    "    plt.ylabel(metric)\n",
    "    plt.legend([\"train_\"+metric,\"val_\"+metric])\n",
    "    \n",
    "    plt.show()"
   ]
  },
  {
   "cell_type": "code",
   "execution_count": 4,
   "id": "c957a74b",
   "metadata": {},
   "outputs": [],
   "source": [
    "def plotLR(history):\n",
    "    \n",
    "    learning_rate = history.history[\"lr\"]\n",
    "    epochs = range(1, len(learning_rate)+1) #range(0,5): 0,1,2,3,4\n",
    "    \n",
    "    plt.plot(epochs, learning_rate)    \n",
    "    \n",
    "    plt.title(\"Learning Rate\")\n",
    "    \n",
    "    plt.xlabel(\"Epochs\")\n",
    "    plt.ylabel(\"Learning Rate\")\n",
    "    \n",
    "    plt.show()"
   ]
  },
  {
   "cell_type": "code",
   "execution_count": 5,
   "id": "fa26ff6a",
   "metadata": {},
   "outputs": [
    {
     "name": "stdout",
     "output_type": "stream",
     "text": [
      "Shape of Train Images: (60000, 28, 28)\n",
      "Shape of Test Images: (10000, 28, 28)\n"
     ]
    }
   ],
   "source": [
    "from keras.datasets import mnist\n",
    "\n",
    "(train_images, train_labels) = mnist.load_data()[0]\n",
    "(test_images, test_labels) = mnist.load_data()[1]\n",
    "\n",
    "print(\"Shape of Train Images:\", train_images.shape)\n",
    "print(\"Shape of Test Images:\", test_images.shape)"
   ]
  },
  {
   "cell_type": "code",
   "execution_count": 9,
   "id": "3351f0b8",
   "metadata": {},
   "outputs": [],
   "source": [
    "from keras.models import Sequential\n",
    "from keras.layers import Conv2D, Dense, Dropout, Flatten, MaxPooling2D\n",
    "\n",
    "def mnist_model(input_shape):\n",
    "    model = Sequential([\n",
    "                        Conv2D(28, kernel_size=(3,3), input_shape=input_shape),\n",
    "                        MaxPooling2D(pool_size=(2,2)),\n",
    "                        Flatten(),\n",
    "                        Dense(128,activation=\"relu\"),\n",
    "                        Dropout(0.2),\n",
    "                        Dense(10, activation=\"softmax\")\n",
    "                        ])\n",
    "    \n",
    "    model.compile(\n",
    "                  optimizer=\"adam\",\n",
    "                  loss=\"sparse_categorical_crossentropy\",\n",
    "                  metrics=[\"accuracy\"]\n",
    "                 )\n",
    "    \n",
    "    return model"
   ]
  },
  {
   "cell_type": "code",
   "execution_count": 10,
   "id": "0f017492",
   "metadata": {},
   "outputs": [
    {
     "name": "stdout",
     "output_type": "stream",
     "text": [
      "Model: \"sequential\"\n",
      "_________________________________________________________________\n",
      " Layer (type)                Output Shape              Param #   \n",
      "=================================================================\n",
      " conv2d (Conv2D)             (None, 26, 26, 28)        280       \n",
      "                                                                 \n",
      " max_pooling2d (MaxPooling2D  (None, 13, 13, 28)       0         \n",
      " )                                                               \n",
      "                                                                 \n",
      " flatten (Flatten)           (None, 4732)              0         \n",
      "                                                                 \n",
      " dense (Dense)               (None, 128)               605824    \n",
      "                                                                 \n",
      " dropout (Dropout)           (None, 128)               0         \n",
      "                                                                 \n",
      " dense_1 (Dense)             (None, 10)                1290      \n",
      "                                                                 \n",
      "=================================================================\n",
      "Total params: 607,394\n",
      "Trainable params: 607,394\n",
      "Non-trainable params: 0\n",
      "_________________________________________________________________\n"
     ]
    }
   ],
   "source": [
    "model = mnist_model(input_shape)\n",
    "model.summary()"
   ]
  },
  {
   "cell_type": "code",
   "execution_count": 12,
   "id": "41df8eb7",
   "metadata": {},
   "outputs": [
    {
     "name": "stdout",
     "output_type": "stream",
     "text": [
      "Epoch 1/50\n",
      "750/750 - 9s - loss: 1.1117 - accuracy: 0.8329 - val_loss: 0.2945 - val_accuracy: 0.9301 - 9s/epoch - 13ms/step\n",
      "Epoch 2/50\n",
      "750/750 - 9s - loss: 0.3190 - accuracy: 0.9129 - val_loss: 0.1799 - val_accuracy: 0.9550 - 9s/epoch - 12ms/step\n"
     ]
    }
   ],
   "source": [
    "from keras.callbacks import EarlyStopping\n",
    "\n",
    "early_stopping = EarlyStopping()\n",
    "\n",
    "history_early_stopping = model.fit( \n",
    "                                    x = train_images,\n",
    "                                    y = train_labels,\n",
    "                                    epochs = 50,\n",
    "                                    validation_split = 0.20,\n",
    "                                    batch_size = 64,\n",
    "                                    verbose = 2,\n",
    "                                    callbacks = [early_stopping]\n",
    "                                    )"
   ]
  },
  {
   "cell_type": "code",
   "execution_count": 13,
   "id": "00a36c02",
   "metadata": {},
   "outputs": [
    {
     "data": {
      "image/png": "[encoded data removed]",
      "text/plain": [
       "<Figure size 432x288 with 1 Axes>"
      ]
     },
     "metadata": {
      "needs_background": "light"
     },
     "output_type": "display_data"
    }
   ],
   "source": [
    "plotData(history_early_stopping, \"loss\")"
   ]
  },
  {
   "cell_type": "code",
   "execution_count": 16,
   "id": "2ee279fc",
   "metadata": {},
   "outputs": [
    {
     "name": "stdout",
     "output_type": "stream",
     "text": [
      "Epoch 1/50\n",
      "750/750 - 9s - loss: 0.8154 - accuracy: 0.8627 - val_loss: 0.2232 - val_accuracy: 0.9454 - 9s/epoch - 13ms/step\n",
      "Epoch 2/50\n",
      "750/750 - 9s - loss: 0.2472 - accuracy: 0.9300 - val_loss: 0.1575 - val_accuracy: 0.9644 - 9s/epoch - 12ms/step\n",
      "Epoch 3/50\n",
      "750/750 - 9s - loss: 0.1802 - accuracy: 0.9495 - val_loss: 0.1331 - val_accuracy: 0.9668 - 9s/epoch - 12ms/step\n",
      "Epoch 4/50\n",
      "750/750 - 9s - loss: 0.1452 - accuracy: 0.9578 - val_loss: 0.1139 - val_accuracy: 0.9712 - 9s/epoch - 12ms/step\n",
      "Epoch 5/50\n",
      "750/750 - 9s - loss: 0.1284 - accuracy: 0.9623 - val_loss: 0.1125 - val_accuracy: 0.9705 - 9s/epoch - 12ms/step\n",
      "Epoch 6/50\n",
      "750/750 - 9s - loss: 0.1190 - accuracy: 0.9651 - val_loss: 0.1189 - val_accuracy: 0.9717 - 9s/epoch - 12ms/step\n",
      "Epoch 7/50\n",
      "750/750 - 9s - loss: 0.1120 - accuracy: 0.9676 - val_loss: 0.1195 - val_accuracy: 0.9726 - 9s/epoch - 12ms/step\n",
      "Epoch 8/50\n",
      "750/750 - 9s - loss: 0.1099 - accuracy: 0.9688 - val_loss: 0.1064 - val_accuracy: 0.9725 - 9s/epoch - 12ms/step\n",
      "Epoch 9/50\n",
      "750/750 - 9s - loss: 0.1013 - accuracy: 0.9726 - val_loss: 0.1421 - val_accuracy: 0.9701 - 9s/epoch - 12ms/step\n",
      "Epoch 10/50\n",
      "750/750 - 9s - loss: 0.0986 - accuracy: 0.9730 - val_loss: 0.1137 - val_accuracy: 0.9721 - 9s/epoch - 12ms/step\n"
     ]
    }
   ],
   "source": [
    "model = mnist_model(input_shape)\n",
    "\n",
    "early_stopping_1 = EarlyStopping(\n",
    "                                 monitor = \"val_accuracy\", \n",
    "                                 patience = 3,\n",
    "                                 min_delta = 0.001,\n",
    "                                 mode=\"auto\"\n",
    "                                )\n",
    "\n",
    "history_early_stopping_1 = model.fit( \n",
    "                                    x = train_images,\n",
    "                                    y = train_labels,\n",
    "                                    epochs = 50,\n",
    "                                    validation_split = 0.20,\n",
    "                                    batch_size = 64,\n",
    "                                    verbose = 2,\n",
    "                                    callbacks = [early_stopping_1]\n",
    "                                    )"
   ]
  },
  {
   "cell_type": "code",
   "execution_count": 17,
   "id": "aa917fb3",
   "metadata": {},
   "outputs": [
    {
     "data": {
      "image/png": "[encoded data removed]",
      "text/plain": [
       "<Figure size 432x288 with 1 Axes>"
      ]
     },
     "metadata": {
      "needs_background": "light"
     },
     "output_type": "display_data"
    }
   ],
   "source": [
    "plotData(history_early_stopping_1, \"accuracy\")"
   ]
  },
  {
   "cell_type": "code",
   "execution_count": 18,
   "id": "dd9d0b48",
   "metadata": {},
   "outputs": [
    {
     "name": "stdout",
     "output_type": "stream",
     "text": [
      "Epoch 1/20\n",
      "750/750 - 10s - loss: 1.1797 - accuracy: 0.8386 - val_loss: 0.2706 - val_accuracy: 0.9322 - 10s/epoch - 13ms/step\n",
      "Epoch 2/20\n",
      "750/750 - 9s - loss: 0.3044 - accuracy: 0.9175 - val_loss: 0.1941 - val_accuracy: 0.9474 - 9s/epoch - 12ms/step\n",
      "Epoch 3/20\n",
      "750/750 - 9s - loss: 0.2172 - accuracy: 0.9383 - val_loss: 0.1769 - val_accuracy: 0.9559 - 9s/epoch - 12ms/step\n",
      "Epoch 4/20\n",
      "750/750 - 9s - loss: 0.1784 - accuracy: 0.9489 - val_loss: 0.1293 - val_accuracy: 0.9688 - 9s/epoch - 12ms/step\n",
      "Epoch 5/20\n",
      "750/750 - 10s - loss: 0.1507 - accuracy: 0.9572 - val_loss: 0.1237 - val_accuracy: 0.9688 - 10s/epoch - 13ms/step\n",
      "Epoch 6/20\n",
      "750/750 - 11s - loss: 0.1327 - accuracy: 0.9613 - val_loss: 0.1400 - val_accuracy: 0.9684 - 11s/epoch - 14ms/step\n",
      "Epoch 7/20\n",
      "750/750 - 10s - loss: 0.1316 - accuracy: 0.9639 - val_loss: 0.1211 - val_accuracy: 0.9700 - 10s/epoch - 13ms/step\n",
      "Epoch 8/20\n",
      "750/750 - 10s - loss: 0.1146 - accuracy: 0.9666 - val_loss: 0.1689 - val_accuracy: 0.9681 - 10s/epoch - 13ms/step\n",
      "Epoch 9/20\n",
      "750/750 - 10s - loss: 0.1093 - accuracy: 0.9685 - val_loss: 0.1369 - val_accuracy: 0.9695 - 10s/epoch - 13ms/step\n",
      "Epoch 10/20\n",
      "750/750 - 10s - loss: 0.1027 - accuracy: 0.9705 - val_loss: 0.1414 - val_accuracy: 0.9744 - 10s/epoch - 13ms/step\n",
      "Epoch 11/20\n",
      "750/750 - 9s - loss: 0.0973 - accuracy: 0.9721 - val_loss: 0.1385 - val_accuracy: 0.9725 - 9s/epoch - 12ms/step\n",
      "Epoch 12/20\n",
      "750/750 - 10s - loss: 0.0956 - accuracy: 0.9734 - val_loss: 0.1525 - val_accuracy: 0.9749 - 10s/epoch - 13ms/step\n",
      "Epoch 13/20\n",
      "750/750 - 10s - loss: 0.0900 - accuracy: 0.9746 - val_loss: 0.1379 - val_accuracy: 0.9739 - 10s/epoch - 13ms/step\n",
      "Epoch 14/20\n",
      "750/750 - 10s - loss: 0.0977 - accuracy: 0.9730 - val_loss: 0.1380 - val_accuracy: 0.9728 - 10s/epoch - 13ms/step\n",
      "Epoch 15/20\n",
      "750/750 - 10s - loss: 0.0832 - accuracy: 0.9772 - val_loss: 0.1293 - val_accuracy: 0.9730 - 10s/epoch - 13ms/step\n",
      "Epoch 16/20\n",
      "750/750 - 9s - loss: 0.0756 - accuracy: 0.9788 - val_loss: 0.1262 - val_accuracy: 0.9757 - 9s/epoch - 12ms/step\n",
      "Epoch 17/20\n",
      "750/750 - 9s - loss: 0.0893 - accuracy: 0.9759 - val_loss: 0.1395 - val_accuracy: 0.9779 - 9s/epoch - 12ms/step\n",
      "Epoch 18/20\n",
      "750/750 - 9s - loss: 0.0704 - accuracy: 0.9801 - val_loss: 0.1210 - val_accuracy: 0.9770 - 9s/epoch - 12ms/step\n",
      "Epoch 19/20\n",
      "750/750 - 9s - loss: 0.0728 - accuracy: 0.9808 - val_loss: 0.1417 - val_accuracy: 0.9749 - 9s/epoch - 12ms/step\n",
      "Epoch 20/20\n",
      "750/750 - 9s - loss: 0.0815 - accuracy: 0.9796 - val_loss: 0.1536 - val_accuracy: 0.9754 - 9s/epoch - 12ms/step\n"
     ]
    }
   ],
   "source": [
    "from keras.callbacks import CSVLogger\n",
    "\n",
    "csv = CSVLogger(\"logs/result.csv\")\n",
    "model = mnist_model(input_shape)\n",
    "\n",
    "history_csv_logger = model.fit( \n",
    "                                x = train_images,\n",
    "                                y = train_labels,\n",
    "                                epochs = 20,\n",
    "                                validation_split = 0.20,\n",
    "                                batch_size = 64,\n",
    "                                verbose = 2,\n",
    "                                callbacks = [csv]\n",
    "                                )"
   ]
  },
  {
   "cell_type": "code",
   "execution_count": 21,
   "id": "c32eb2ab",
   "metadata": {},
   "outputs": [
    {
     "data": {
      "text/html": [
       "<div>\n",
       "<style scoped>\n",
       "    .dataframe tbody tr th:only-of-type {\n",
       "        vertical-align: middle;\n",
       "    }\n",
       "\n",
       "    .dataframe tbody tr th {\n",
       "        vertical-align: top;\n",
       "    }\n",
       "\n",
       "    .dataframe thead th {\n",
       "        text-align: right;\n",
       "    }\n",
       "</style>\n",
       "<table border=\"1\" class=\"dataframe\">\n",
       "  <thead>\n",
       "    <tr style=\"text-align: right;\">\n",
       "      <th></th>\n",
       "      <th>accuracy</th>\n",
       "      <th>loss</th>\n",
       "      <th>val_accuracy</th>\n",
       "      <th>val_loss</th>\n",
       "    </tr>\n",
       "    <tr>\n",
       "      <th>epoch</th>\n",
       "      <th></th>\n",
       "      <th></th>\n",
       "      <th></th>\n",
       "      <th></th>\n",
       "    </tr>\n",
       "  </thead>\n",
       "  <tbody>\n",
       "    <tr>\n",
       "      <th>0</th>\n",
       "      <td>0.838562</td>\n",
       "      <td>1.179690</td>\n",
       "      <td>0.932167</td>\n",
       "      <td>0.270570</td>\n",
       "    </tr>\n",
       "    <tr>\n",
       "      <th>1</th>\n",
       "      <td>0.917500</td>\n",
       "      <td>0.304445</td>\n",
       "      <td>0.947417</td>\n",
       "      <td>0.194133</td>\n",
       "    </tr>\n",
       "    <tr>\n",
       "      <th>2</th>\n",
       "      <td>0.938312</td>\n",
       "      <td>0.217243</td>\n",
       "      <td>0.955917</td>\n",
       "      <td>0.176920</td>\n",
       "    </tr>\n",
       "    <tr>\n",
       "      <th>3</th>\n",
       "      <td>0.948917</td>\n",
       "      <td>0.178353</td>\n",
       "      <td>0.968833</td>\n",
       "      <td>0.129278</td>\n",
       "    </tr>\n",
       "    <tr>\n",
       "      <th>4</th>\n",
       "      <td>0.957167</td>\n",
       "      <td>0.150667</td>\n",
       "      <td>0.968750</td>\n",
       "      <td>0.123661</td>\n",
       "    </tr>\n",
       "    <tr>\n",
       "      <th>5</th>\n",
       "      <td>0.961250</td>\n",
       "      <td>0.132676</td>\n",
       "      <td>0.968417</td>\n",
       "      <td>0.139993</td>\n",
       "    </tr>\n",
       "    <tr>\n",
       "      <th>6</th>\n",
       "      <td>0.963938</td>\n",
       "      <td>0.131591</td>\n",
       "      <td>0.970000</td>\n",
       "      <td>0.121075</td>\n",
       "    </tr>\n",
       "    <tr>\n",
       "      <th>7</th>\n",
       "      <td>0.966583</td>\n",
       "      <td>0.114556</td>\n",
       "      <td>0.968083</td>\n",
       "      <td>0.168920</td>\n",
       "    </tr>\n",
       "    <tr>\n",
       "      <th>8</th>\n",
       "      <td>0.968458</td>\n",
       "      <td>0.109274</td>\n",
       "      <td>0.969500</td>\n",
       "      <td>0.136938</td>\n",
       "    </tr>\n",
       "    <tr>\n",
       "      <th>9</th>\n",
       "      <td>0.970521</td>\n",
       "      <td>0.102695</td>\n",
       "      <td>0.974417</td>\n",
       "      <td>0.141373</td>\n",
       "    </tr>\n",
       "    <tr>\n",
       "      <th>10</th>\n",
       "      <td>0.972083</td>\n",
       "      <td>0.097335</td>\n",
       "      <td>0.972500</td>\n",
       "      <td>0.138523</td>\n",
       "    </tr>\n",
       "    <tr>\n",
       "      <th>11</th>\n",
       "      <td>0.973396</td>\n",
       "      <td>0.095590</td>\n",
       "      <td>0.974917</td>\n",
       "      <td>0.152480</td>\n",
       "    </tr>\n",
       "    <tr>\n",
       "      <th>12</th>\n",
       "      <td>0.974646</td>\n",
       "      <td>0.090027</td>\n",
       "      <td>0.973917</td>\n",
       "      <td>0.137852</td>\n",
       "    </tr>\n",
       "    <tr>\n",
       "      <th>13</th>\n",
       "      <td>0.972958</td>\n",
       "      <td>0.097739</td>\n",
       "      <td>0.972750</td>\n",
       "      <td>0.137961</td>\n",
       "    </tr>\n",
       "    <tr>\n",
       "      <th>14</th>\n",
       "      <td>0.977188</td>\n",
       "      <td>0.083173</td>\n",
       "      <td>0.973000</td>\n",
       "      <td>0.129268</td>\n",
       "    </tr>\n",
       "    <tr>\n",
       "      <th>15</th>\n",
       "      <td>0.978813</td>\n",
       "      <td>0.075584</td>\n",
       "      <td>0.975667</td>\n",
       "      <td>0.126230</td>\n",
       "    </tr>\n",
       "    <tr>\n",
       "      <th>16</th>\n",
       "      <td>0.975896</td>\n",
       "      <td>0.089268</td>\n",
       "      <td>0.977917</td>\n",
       "      <td>0.139490</td>\n",
       "    </tr>\n",
       "    <tr>\n",
       "      <th>17</th>\n",
       "      <td>0.980146</td>\n",
       "      <td>0.070414</td>\n",
       "      <td>0.977000</td>\n",
       "      <td>0.120998</td>\n",
       "    </tr>\n",
       "    <tr>\n",
       "      <th>18</th>\n",
       "      <td>0.980833</td>\n",
       "      <td>0.072820</td>\n",
       "      <td>0.974917</td>\n",
       "      <td>0.141704</td>\n",
       "    </tr>\n",
       "    <tr>\n",
       "      <th>19</th>\n",
       "      <td>0.979625</td>\n",
       "      <td>0.081540</td>\n",
       "      <td>0.975417</td>\n",
       "      <td>0.153573</td>\n",
       "    </tr>\n",
       "  </tbody>\n",
       "</table>\n",
       "</div>"
      ],
      "text/plain": [
       "       accuracy      loss  val_accuracy  val_loss\n",
       "epoch                                            \n",
       "0      0.838562  1.179690      0.932167  0.270570\n",
       "1      0.917500  0.304445      0.947417  0.194133\n",
       "2      0.938312  0.217243      0.955917  0.176920\n",
       "3      0.948917  0.178353      0.968833  0.129278\n",
       "4      0.957167  0.150667      0.968750  0.123661\n",
       "5      0.961250  0.132676      0.968417  0.139993\n",
       "6      0.963938  0.131591      0.970000  0.121075\n",
       "7      0.966583  0.114556      0.968083  0.168920\n",
       "8      0.968458  0.109274      0.969500  0.136938\n",
       "9      0.970521  0.102695      0.974417  0.141373\n",
       "10     0.972083  0.097335      0.972500  0.138523\n",
       "11     0.973396  0.095590      0.974917  0.152480\n",
       "12     0.974646  0.090027      0.973917  0.137852\n",
       "13     0.972958  0.097739      0.972750  0.137961\n",
       "14     0.977188  0.083173      0.973000  0.129268\n",
       "15     0.978813  0.075584      0.975667  0.126230\n",
       "16     0.975896  0.089268      0.977917  0.139490\n",
       "17     0.980146  0.070414      0.977000  0.120998\n",
       "18     0.980833  0.072820      0.974917  0.141704\n",
       "19     0.979625  0.081540      0.975417  0.153573"
      ]
     },
     "execution_count": 21,
     "metadata": {},
     "output_type": "execute_result"
    }
   ],
   "source": [
    "# !pip install pandas \n",
    "import pandas as pd\n",
    "\n",
    "pd.read_csv(\"logs/result.csv\", index_col=\"epoch\")"
   ]
  },
  {
   "cell_type": "code",
   "execution_count": 27,
   "id": "d0a6b425",
   "metadata": {},
   "outputs": [
    {
     "name": "stdout",
     "output_type": "stream",
     "text": [
      "Epoch 1/10\n",
      "\n",
      "Epoch 00001: saving model to models\\\n",
      "750/750 - 10s - loss: 1.2023 - accuracy: 0.8316 - val_loss: 0.2555 - val_accuracy: 0.9401 - 10s/epoch - 13ms/step\n",
      "Epoch 2/10\n",
      "\n",
      "Epoch 00002: saving model to models\\\n",
      "750/750 - 9s - loss: 0.3273 - accuracy: 0.9109 - val_loss: 0.1891 - val_accuracy: 0.9541 - 9s/epoch - 12ms/step\n",
      "Epoch 3/10\n",
      "\n",
      "Epoch 00003: saving model to models\\\n",
      "750/750 - 10s - loss: 0.2285 - accuracy: 0.9359 - val_loss: 0.1562 - val_accuracy: 0.9666 - 10s/epoch - 13ms/step\n",
      "Epoch 4/10\n",
      "\n",
      "Epoch 00004: saving model to models\\\n",
      "750/750 - 10s - loss: 0.1772 - accuracy: 0.9506 - val_loss: 0.1496 - val_accuracy: 0.9686 - 10s/epoch - 13ms/step\n",
      "Epoch 5/10\n",
      "\n",
      "Epoch 00005: saving model to models\\\n",
      "750/750 - 9s - loss: 0.1560 - accuracy: 0.9560 - val_loss: 0.1457 - val_accuracy: 0.9693 - 9s/epoch - 12ms/step\n",
      "Epoch 6/10\n",
      "\n",
      "Epoch 00006: saving model to models\\\n",
      "750/750 - 9s - loss: 0.1345 - accuracy: 0.9611 - val_loss: 0.1277 - val_accuracy: 0.9726 - 9s/epoch - 12ms/step\n",
      "Epoch 7/10\n",
      "\n",
      "Epoch 00007: saving model to models\\\n",
      "750/750 - 9s - loss: 0.1228 - accuracy: 0.9645 - val_loss: 0.1313 - val_accuracy: 0.9707 - 9s/epoch - 13ms/step\n",
      "Epoch 8/10\n",
      "\n",
      "Epoch 00008: saving model to models\\\n",
      "750/750 - 10s - loss: 0.1163 - accuracy: 0.9661 - val_loss: 0.1161 - val_accuracy: 0.9744 - 10s/epoch - 13ms/step\n",
      "Epoch 9/10\n",
      "\n",
      "Epoch 00009: saving model to models\\\n",
      "750/750 - 9s - loss: 0.1023 - accuracy: 0.9701 - val_loss: 0.1368 - val_accuracy: 0.9728 - 9s/epoch - 12ms/step\n",
      "Epoch 10/10\n",
      "\n",
      "Epoch 00010: saving model to models\\\n",
      "750/750 - 9s - loss: 0.1118 - accuracy: 0.9688 - val_loss: 0.1379 - val_accuracy: 0.9703 - 9s/epoch - 12ms/step\n"
     ]
    }
   ],
   "source": [
    "from keras.callbacks import ModelCheckpoint\n",
    "\n",
    "path = \"models/\"\n",
    "\n",
    "checkpoint = ModelCheckpoint(filepath = path,\n",
    "                             save_freq = \"epoch\",\n",
    "                             save_weights_only = True,\n",
    "                             verbose = 1\n",
    "                            )\n",
    "\n",
    "model = mnist_model(input_shape)\n",
    "\n",
    "history_checkpoint = model.fit( \n",
    "                                x = train_images,\n",
    "                                y = train_labels,\n",
    "                                epochs = 10,\n",
    "                                validation_split = 0.20,\n",
    "                                batch_size = 64,\n",
    "                                verbose = 2,\n",
    "                                callbacks = [checkpoint]\n",
    "                                )"
   ]
  },
  {
   "cell_type": "code",
   "execution_count": 33,
   "id": "4e6cdcd7",
   "metadata": {},
   "outputs": [
    {
     "name": "stdout",
     "output_type": "stream",
     "text": [
      "Epoch 1/20\n",
      "750/750 - 10s - loss: 1.3231 - accuracy: 0.8087 - val_loss: 0.3055 - val_accuracy: 0.9293 - lr: 0.0010 - 10s/epoch - 13ms/step\n",
      "Epoch 2/20\n",
      "750/750 - 9s - loss: 0.3745 - accuracy: 0.8970 - val_loss: 0.2292 - val_accuracy: 0.9477 - lr: 0.0010 - 9s/epoch - 12ms/step\n",
      "Epoch 3/20\n",
      "750/750 - 9s - loss: 0.2702 - accuracy: 0.9244 - val_loss: 0.1750 - val_accuracy: 0.9591 - lr: 0.0010 - 9s/epoch - 12ms/step\n",
      "Epoch 4/20\n",
      "750/750 - 9s - loss: 0.2162 - accuracy: 0.9398 - val_loss: 0.1569 - val_accuracy: 0.9668 - lr: 0.0010 - 9s/epoch - 12ms/step\n",
      "Epoch 5/20\n",
      "750/750 - 9s - loss: 0.1781 - accuracy: 0.9489 - val_loss: 0.1377 - val_accuracy: 0.9655 - lr: 0.0010 - 9s/epoch - 12ms/step\n",
      "Epoch 6/20\n",
      "\n",
      "Epoch 00006: ReduceLROnPlateau reducing learning rate to 0.00020000000949949026.\n",
      "750/750 - 9s - loss: 0.1604 - accuracy: 0.9534 - val_loss: 0.1454 - val_accuracy: 0.9657 - lr: 0.0010 - 9s/epoch - 12ms/step\n",
      "Epoch 7/20\n",
      "750/750 - 9s - loss: 0.0992 - accuracy: 0.9699 - val_loss: 0.1056 - val_accuracy: 0.9758 - lr: 2.0000e-04 - 9s/epoch - 12ms/step\n",
      "Epoch 8/20\n",
      "750/750 - 9s - loss: 0.0769 - accuracy: 0.9762 - val_loss: 0.1008 - val_accuracy: 0.9770 - lr: 2.0000e-04 - 9s/epoch - 12ms/step\n",
      "Epoch 9/20\n",
      "750/750 - 9s - loss: 0.0656 - accuracy: 0.9788 - val_loss: 0.0998 - val_accuracy: 0.9762 - lr: 2.0000e-04 - 9s/epoch - 12ms/step\n",
      "Epoch 10/20\n",
      "750/750 - 9s - loss: 0.0616 - accuracy: 0.9806 - val_loss: 0.0959 - val_accuracy: 0.9769 - lr: 2.0000e-04 - 9s/epoch - 12ms/step\n",
      "Epoch 11/20\n",
      "\n",
      "Epoch 00011: ReduceLROnPlateau reducing learning rate to 4.0000001899898055e-05.\n",
      "750/750 - 9s - loss: 0.0533 - accuracy: 0.9831 - val_loss: 0.0997 - val_accuracy: 0.9782 - lr: 2.0000e-04 - 9s/epoch - 12ms/step\n",
      "Epoch 12/20\n",
      "\n",
      "Epoch 00012: ReduceLROnPlateau reducing learning rate to 8.000000525498762e-06.\n",
      "750/750 - 9s - loss: 0.0456 - accuracy: 0.9854 - val_loss: 0.1022 - val_accuracy: 0.9789 - lr: 4.0000e-05 - 9s/epoch - 12ms/step\n",
      "Epoch 13/20\n",
      "\n",
      "Epoch 00013: ReduceLROnPlateau reducing learning rate to 1.6000001778593287e-06.\n",
      "750/750 - 9s - loss: 0.0395 - accuracy: 0.9868 - val_loss: 0.1023 - val_accuracy: 0.9799 - lr: 8.0000e-06 - 9s/epoch - 13ms/step\n",
      "Epoch 14/20\n",
      "\n",
      "Epoch 00014: ReduceLROnPlateau reducing learning rate to 3.200000264769187e-07.\n",
      "750/750 - 9s - loss: 0.0381 - accuracy: 0.9872 - val_loss: 0.1021 - val_accuracy: 0.9798 - lr: 1.6000e-06 - 9s/epoch - 12ms/step\n",
      "Epoch 15/20\n",
      "\n",
      "Epoch 00015: ReduceLROnPlateau reducing learning rate to 6.400000529538374e-08.\n",
      "750/750 - 9s - loss: 0.0391 - accuracy: 0.9876 - val_loss: 0.1021 - val_accuracy: 0.9797 - lr: 3.2000e-07 - 9s/epoch - 12ms/step\n",
      "Epoch 16/20\n",
      "\n",
      "Epoch 00016: ReduceLROnPlateau reducing learning rate to 1.2800001059076749e-08.\n",
      "750/750 - 9s - loss: 0.0387 - accuracy: 0.9877 - val_loss: 0.1021 - val_accuracy: 0.9797 - lr: 6.4000e-08 - 9s/epoch - 12ms/step\n",
      "Epoch 17/20\n",
      "\n",
      "Epoch 00017: ReduceLROnPlateau reducing learning rate to 2.5600002118153498e-09.\n",
      "750/750 - 9s - loss: 0.0384 - accuracy: 0.9876 - val_loss: 0.1021 - val_accuracy: 0.9797 - lr: 1.2800e-08 - 9s/epoch - 12ms/step\n",
      "Epoch 18/20\n",
      "\n",
      "Epoch 00018: ReduceLROnPlateau reducing learning rate to 5.1200004236307e-10.\n",
      "750/750 - 10s - loss: 0.0388 - accuracy: 0.9876 - val_loss: 0.1021 - val_accuracy: 0.9797 - lr: 2.5600e-09 - 10s/epoch - 13ms/step\n",
      "Epoch 19/20\n",
      "\n",
      "Epoch 00019: ReduceLROnPlateau reducing learning rate to 1.0240001069306004e-10.\n",
      "750/750 - 10s - loss: 0.0398 - accuracy: 0.9874 - val_loss: 0.1021 - val_accuracy: 0.9797 - lr: 5.1200e-10 - 10s/epoch - 13ms/step\n",
      "Epoch 20/20\n",
      "\n",
      "Epoch 00020: ReduceLROnPlateau reducing learning rate to 2.0480002416167767e-11.\n",
      "750/750 - 10s - loss: 0.0391 - accuracy: 0.9871 - val_loss: 0.1021 - val_accuracy: 0.9797 - lr: 1.0240e-10 - 10s/epoch - 13ms/step\n"
     ]
    }
   ],
   "source": [
    "from keras.callbacks import ReduceLROnPlateau\n",
    "\n",
    "reduce_lr = ReduceLROnPlateau(\n",
    "                              monitor = \"val_loss\",\n",
    "                              factor = 0.2,\n",
    "                              patience = 0,\n",
    "                              verbose = 2\n",
    "                             )\n",
    "\n",
    "model = mnist_model(input_shape)\n",
    "\n",
    "history_reduce_lr = model.fit( \n",
    "                                x = train_images,\n",
    "                                y = train_labels,\n",
    "                                epochs = 20,\n",
    "                                validation_split = 0.20,\n",
    "                                batch_size = 64,\n",
    "                                verbose = 2,\n",
    "                                callbacks = [reduce_lr]\n",
    "                                )"
   ]
  },
  {
   "cell_type": "code",
   "execution_count": 34,
   "id": "efe38aa2",
   "metadata": {},
   "outputs": [
    {
     "data": {
      "image/png": "[encoded data removed]",
      "text/plain": [
       "<Figure size 432x288 with 1 Axes>"
      ]
     },
     "metadata": {
      "needs_background": "light"
     },
     "output_type": "display_data"
    }
   ],
   "source": [
    "plotLR(history_reduce_lr)"
   ]
  },
  {
   "cell_type": "code",
   "execution_count": 35,
   "id": "30c692d4",
   "metadata": {},
   "outputs": [
    {
     "data": {
      "image/png": "[encoded data removed]",
      "text/plain": [
       "<Figure size 432x288 with 1 Axes>"
      ]
     },
     "metadata": {
      "needs_background": "light"
     },
     "output_type": "display_data"
    }
   ],
   "source": [
    "plotData(history_reduce_lr, \"loss\")"
   ]
  },
  {
   "cell_type": "code",
   "execution_count": 37,
   "id": "e5c76272",
   "metadata": {},
   "outputs": [
    {
     "name": "stdout",
     "output_type": "stream",
     "text": [
      "\n",
      "Epoch 00001: LearningRateScheduler setting learning rate to 0.0010000000474974513.\n",
      "Epoch 1/20\n",
      "750/750 - 10s - loss: 1.7236 - accuracy: 0.8065 - val_loss: 0.3249 - val_accuracy: 0.9188 - lr: 0.0010 - 10s/epoch - 13ms/step\n",
      "\n",
      "Epoch 00002: LearningRateScheduler setting learning rate to 0.0010000000474974513.\n",
      "Epoch 2/20\n",
      "750/750 - 9s - loss: 0.3962 - accuracy: 0.8990 - val_loss: 0.2495 - val_accuracy: 0.9427 - lr: 0.0010 - 9s/epoch - 13ms/step\n",
      "\n",
      "Epoch 00003: LearningRateScheduler setting learning rate to 0.0010000000474974513.\n",
      "Epoch 3/20\n",
      "750/750 - 9s - loss: 0.2784 - accuracy: 0.9258 - val_loss: 0.1736 - val_accuracy: 0.9588 - lr: 0.0010 - 9s/epoch - 12ms/step\n",
      "\n",
      "Epoch 00004: LearningRateScheduler setting learning rate to 0.0010000000474974513.\n",
      "Epoch 4/20\n",
      "750/750 - 10s - loss: 0.2120 - accuracy: 0.9409 - val_loss: 0.1692 - val_accuracy: 0.9629 - lr: 0.0010 - 10s/epoch - 13ms/step\n",
      "\n",
      "Epoch 00005: LearningRateScheduler setting learning rate to 0.0010000000474974513.\n",
      "Epoch 5/20\n",
      "750/750 - 9s - loss: 0.1772 - accuracy: 0.9502 - val_loss: 0.1513 - val_accuracy: 0.9679 - lr: 0.0010 - 9s/epoch - 12ms/step\n",
      "\n",
      "Epoch 00006: LearningRateScheduler setting learning rate to 0.0010000000474974513.\n",
      "Epoch 6/20\n",
      "750/750 - 9s - loss: 0.1669 - accuracy: 0.9540 - val_loss: 0.1467 - val_accuracy: 0.9653 - lr: 0.0010 - 9s/epoch - 12ms/step\n",
      "\n",
      "Epoch 00007: LearningRateScheduler setting learning rate to 0.0010000000474974513.\n",
      "Epoch 7/20\n",
      "750/750 - 9s - loss: 0.1566 - accuracy: 0.9571 - val_loss: 0.1235 - val_accuracy: 0.9720 - lr: 0.0010 - 9s/epoch - 12ms/step\n",
      "\n",
      "Epoch 00008: LearningRateScheduler setting learning rate to 0.0010000000474974513.\n",
      "Epoch 8/20\n",
      "750/750 - 9s - loss: 0.1377 - accuracy: 0.9616 - val_loss: 0.1329 - val_accuracy: 0.9719 - lr: 0.0010 - 9s/epoch - 12ms/step\n",
      "\n",
      "Epoch 00009: LearningRateScheduler setting learning rate to 0.0010000000474974513.\n",
      "Epoch 9/20\n",
      "750/750 - 9s - loss: 0.1237 - accuracy: 0.9647 - val_loss: 0.1232 - val_accuracy: 0.9717 - lr: 0.0010 - 9s/epoch - 12ms/step\n",
      "\n",
      "Epoch 00010: LearningRateScheduler setting learning rate to 0.0010000000474974513.\n",
      "Epoch 10/20\n",
      "750/750 - 9s - loss: 0.1221 - accuracy: 0.9660 - val_loss: 0.1242 - val_accuracy: 0.9734 - lr: 0.0010 - 9s/epoch - 12ms/step\n",
      "\n",
      "Epoch 00011: LearningRateScheduler setting learning rate to tf.Tensor(0.00090483745, shape=(), dtype=float32).\n",
      "Epoch 11/20\n",
      "750/750 - 9s - loss: 0.1040 - accuracy: 0.9717 - val_loss: 0.1336 - val_accuracy: 0.9729 - lr: 9.0484e-04 - 9s/epoch - 12ms/step\n",
      "\n",
      "Epoch 00012: LearningRateScheduler setting learning rate to tf.Tensor(0.0008187308, shape=(), dtype=float32).\n",
      "Epoch 12/20\n",
      "750/750 - 9s - loss: 0.0873 - accuracy: 0.9748 - val_loss: 0.1198 - val_accuracy: 0.9759 - lr: 8.1873e-04 - 9s/epoch - 12ms/step\n",
      "\n",
      "Epoch 00013: LearningRateScheduler setting learning rate to tf.Tensor(0.0007408183, shape=(), dtype=float32).\n",
      "Epoch 13/20\n",
      "750/750 - 9s - loss: 0.0779 - accuracy: 0.9774 - val_loss: 0.1304 - val_accuracy: 0.9752 - lr: 7.4082e-04 - 9s/epoch - 12ms/step\n",
      "\n",
      "Epoch 00014: LearningRateScheduler setting learning rate to tf.Tensor(0.0006703201, shape=(), dtype=float32).\n",
      "Epoch 14/20\n",
      "750/750 - 9s - loss: 0.0705 - accuracy: 0.9800 - val_loss: 0.1191 - val_accuracy: 0.9763 - lr: 6.7032e-04 - 9s/epoch - 12ms/step\n",
      "\n",
      "Epoch 00015: LearningRateScheduler setting learning rate to tf.Tensor(0.00060653075, shape=(), dtype=float32).\n",
      "Epoch 15/20\n",
      "750/750 - 9s - loss: 0.0613 - accuracy: 0.9822 - val_loss: 0.1146 - val_accuracy: 0.9785 - lr: 6.0653e-04 - 9s/epoch - 12ms/step\n",
      "\n",
      "Epoch 00016: LearningRateScheduler setting learning rate to tf.Tensor(0.00054881175, shape=(), dtype=float32).\n",
      "Epoch 16/20\n",
      "750/750 - 9s - loss: 0.0568 - accuracy: 0.9842 - val_loss: 0.1174 - val_accuracy: 0.9787 - lr: 5.4881e-04 - 9s/epoch - 12ms/step\n",
      "\n",
      "Epoch 00017: LearningRateScheduler setting learning rate to tf.Tensor(0.0004965854, shape=(), dtype=float32).\n",
      "Epoch 17/20\n",
      "750/750 - 9s - loss: 0.0468 - accuracy: 0.9858 - val_loss: 0.1187 - val_accuracy: 0.9786 - lr: 4.9659e-04 - 9s/epoch - 12ms/step\n",
      "\n",
      "Epoch 00018: LearningRateScheduler setting learning rate to tf.Tensor(0.00044932903, shape=(), dtype=float32).\n",
      "Epoch 18/20\n",
      "750/750 - 9s - loss: 0.0385 - accuracy: 0.9881 - val_loss: 0.1228 - val_accuracy: 0.9803 - lr: 4.4933e-04 - 9s/epoch - 12ms/step\n",
      "\n",
      "Epoch 00019: LearningRateScheduler setting learning rate to tf.Tensor(0.0004065697, shape=(), dtype=float32).\n",
      "Epoch 19/20\n",
      "750/750 - 9s - loss: 0.0378 - accuracy: 0.9886 - val_loss: 0.1289 - val_accuracy: 0.9781 - lr: 4.0657e-04 - 9s/epoch - 12ms/step\n",
      "\n",
      "Epoch 00020: LearningRateScheduler setting learning rate to tf.Tensor(0.0003678795, shape=(), dtype=float32).\n",
      "Epoch 20/20\n",
      "750/750 - 9s - loss: 0.0341 - accuracy: 0.9899 - val_loss: 0.1170 - val_accuracy: 0.9789 - lr: 3.6788e-04 - 9s/epoch - 12ms/step\n"
     ]
    }
   ],
   "source": [
    "from keras.callbacks import LearningRateScheduler\n",
    "\n",
    "def scheduler(epoch, lr):\n",
    "    \n",
    "    if epoch < 10:\n",
    "        return lr\n",
    "    else:\n",
    "        return lr * tf.math.exp(-0.1)\n",
    "    \n",
    "\n",
    "model = mnist_model(input_shape)\n",
    "\n",
    "history_lr_scheduler = model.fit( \n",
    "                                x = train_images,\n",
    "                                y = train_labels,\n",
    "                                epochs = 20,\n",
    "                                validation_split = 0.20,\n",
    "                                batch_size = 64,\n",
    "                                verbose = 2,\n",
    "                                callbacks = [LearningRateScheduler(scheduler, verbose=1)]\n",
    "                                )"
   ]
  },
  {
   "cell_type": "code",
   "execution_count": 38,
   "id": "02c2453f",
   "metadata": {},
   "outputs": [
    {
     "data": {
      "image/png": "[encoded data removed]",
      "text/plain": [
       "<Figure size 432x288 with 1 Axes>"
      ]
     },
     "metadata": {
      "needs_background": "light"
     },
     "output_type": "display_data"
    },
    {
     "data": {
      "image/png": "[encoded data removed]",
      "text/plain": [
       "<Figure size 432x288 with 1 Axes>"
      ]
     },
     "metadata": {
      "needs_background": "light"
     },
     "output_type": "display_data"
    }
   ],
   "source": [
    "plotLR(history_lr_scheduler)\n",
    "plotData(history_lr_scheduler, \"loss\")"
   ]
  }
 ],
 "metadata": {
  "kernelspec": {
   "display_name": "Python 3 (ipykernel)",
   "language": "python",
   "name": "python3"
  },
  "language_info": {
   "codemirror_mode": {
    "name": "ipython",
    "version": 3
   },
   "file_extension": ".py",
   "mimetype": "text/x-python",
   "name": "python",
   "nbconvert_exporter": "python",
   "pygments_lexer": "ipython3",
   "version": "3.7.4"
  }
 },
 "nbformat": 4,
 "nbformat_minor": 5
}
