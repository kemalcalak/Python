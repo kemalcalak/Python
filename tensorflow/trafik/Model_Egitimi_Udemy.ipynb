{
 "cells": [
  {
   "cell_type": "markdown",
   "id": "e4ffc72e",
   "metadata": {},
   "source": [
    "# Veriyi Yükleme"
   ]
  },
  {
   "cell_type": "code",
   "execution_count": null,
   "id": "95968b0a",
   "metadata": {},
   "outputs": [],
   "source": [
    "import tensorflow as tf\n",
    "from tensorflow.keras.preprocessing.image import ImageDataGenerator\n",
    "\n",
    "base_dir=r\"C:Tensorflow_Trafik_isaretleri\\data\"\n",
    "\n",
    "train_datagen=ImageDataGenerator(rescale=1./255,validation_split=0.1)\n",
    "\n",
    "test_datagen=ImageDataGenerator(rescale=1./255,validation_split=0.1)\n",
    "\n",
    "train_datagen=train_datagen.flow_from_directory(base_dir,target_size=(32,32),subset=\"training\",batch_size=64,shuffle=True)\n",
    "\n",
    "test_datagen=test_datagen.flow_from_directory(base_dir,target_size=(32,32),subset=\"validation\",batch_size=64,shuffle=False)"
   ]
  },
  {
   "cell_type": "markdown",
   "id": "6f5eada6",
   "metadata": {},
   "source": [
    "# Görselleştirme"
   ]
  },
  {
   "cell_type": "code",
   "execution_count": null,
   "id": "43130c1d",
   "metadata": {},
   "outputs": [],
   "source": [
    "import tensorflow as tf\n",
    "from tensorflow import keras\n",
    "import matplotlib.pyplot as plt\n",
    "print(train_datagen.class_indices)\n",
    "for _ in range(5):\n",
    "    img, label = train_datagen.next()\n",
    "    print(img.shape)   \n",
    "    plt.imshow(img[0])\n",
    "    print(label[0])   \n",
    "\n",
    "    plt.show()"
   ]
  },
  {
   "cell_type": "markdown",
   "id": "44110c03",
   "metadata": {},
   "source": [
    "# Kütüphaneler"
   ]
  },
  {
   "cell_type": "code",
   "execution_count": 3,
   "id": "ba34c1eb",
   "metadata": {},
   "outputs": [],
   "source": [
    "import tensorflow as tf\n",
    "import numpy as np\n",
    "import pylab as pl\n",
    "from keras import backend as K\n",
    "import matplotlib.pyplot as plt\n",
    "from keras.utils import np_utils\n",
    "from keras.models import Sequential\n",
    "from keras.layers.convolutional import Conv2D, MaxPooling2D\n",
    "from keras.layers.core import Dense, Dropout, Activation, Flatten\n",
    "from tensorflow.keras import layers,activations"
   ]
  },
  {
   "cell_type": "markdown",
   "id": "7eaac7f8",
   "metadata": {},
   "source": [
    "# Model Oluşumu"
   ]
  },
  {
   "cell_type": "code",
   "execution_count": 4,
   "id": "18dbbafb",
   "metadata": {},
   "outputs": [],
   "source": [
    "model=Sequential()\n",
    "\n",
    "model.add(layers.Conv2D(filters=32,activation=\"relu\",kernel_size=(5,5),input_shape=(32,32,3)))\n",
    "model.add(layers.MaxPooling2D(2,2))\n",
    "model.add(layers.Conv2D(filters=64,activation=\"relu\",kernel_size=(3,3)))\n",
    "model.add(layers.MaxPooling2D(2,2))\n",
    "model.add(layers.Conv2D(filters=64,activation=\"relu\",kernel_size=(2,2)))\n",
    "model.add(layers.MaxPooling2D(2,2))\n",
    "model.add(layers.Conv2D(filters=64,activation=\"relu\",kernel_size=(2,2)))\n",
    "\n",
    "model.add(layers.Flatten())\n",
    "\n",
    "model.add(layers.Dense(500,activation=\"relu\"))\n",
    "model.add(layers.Dense(500,activation=\"relu\"))\n",
    "model.add(layers.Dense(43,activation=\"softmax\"))"
   ]
  },
  {
   "cell_type": "code",
   "execution_count": 5,
   "id": "8a23f00c",
   "metadata": {},
   "outputs": [
    {
     "name": "stdout",
     "output_type": "stream",
     "text": [
      "Model: \"sequential\"\n",
      "_________________________________________________________________\n",
      " Layer (type)                Output Shape              Param #   \n",
      "=================================================================\n",
      " conv2d (Conv2D)             (None, 28, 28, 32)        2432      \n",
      "                                                                 \n",
      " max_pooling2d (MaxPooling2D  (None, 14, 14, 32)       0         \n",
      " )                                                               \n",
      "                                                                 \n",
      " conv2d_1 (Conv2D)           (None, 12, 12, 64)        18496     \n",
      "                                                                 \n",
      " max_pooling2d_1 (MaxPooling  (None, 6, 6, 64)         0         \n",
      " 2D)                                                             \n",
      "                                                                 \n",
      " conv2d_2 (Conv2D)           (None, 5, 5, 64)          16448     \n",
      "                                                                 \n",
      " max_pooling2d_2 (MaxPooling  (None, 2, 2, 64)         0         \n",
      " 2D)                                                             \n",
      "                                                                 \n",
      " conv2d_3 (Conv2D)           (None, 1, 1, 64)          16448     \n",
      "                                                                 \n",
      " flatten (Flatten)           (None, 64)                0         \n",
      "                                                                 \n",
      " dense (Dense)               (None, 500)               32500     \n",
      "                                                                 \n",
      " dense_1 (Dense)             (None, 500)               250500    \n",
      "                                                                 \n",
      " dense_2 (Dense)             (None, 43)                21543     \n",
      "                                                                 \n",
      "=================================================================\n",
      "Total params: 358,367\n",
      "Trainable params: 358,367\n",
      "Non-trainable params: 0\n",
      "_________________________________________________________________\n"
     ]
    }
   ],
   "source": [
    "model.summary()"
   ]
  },
  {
   "cell_type": "markdown",
   "id": "fed5d6ab",
   "metadata": {},
   "source": [
    "# Model Eğitimi"
   ]
  },
  {
   "cell_type": "code",
   "execution_count": 6,
   "id": "f4242822",
   "metadata": {},
   "outputs": [],
   "source": [
    "optimizer=tf.keras.optimizers.Adam(learning_rate=0.001)\n",
    "loss=tf.keras.losses.CategoricalCrossentropy()"
   ]
  },
  {
   "cell_type": "code",
   "execution_count": 7,
   "id": "5e5bde1a",
   "metadata": {},
   "outputs": [],
   "source": [
    "model.compile(optimizer=optimizer,loss=loss,metrics=[\"accuracy\"])"
   ]
  },
  {
   "cell_type": "code",
   "execution_count": 8,
   "id": "b4ac50f2",
   "metadata": {},
   "outputs": [
    {
     "name": "stdout",
     "output_type": "stream",
     "text": [
      "Epoch 1/10\n",
      "490/490 [==============================] - 67s 135ms/step - loss: 1.6162 - accuracy: 0.5253 - val_loss: 0.5459 - val_accuracy: 0.8433\n",
      "Epoch 2/10\n",
      "490/490 [==============================] - 51s 103ms/step - loss: 0.2896 - accuracy: 0.9125 - val_loss: 0.3393 - val_accuracy: 0.8968\n",
      "Epoch 3/10\n",
      "490/490 [==============================] - 52s 106ms/step - loss: 0.1419 - accuracy: 0.9568 - val_loss: 0.2859 - val_accuracy: 0.9132\n",
      "Epoch 4/10\n",
      "490/490 [==============================] - 51s 104ms/step - loss: 0.0940 - accuracy: 0.9728 - val_loss: 0.2449 - val_accuracy: 0.9284\n",
      "Epoch 5/10\n",
      "490/490 [==============================] - 52s 107ms/step - loss: 0.0631 - accuracy: 0.9815 - val_loss: 0.2797 - val_accuracy: 0.9181\n",
      "Epoch 6/10\n",
      "490/490 [==============================] - 49s 100ms/step - loss: 0.0581 - accuracy: 0.9827 - val_loss: 0.1872 - val_accuracy: 0.9483\n",
      "Epoch 7/10\n",
      "490/490 [==============================] - 53s 109ms/step - loss: 0.0520 - accuracy: 0.9836 - val_loss: 0.2555 - val_accuracy: 0.9299\n",
      "Epoch 8/10\n",
      "490/490 [==============================] - 53s 109ms/step - loss: 0.0437 - accuracy: 0.9863 - val_loss: 0.1718 - val_accuracy: 0.9543\n",
      "Epoch 9/10\n",
      "490/490 [==============================] - 54s 110ms/step - loss: 0.0333 - accuracy: 0.9900 - val_loss: 0.1493 - val_accuracy: 0.9575\n",
      "Epoch 10/10\n",
      "490/490 [==============================] - 54s 109ms/step - loss: 0.0435 - accuracy: 0.9865 - val_loss: 0.1794 - val_accuracy: 0.9537\n"
     ]
    }
   ],
   "source": [
    "result=model.fit(train_datagen,epochs=10,verbose=1,validation_data=test_datagen)"
   ]
  },
  {
   "cell_type": "code",
   "execution_count": 9,
   "id": "4b8d4c93",
   "metadata": {},
   "outputs": [
    {
     "data": {
      "text/plain": [
       "{'loss': [1.616159200668335,\n",
       "  0.28962966799736023,\n",
       "  0.14192995429039001,\n",
       "  0.0940202996134758,\n",
       "  0.06311780214309692,\n",
       "  0.05812409892678261,\n",
       "  0.05197935551404953,\n",
       "  0.04368045926094055,\n",
       "  0.03325803577899933,\n",
       "  0.04347045719623566],\n",
       " 'accuracy': [0.5252873301506042,\n",
       "  0.9124840497970581,\n",
       "  0.9568007588386536,\n",
       "  0.9728288650512695,\n",
       "  0.9814814925193787,\n",
       "  0.9826628565788269,\n",
       "  0.9836207032203674,\n",
       "  0.9863346219062805,\n",
       "  0.9899744391441345,\n",
       "  0.9865261912345886],\n",
       " 'val_loss': [0.5458657145500183,\n",
       "  0.33930686116218567,\n",
       "  0.28593748807907104,\n",
       "  0.24493543803691864,\n",
       "  0.2797088027000427,\n",
       "  0.1872406303882599,\n",
       "  0.25550371408462524,\n",
       "  0.17181453108787537,\n",
       "  0.14931102097034454,\n",
       "  0.17941652238368988],\n",
       " 'val_accuracy': [0.8433457612991333,\n",
       "  0.8968093991279602,\n",
       "  0.9131934642791748,\n",
       "  0.9284276962280273,\n",
       "  0.9180799126625061,\n",
       "  0.948261022567749,\n",
       "  0.9298648834228516,\n",
       "  0.9542971849441528,\n",
       "  0.957459032535553,\n",
       "  0.953722357749939]}"
      ]
     },
     "execution_count": 9,
     "metadata": {},
     "output_type": "execute_result"
    }
   ],
   "source": [
    "result.history"
   ]
  },
  {
   "cell_type": "code",
   "execution_count": 10,
   "id": "e9edda4c",
   "metadata": {},
   "outputs": [],
   "source": [
    "model.save(\"agirlik_udemy.h5\")"
   ]
  },
  {
   "cell_type": "markdown",
   "id": "140f3be2",
   "metadata": {},
   "source": [
    "# Model Testi"
   ]
  },
  {
   "cell_type": "code",
   "execution_count": 11,
   "id": "18227d47",
   "metadata": {},
   "outputs": [
    {
     "name": "stdout",
     "output_type": "stream",
     "text": [
      "55/55 [==============================] - 4s 65ms/step - loss: 0.1794 - accuracy: 0.9537\n"
     ]
    },
    {
     "data": {
      "text/plain": [
       "[0.17941652238368988, 0.953722357749939]"
      ]
     },
     "execution_count": 11,
     "metadata": {},
     "output_type": "execute_result"
    }
   ],
   "source": [
    "model.evaluate(test_datagen)"
   ]
  },
  {
   "cell_type": "markdown",
   "id": "dc42bb47",
   "metadata": {},
   "source": [
    "# Görselleştirme"
   ]
  },
  {
   "cell_type": "code",
   "execution_count": 12,
   "id": "fcd0483d",
   "metadata": {},
   "outputs": [
    {
     "data": {
      "text/plain": [
       "{'loss': [1.616159200668335,\n",
       "  0.28962966799736023,\n",
       "  0.14192995429039001,\n",
       "  0.0940202996134758,\n",
       "  0.06311780214309692,\n",
       "  0.05812409892678261,\n",
       "  0.05197935551404953,\n",
       "  0.04368045926094055,\n",
       "  0.03325803577899933,\n",
       "  0.04347045719623566],\n",
       " 'accuracy': [0.5252873301506042,\n",
       "  0.9124840497970581,\n",
       "  0.9568007588386536,\n",
       "  0.9728288650512695,\n",
       "  0.9814814925193787,\n",
       "  0.9826628565788269,\n",
       "  0.9836207032203674,\n",
       "  0.9863346219062805,\n",
       "  0.9899744391441345,\n",
       "  0.9865261912345886],\n",
       " 'val_loss': [0.5458657145500183,\n",
       "  0.33930686116218567,\n",
       "  0.28593748807907104,\n",
       "  0.24493543803691864,\n",
       "  0.2797088027000427,\n",
       "  0.1872406303882599,\n",
       "  0.25550371408462524,\n",
       "  0.17181453108787537,\n",
       "  0.14931102097034454,\n",
       "  0.17941652238368988],\n",
       " 'val_accuracy': [0.8433457612991333,\n",
       "  0.8968093991279602,\n",
       "  0.9131934642791748,\n",
       "  0.9284276962280273,\n",
       "  0.9180799126625061,\n",
       "  0.948261022567749,\n",
       "  0.9298648834228516,\n",
       "  0.9542971849441528,\n",
       "  0.957459032535553,\n",
       "  0.953722357749939]}"
      ]
     },
     "execution_count": 12,
     "metadata": {},
     "output_type": "execute_result"
    }
   ],
   "source": [
    "result.history"
   ]
  },
  {
   "cell_type": "code",
   "execution_count": 13,
   "id": "b727b5f9",
   "metadata": {},
   "outputs": [],
   "source": [
    "acc=result.history[\"accuracy\"]\n",
    "val_acc=result.history[\"val_accuracy\"]\n",
    "acc_loss=result.history[\"loss\"]\n",
    "val_loss=result.history[\"val_loss\"]"
   ]
  },
  {
   "cell_type": "code",
   "execution_count": 14,
   "id": "61b4c357",
   "metadata": {},
   "outputs": [],
   "source": [
    "epoch=range(1,len(acc)+1)"
   ]
  },
  {
   "cell_type": "code",
   "execution_count": 15,
   "id": "fc0eecc0",
   "metadata": {},
   "outputs": [
    {
     "data": {
      "text/plain": [
       "<matplotlib.legend.Legend at 0x181a1861760>"
      ]
     },
     "execution_count": 15,
     "metadata": {},
     "output_type": "execute_result"
    },
    {
     "data": {
      "image/png": "[encoded data removed]",
      "text/plain": [
       "<Figure size 1080x432 with 1 Axes>"
      ]
     },
     "metadata": {
      "needs_background": "light"
     },
     "output_type": "display_data"
    }
   ],
   "source": [
    "plt.figure(figsize=(15,6))\n",
    "plt.plot(epoch,acc,label=(\"eğitimin başarısı\"),color=\"g\")\n",
    "plt.plot(epoch,val_acc,label=(\"doğrulama başarısı\"),color=\"r\")\n",
    "plt.title(\"eğitim ve dğrulama başarısı\")\n",
    "plt.legend()"
   ]
  },
  {
   "cell_type": "code",
   "execution_count": 16,
   "id": "2f18de74",
   "metadata": {},
   "outputs": [
    {
     "data": {
      "text/plain": [
       "<matplotlib.legend.Legend at 0x181a17d3c70>"
      ]
     },
     "execution_count": 16,
     "metadata": {},
     "output_type": "execute_result"
    },
    {
     "data": {
      "image/png": "[encoded data removed]",
      "text/plain": [
       "<Figure size 1080x432 with 1 Axes>"
      ]
     },
     "metadata": {
      "needs_background": "light"
     },
     "output_type": "display_data"
    }
   ],
   "source": [
    "plt.figure(figsize=(15,6))\n",
    "plt.plot(epoch,acc_loss,label=(\"eğitimin kaybı\"),color=\"g\")\n",
    "plt.plot(epoch,val_loss,label=(\"doğrulama kaybı\"),color=\"r\")\n",
    "plt.title(\"eğitim ve dğrulama kaybı\")\n",
    "plt.legend()"
   ]
  },
  {
   "cell_type": "markdown",
   "id": "ad32187e",
   "metadata": {},
   "source": [
    "# Eğitilmiş Modeli Yükleme"
   ]
  },
  {
   "cell_type": "code",
   "execution_count": 17,
   "id": "e30269e4",
   "metadata": {},
   "outputs": [],
   "source": [
    "from tensorflow.keras.models import load_model\n",
    "model = load_model(\"agirlik.h5\")"
   ]
  },
  {
   "cell_type": "code",
   "execution_count": 19,
   "id": "39181854",
   "metadata": {
    "collapsed": true
   },
   "outputs": [
    {
     "name": "stdout",
     "output_type": "stream",
     "text": [
      "Model: \"sequential\"\n",
      "_________________________________________________________________\n",
      " Layer (type)                Output Shape              Param #   \n",
      "=================================================================\n",
      " conv2d (Conv2D)             (None, 28, 28, 32)        2432      \n",
      "                                                                 \n",
      " max_pooling2d (MaxPooling2D  (None, 14, 14, 32)       0         \n",
      " )                                                               \n",
      "                                                                 \n",
      " conv2d_1 (Conv2D)           (None, 12, 12, 64)        18496     \n",
      "                                                                 \n",
      " max_pooling2d_1 (MaxPooling  (None, 6, 6, 64)         0         \n",
      " 2D)                                                             \n",
      "                                                                 \n",
      " conv2d_2 (Conv2D)           (None, 5, 5, 64)          16448     \n",
      "                                                                 \n",
      " max_pooling2d_2 (MaxPooling  (None, 2, 2, 64)         0         \n",
      " 2D)                                                             \n",
      "                                                                 \n",
      " conv2d_3 (Conv2D)           (None, 1, 1, 64)          16448     \n",
      "                                                                 \n",
      " flatten (Flatten)           (None, 64)                0         \n",
      "                                                                 \n",
      " dense (Dense)               (None, 500)               32500     \n",
      "                                                                 \n",
      " dense_1 (Dense)             (None, 500)               250500    \n",
      "                                                                 \n",
      " dense_2 (Dense)             (None, 43)                21543     \n",
      "                                                                 \n",
      "=================================================================\n",
      "Total params: 358,367\n",
      "Trainable params: 358,367\n",
      "Non-trainable params: 0\n",
      "_________________________________________________________________\n"
     ]
    }
   ],
   "source": [
    "model.summary()"
   ]
  },
  {
   "cell_type": "markdown",
   "id": "22c9627a",
   "metadata": {},
   "source": [
    "# Webcam "
   ]
  },
  {
   "cell_type": "code",
   "execution_count": null,
   "id": "e7e91c90",
   "metadata": {},
   "outputs": [
    {
     "name": "stderr",
     "output_type": "stream",
     "text": [
      "C:\\Anaconda\\envs\\kubraa\\lib\\site-packages\\tensorflow\\python\\keras\\engine\\sequential.py:455: UserWarning: `model.predict_classes()` is deprecated and will be removed after 2021-01-01. Please use instead:* `np.argmax(model.predict(x), axis=-1)`,   if your model does multi-class classification   (e.g. if it uses a `softmax` last-layer activation).* `(model.predict(x) > 0.5).astype(\"int32\")`,   if your model does binary classification   (e.g. if it uses a `sigmoid` last-layer activation).\n",
      "  warnings.warn('`model.predict_classes()` is deprecated and '\n"
     ]
    }
   ],
   "source": [
    "import numpy as np\n",
    "import cv2\n",
    "import pickle\n",
    "from tensorflow import keras\n",
    "\n",
    " \n",
    "frameWidth= 640     \n",
    "frameHeight = 480\n",
    "brightness = 180\n",
    "threshold = 0.90        \n",
    "font = cv2.FONT_HERSHEY_SIMPLEX\n",
    "\n",
    "cap = cv2.VideoCapture(0)\n",
    "cap.set(3, frameWidth)\n",
    "cap.set(4, frameHeight)\n",
    "cap.set(10, brightness)\n",
    "\n",
    "model=keras.models.load_model(\"fatih1.h5\",compile=False)\n",
    " \n",
    "def preprocessing(img):\n",
    "    img = img/255\n",
    "    return img\n",
    "def getCalssName(classNo):\n",
    "    if classNo == 0: return \"Hız Limit 20 km/h\"\n",
    "    elif classNo == 1: return 'Dur'\n",
    "    elif classNo == 2: return 'Bir sonraki kavşakta yol hakkı'\n",
    "    elif classNo == 3: return 'Hız Limit 30 km/h'\n",
    "    elif classNo == 4: return '13_Yield'\n",
    "    elif classNo == 5: return 'Dur'\n",
    "    elif classNo == 6: return 'Araç yok'\n",
    "    elif classNo == 7: return 'Dur'\n",
    "    elif classNo == 8: return 'Giriş yok'\n",
    "    elif classNo == 9: return 'Genel Dikkat'\n",
    "    elif classNo == 10: return 'Soldaki Tehlikeli Eğri'\n",
    "    elif classNo == 11: return 'Hız Limit 30 km/h'\n",
    "    elif classNo == 12: return 'Sağdaki Tehlikeli Eğri'\n",
    "    elif classNo == 13: return 'Çift Eğri'\n",
    "    elif classNo == 14: return 'Engebeli yol'\n",
    "    elif classNo == 15: return 'Kaygan '\n",
    "    elif classNo == 16: return 'Yol Daralan Sagda'\n",
    "    elif classNo == 17: return 'Yol çalışması'\n",
    "    elif classNo == 18: return 'Trafik İşaretleri'\n",
    "    elif classNo == 19: return 'yayalar'\n",
    "    elif classNo == 20: return 'Cocuk Geçişi'\n",
    "    elif classNo == 21: return 'Bisiklet Geçişi'\n",
    "    elif classNo == 22: return 'Hız Limit 50 km/h'\n",
    "    elif classNo == 23: return 'Buz Dikkat'\n",
    "    elif classNo == 24: return 'Vahşi hayvanların geçişi'\n",
    "    elif classNo == 25: return 'Tüm hız ve geçiş limitlerinin sonu'\n",
    "    elif classNo == 26: return 'Saga Dön'\n",
    "    elif classNo == 27: return 'Sola Dön'\n",
    "    elif classNo == 28: return 'Sadece İleri'\n",
    "    elif classNo == 29: return 'Düz veya saga git'\n",
    "    elif classNo == 30: return 'Düz veya sola git'\n",
    "    elif classNo == 31: return 'Sagdan Gidin'\n",
    "    elif classNo == 32: return 'Soldan Gidin'\n",
    "    elif classNo == 33: return 'Hız Limit 60 km/h'\n",
    "    elif classNo == 34: return 'Cocuk Geçişi'\n",
    "    elif classNo == 35: return '41_End_of_no_passing'\n",
    "    elif classNo == 36: return 'Dur'\n",
    "    elif classNo == 37: return 'Hız Limit 70 km/h'\n",
    "    elif classNo == 38: return 'Hız Limit 80 km/h'\n",
    "    elif classNo == 39: return 'Hız sınırı sonu 80 km/h'\n",
    "    elif classNo == 40: return 'Hız Limit 100 km/h'\n",
    "    elif classNo == 41: return 'Hız Limit 120 km/h'\n",
    "    elif classNo == 42: return 'Geçiş yok'\n",
    "\n",
    "\n",
    " \n",
    "while True:\n",
    "    success, imgOrignal = cap.read()\n",
    "    img = np.asarray(imgOrignal)\n",
    "    img = cv2.resize(img, (32, 32))\n",
    "    img = preprocessing(img)\n",
    "    cv2.imshow(\"islenen Resim\", img)\n",
    "    img = img.reshape(1,32,32,3)\n",
    "    cv2.putText(imgOrignal, \"Sonuc: \" , (20, 35), font, 0.75, (0, 0, 255), 2, cv2.LINE_AA)\n",
    "    cv2.putText(imgOrignal, \"Olasilik: \", (20, 75), font, 0.75, (0, 0, 255), 2, cv2.LINE_AA)\n",
    "    predictions = model.predict(img)\n",
    "    classIndex = model.predict_classes(img)\n",
    "    probabilityValue =np.amax(predictions)\n",
    "    if probabilityValue > threshold:\n",
    "        cv2.putText(imgOrignal,str(classIndex)+\" \"+str(getCalssName(classIndex)), (120, 35), font, 0.75, (0, 0, 255), 2, cv2.LINE_AA)\n",
    "        cv2.putText(imgOrignal, str(round(probabilityValue*100,2) )+\"%\", (180, 75), font, 0.75, (0, 0, 255), 2, cv2.LINE_AA)\n",
    "        cv2.imshow(\"sonuc\", imgOrignal)\n",
    "    if cv2.waitKey(1) and 0xFF == ord('q'):\n",
    "        break"
   ]
  },
  {
   "cell_type": "code",
   "execution_count": null,
   "id": "09b5bf49",
   "metadata": {},
   "outputs": [],
   "source": []
  }
 ],
 "metadata": {
  "kernelspec": {
   "display_name": "Python 3 (ipykernel)",
   "language": "python",
   "name": "python3"
  },
  "language_info": {
   "codemirror_mode": {
    "name": "ipython",
    "version": 3
   },
   "file_extension": ".py",
   "mimetype": "text/x-python",
   "name": "python",
   "nbconvert_exporter": "python",
   "pygments_lexer": "ipython3",
   "version": "3.9.18"
  }
 },
 "nbformat": 4,
 "nbformat_minor": 5
}
