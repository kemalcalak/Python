{
 "cells": [
  {
   "cell_type": "code",
   "execution_count": 1,
   "id": "0ba1f572",
   "metadata": {},
   "outputs": [],
   "source": [
    "# library\n",
    "from keras.datasets import mnist"
   ]
  },
  {
   "cell_type": "code",
   "execution_count": 3,
   "id": "ec6d0954",
   "metadata": {},
   "outputs": [
    {
     "name": "stdout",
     "output_type": "stream",
     "text": [
      "Shape of Train Images (60000, 28, 28)\n",
      "Shape of Test Images (10000, 28, 28)\n"
     ]
    }
   ],
   "source": [
    "# train-test split\n",
    "(train_images, train_labels) = mnist.load_data()[0]\n",
    "(test_images, test_labels) = mnist.load_data()[1]\n",
    "\n",
    "print(\"Shape of Train Images\", train_images.shape)\n",
    "print(\"Shape of Test Images\", test_images.shape)"
   ]
  },
  {
   "cell_type": "code",
   "execution_count": 12,
   "id": "da3d68b7",
   "metadata": {},
   "outputs": [
    {
     "data": {
      "image/png": "[encoded data removed]",
      "text/plain": [
       "<Figure size 432x288 with 1 Axes>"
      ]
     },
     "metadata": {
      "needs_background": "light"
     },
     "output_type": "display_data"
    }
   ],
   "source": [
    "# displaying data\n",
    "import matplotlib.pyplot as plt\n",
    "\n",
    "plt.imshow(train_images[20], cmap=\"gray_r\")\n",
    "plt.show()"
   ]
  },
  {
   "cell_type": "code",
   "execution_count": 15,
   "id": "d6ff1c13",
   "metadata": {},
   "outputs": [
    {
     "name": "stdout",
     "output_type": "stream",
     "text": [
      "Shape of Train Images (60000, 28, 28, 1)\n",
      "Shape of Test Images (10000, 28, 28, 1)\n"
     ]
    }
   ],
   "source": [
    "# preparing data\n",
    "\n",
    "\"\"\"\n",
    "1. 3D --> 4D Numpy Array\n",
    "2. Normalization: /255\n",
    "\n",
    "\"\"\"\n",
    "\n",
    "# 3D --> 4D Numpy Array\n",
    "train_images = train_images.reshape(train_images.shape[0], 28, 28, 1)\n",
    "test_images = test_images.reshape(test_images.shape[0], 28, 28, 1)\n",
    "print(\"Shape of Train Images\", train_images.shape)\n",
    "print(\"Shape of Test Images\", test_images.shape)\n",
    "\n",
    "\n",
    "# Normalization: /255\n",
    "train_images = train_images.astype(\"float32\")\n",
    "test_images = test_images.astype(\"float32\")\n",
    "\n",
    "train_images /= 255\n",
    "test_images /= 255"
   ]
  },
  {
   "cell_type": "code",
   "execution_count": 16,
   "id": "c8daca08",
   "metadata": {},
   "outputs": [],
   "source": [
    "input_shape = (28,28,1)"
   ]
  },
  {
   "cell_type": "code",
   "execution_count": 17,
   "id": "65df2722",
   "metadata": {},
   "outputs": [],
   "source": [
    "#library\n",
    "from keras.models import Sequential\n",
    "from keras.layers import Conv2D, Dense, Dropout, Flatten, MaxPooling2D\n",
    "\n",
    "# creating network\n",
    "model = Sequential()\n",
    "\n",
    "model.add(Conv2D(28, kernel_size=(3,3), input_shape = input_shape))\n",
    "model.add(MaxPooling2D(pool_size=(2,2)))\n",
    "\n",
    "model.add(Flatten())\n",
    "\n",
    "model.add(Dense(128, activation=\"relu\"))\n",
    "model.add(Dropout(0.2))\n",
    "model.add(Dense(10, activation=\"softmax\"))"
   ]
  },
  {
   "cell_type": "code",
   "execution_count": 18,
   "id": "4d125f53",
   "metadata": {},
   "outputs": [
    {
     "name": "stdout",
     "output_type": "stream",
     "text": [
      "Model: \"sequential\"\n",
      "_________________________________________________________________\n",
      " Layer (type)                Output Shape              Param #   \n",
      "=================================================================\n",
      " conv2d (Conv2D)             (None, 26, 26, 28)        280       \n",
      "                                                                 \n",
      " max_pooling2d (MaxPooling2D  (None, 13, 13, 28)       0         \n",
      " )                                                               \n",
      "                                                                 \n",
      " flatten (Flatten)           (None, 4732)              0         \n",
      "                                                                 \n",
      " dense (Dense)               (None, 128)               605824    \n",
      "                                                                 \n",
      " dropout (Dropout)           (None, 128)               0         \n",
      "                                                                 \n",
      " dense_1 (Dense)             (None, 10)                1290      \n",
      "                                                                 \n",
      "=================================================================\n",
      "Total params: 607,394\n",
      "Trainable params: 607,394\n",
      "Non-trainable params: 0\n",
      "_________________________________________________________________\n"
     ]
    }
   ],
   "source": [
    "# compiling model\n",
    "model.compile(optimizer=\"adam\",\n",
    "            loss = \"sparse_categorical_crossentropy\",\n",
    "            metrics = [\"accuracy\"])\n",
    "\n",
    "model.summary()"
   ]
  },
  {
   "cell_type": "code",
   "execution_count": 19,
   "id": "5c7685ba",
   "metadata": {},
   "outputs": [
    {
     "name": "stdout",
     "output_type": "stream",
     "text": [
      "Epoch 1/10\n",
      "1875/1875 [==============================] - 14s 7ms/step - loss: 0.2152 - accuracy: 0.9356\n",
      "Epoch 2/10\n",
      "1875/1875 [==============================] - 14s 7ms/step - loss: 0.0870 - accuracy: 0.9736\n",
      "Epoch 3/10\n",
      "1875/1875 [==============================] - 14s 7ms/step - loss: 0.0610 - accuracy: 0.9809\n",
      "Epoch 4/10\n",
      "1875/1875 [==============================] - 14s 8ms/step - loss: 0.0460 - accuracy: 0.9851\n",
      "Epoch 5/10\n",
      "1875/1875 [==============================] - 14s 7ms/step - loss: 0.0374 - accuracy: 0.9881\n",
      "Epoch 6/10\n",
      "1875/1875 [==============================] - 15s 8ms/step - loss: 0.0307 - accuracy: 0.9897\n",
      "Epoch 7/10\n",
      "1875/1875 [==============================] - 14s 8ms/step - loss: 0.0256 - accuracy: 0.9912\n",
      "Epoch 8/10\n",
      "1875/1875 [==============================] - 14s 7ms/step - loss: 0.0237 - accuracy: 0.9918\n",
      "Epoch 9/10\n",
      "1875/1875 [==============================] - 14s 8ms/step - loss: 0.0203 - accuracy: 0.9932\n",
      "Epoch 10/10\n",
      "1875/1875 [==============================] - 14s 8ms/step - loss: 0.0192 - accuracy: 0.9934\n"
     ]
    }
   ],
   "source": [
    "# fitting model\n",
    "history = model.fit(x = train_images,\n",
    "                    y = train_labels,\n",
    "                    epochs = 10)\n",
    "\n"
   ]
  },
  {
   "cell_type": "code",
   "execution_count": 20,
   "id": "8be948d8",
   "metadata": {},
   "outputs": [
    {
     "name": "stdout",
     "output_type": "stream",
     "text": [
      "313/313 [==============================] - 1s 3ms/step - loss: 0.0672 - accuracy: 0.9851\n",
      "Test Loss:  0.06720476597547531\n",
      "Test Accuracy:  0.9850999712944031\n"
     ]
    }
   ],
   "source": [
    "# evaluating model\n",
    "test_loss, test_accuracy = model.evaluate(test_images, test_labels)\n",
    "print(\"Test Loss: \", test_loss)\n",
    "print(\"Test Accuracy: \", test_accuracy)"
   ]
  },
  {
   "cell_type": "code",
   "execution_count": 21,
   "id": "58d206ca",
   "metadata": {},
   "outputs": [
    {
     "name": "stdout",
     "output_type": "stream",
     "text": [
      "Keys:  dict_keys(['loss', 'accuracy'])\n"
     ]
    }
   ],
   "source": [
    "history_dict = history.history\n",
    "print(\"Keys: \", history_dict.keys())"
   ]
  },
  {
   "cell_type": "code",
   "execution_count": 26,
   "id": "ce5eb3de",
   "metadata": {},
   "outputs": [
    {
     "data": {
      "image/png": "[encoded data removed]",
      "text/plain": [
       "<Figure size 432x288 with 1 Axes>"
      ]
     },
     "metadata": {
      "needs_background": "light"
     },
     "output_type": "display_data"
    },
    {
     "data": {
      "image/png": "[encoded data removed]",
      "text/plain": [
       "<Figure size 432x288 with 1 Axes>"
      ]
     },
     "metadata": {
      "needs_background": "light"
     },
     "output_type": "display_data"
    }
   ],
   "source": [
    "# loss, accuracy graph\n",
    "import matplotlib.pyplot as plt\n",
    "\n",
    "epochs = range(1,11)\n",
    "loss = history_dict[\"loss\"]\n",
    "accuracy = history_dict[\"accuracy\"]\n",
    "\n",
    "\n",
    "plt.plot(epochs, loss)\n",
    "plt.title(\"Loss Graph\")\n",
    "plt.xlabel(\"Epochs\")\n",
    "plt.ylabel(\"Loss\")\n",
    "plt.show()\n",
    "\n",
    "plt.plot(epochs, accuracy)\n",
    "plt.title(\"Accuracy Graph\")\n",
    "plt.xlabel(\"Epochs\")\n",
    "plt.ylabel(\"Accuracy\")\n",
    "plt.show()"
   ]
  },
  {
   "cell_type": "code",
   "execution_count": 27,
   "id": "5f66b754",
   "metadata": {},
   "outputs": [],
   "source": [
    "# saving model\n",
    "model.save(\"mnist_model.h5\")"
   ]
  },
  {
   "cell_type": "code",
   "execution_count": 31,
   "id": "e4bb03ab",
   "metadata": {},
   "outputs": [
    {
     "name": "stdout",
     "output_type": "stream",
     "text": [
      "Predicted Number:  6\n"
     ]
    },
    {
     "data": {
      "image/png": "[encoded data removed]",
      "text/plain": [
       "<Figure size 432x288 with 1 Axes>"
      ]
     },
     "metadata": {
      "needs_background": "light"
     },
     "output_type": "display_data"
    }
   ],
   "source": [
    "# loading model and prediction\n",
    "from keras.models import load_model\n",
    "import random\n",
    "\n",
    "model = load_model(\"mnist_model.h5\")\n",
    "\n",
    "\n",
    "i = random.randint(1,5000)\n",
    "\n",
    "prediction = model.predict(test_images[i].reshape(1,28,28,1))\n",
    "\n",
    "print(\"Predicted Number: \",prediction.argmax())\n",
    "\n",
    "plt.imshow(test_images[i].reshape(28,28), cmap=\"gray_r\")\n",
    "plt.show()"
   ]
  }
 ],
 "metadata": {
  "kernelspec": {
   "display_name": "Python 3",
   "language": "python",
   "name": "python3"
  },
  "language_info": {
   "codemirror_mode": {
    "name": "ipython",
    "version": 3
   },
   "file_extension": ".py",
   "mimetype": "text/x-python",
   "name": "python",
   "nbconvert_exporter": "python",
   "pygments_lexer": "ipython3",
   "version": "3.8.8"
  }
 },
 "nbformat": 4,
 "nbformat_minor": 5
}
