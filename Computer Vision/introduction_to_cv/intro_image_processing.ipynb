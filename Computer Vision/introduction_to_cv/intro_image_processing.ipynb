{
 "cells": [
  {
   "cell_type": "code",
   "execution_count": 1,
   "id": "cf8dc543",
   "metadata": {},
   "outputs": [],
   "source": [
    "# library\n",
    "\n",
    "# pip install opencv-python\n",
    "import cv2\n",
    "# pip install numpy\n",
    "import numpy as np"
   ]
  },
  {
   "cell_type": "code",
   "execution_count": 6,
   "id": "18fd49aa",
   "metadata": {},
   "outputs": [],
   "source": [
    "# reading, saving, displaying images\n",
    "\n",
    "img = cv2.imread(\"datasets/clone.jpg\")\n",
    "cv2.imwrite(\"datasets/clone_copy.jpg\",img)\n",
    "\n",
    "cv2.imshow(\"Test\", img)\n",
    "cv2.waitKey(0)\n",
    "cv2.destroyAllWindows()"
   ]
  },
  {
   "cell_type": "code",
   "execution_count": 10,
   "id": "3886973a",
   "metadata": {},
   "outputs": [
    {
     "name": "stdout",
     "output_type": "stream",
     "text": [
      "Original Image:  (770, 768, 3)\n",
      "Resized Image:  (128, 128, 3)\n"
     ]
    }
   ],
   "source": [
    "# scaling images\n",
    "\n",
    "img = cv2.imread(\"datasets/clone.jpg\")\n",
    "resized_img = cv2.resize(img, (128,128))\n",
    "\n",
    "print(\"Original Image: \",img.shape)\n",
    "print(\"Resized Image: \",resized_img.shape)\n",
    "\n",
    "cv2.imshow(\"Original Image\", img)\n",
    "cv2.imshow(\"Resized Image\", resized_img)\n",
    "\n",
    "cv2.waitKey(0)\n",
    "cv2.destroyAllWindows()"
   ]
  },
  {
   "cell_type": "code",
   "execution_count": 14,
   "id": "e3a52cd6",
   "metadata": {},
   "outputs": [],
   "source": [
    "# roi(region of interest)\n",
    "\n",
    "img = cv2.imread(\"datasets/clone.jpg\")\n",
    "face = img[100:300, 350:500]\n",
    "\n",
    "cv2.imshow(\"Original Image\", img)\n",
    "cv2.imshow(\"Face Image\", face)\n",
    "\n",
    "cv2.waitKey(0)\n",
    "cv2.destroyAllWindows()\n"
   ]
  },
  {
   "cell_type": "code",
   "execution_count": 19,
   "id": "ec6cf68f",
   "metadata": {},
   "outputs": [
    {
     "name": "stdout",
     "output_type": "stream",
     "text": [
      "Original Image:  (770, 768, 3)\n",
      "Grayscale Image:  (770, 768)\n",
      "HSV Image:  (770, 768, 3)\n",
      "RGB Image:  (770, 768, 3)\n"
     ]
    }
   ],
   "source": [
    "# colorspaces\n",
    "\n",
    "img = cv2.imread(\"datasets/clone.jpg\")\n",
    "print(\"Original Image: \",img.shape)\n",
    "\n",
    "gray = cv2.cvtColor(img, cv2.COLOR_BGR2GRAY)\n",
    "print(\"Grayscale Image: \",gray.shape)\n",
    "\n",
    "hsv = cv2.cvtColor(img, cv2.COLOR_BGR2HSV)\n",
    "print(\"HSV Image: \",hsv.shape)\n",
    "\n",
    "rgb = cv2.cvtColor(img, cv2.COLOR_BGR2RGB)\n",
    "print(\"RGB Image: \",rgb.shape)\n",
    "\n",
    "\n",
    "cv2.imshow(\"Original Image\", img)\n",
    "cv2.imshow(\"Grayscale Image\", gray)\n",
    "cv2.imshow(\"HSV Image\", hsv)\n",
    "cv2.imshow(\"RGB Image\", rgb)\n",
    "\n",
    "\n",
    "cv2.waitKey(0)\n",
    "cv2.destroyAllWindows()\n"
   ]
  },
  {
   "cell_type": "code",
   "execution_count": 30,
   "id": "0b9b9b90",
   "metadata": {},
   "outputs": [],
   "source": [
    "# drawing fuctions - line\n",
    "\n",
    "color = (255,255,0)\n",
    "canva = np.zeros((512,512,3),dtype=np.uint8)+100\n",
    "# print(\"Canva Image:\",canva.shape)\n",
    "\n",
    "cv2.line(canva, (0,0), (200,250), color, 2)\n",
    "\n",
    "cv2.imshow(\"Canva\", canva)\n",
    "cv2.waitKey(0)\n",
    "cv2.destroyAllWindows()"
   ]
  },
  {
   "cell_type": "code",
   "execution_count": 34,
   "id": "bed9752c",
   "metadata": {},
   "outputs": [],
   "source": [
    "# drawing fuctions - circle\n",
    "\n",
    "color = (255,255,0)\n",
    "canva = np.zeros((512,512,3),dtype=np.uint8)+100\n",
    "# print(\"Canva Image:\",canva.shape)\n",
    "\n",
    "cv2.circle(canva, (100,100), 50, color, 2)\n",
    "cv2.circle(canva, (250,250), 50, color, -1)\n",
    "\n",
    "cv2.imshow(\"Canva\", canva)\n",
    "cv2.waitKey(0)\n",
    "cv2.destroyAllWindows()"
   ]
  },
  {
   "cell_type": "code",
   "execution_count": 36,
   "id": "f8650584",
   "metadata": {},
   "outputs": [],
   "source": [
    "# drawing fuctions - rectangle\n",
    "\n",
    "color = (255,255,0)\n",
    "canva = np.zeros((512,512,3),dtype=np.uint8)+100\n",
    "# print(\"Canva Image:\",canva.shape)\n",
    "\n",
    "cv2.rectangle(canva, (100,100), (200,150), color, 2)\n",
    "cv2.rectangle(canva, (250,250), (300,300), color, -1)\n",
    "\n",
    "\n",
    "cv2.imshow(\"Canva\", canva)\n",
    "cv2.waitKey(0)\n",
    "cv2.destroyAllWindows()\n"
   ]
  },
  {
   "cell_type": "code",
   "execution_count": 39,
   "id": "55582131",
   "metadata": {},
   "outputs": [],
   "source": [
    "# drawing fuctions - text\n",
    "\n",
    "\n",
    "\"\"\"\n",
    "OPENCV FONTS\n",
    "-------------\n",
    "\n",
    "1. Hershey Simplex\n",
    "2. Hershey Plain\n",
    "3. Hershey Duplex\n",
    "4. Hershey Complex\n",
    "5. Hershey Triplex\n",
    "6. Hershey Complex Small\n",
    "7. Hershey Script Simplex\n",
    "8. Hershey Script Complex\n",
    "\n",
    "example:\n",
    "cv2.FONT_HERSHEY_TRIPLEX\n",
    "cv2.FONT_HERSHEY_SIMPLEX\n",
    "\n",
    "\"\"\"\n",
    "\n",
    "\n",
    "color = (255,255,0)\n",
    "font = cv2.cv2.FONT_HERSHEY_TRIPLEX\n",
    "font_scale = 1\n",
    "thickness = 2\n",
    "line_type = cv2.LINE_AA\n",
    "\n",
    "canva = np.zeros((512,512,3),dtype=np.uint8)+255   # (0, 0, 0) --> (255, 255, 255)\n",
    "# print(\"Canva Image:\",canva.shape)\n",
    "\n",
    "cv2.putText(canva, \"Introduction to OpenCV\", (100,100), font, font_scale, color, thickness, line_type)\n",
    "\n",
    "cv2.imshow(\"Canva\", canva)\n",
    "cv2.waitKey(0)\n",
    "cv2.destroyAllWindows()"
   ]
  },
  {
   "cell_type": "code",
   "execution_count": 7,
   "id": "89fb1ac0",
   "metadata": {},
   "outputs": [],
   "source": [
    "import cv2\n",
    "\n",
    "capture = cv2.VideoCapture(\"test.mp4\") # webcam --> cv2.VideoCapture(0)\n",
    "\n",
    "while True:\n",
    "    ret, frame = capture.read()\n",
    "    if ret == False:\n",
    "        break\n",
    "        \n",
    "    resized_frame = cv2.resize(frame, (640,480))\n",
    "    hsv = cv2.cvtColor(resized_frame, cv2.COLOR_BGR2HSV)\n",
    "    \n",
    "    cv2.imshow(\"Original Video\", resized_frame)\n",
    "    cv2.imshow(\"HSV Video\", hsv)\n",
    "    \n",
    "    if cv2.waitKey(100) & 0xFF == ord(\"q\"):\n",
    "        break\n",
    "    \n",
    "    \n",
    "capture.release()\n",
    "cv2.destroyAllWindows()"
   ]
  }
 ],
 "metadata": {
  "kernelspec": {
   "display_name": "Python 3 (ipykernel)",
   "language": "python",
   "name": "python3"
  },
  "language_info": {
   "codemirror_mode": {
    "name": "ipython",
    "version": 3
   },
   "file_extension": ".py",
   "mimetype": "text/x-python",
   "name": "python",
   "nbconvert_exporter": "python",
   "pygments_lexer": "ipython3",
   "version": "3.7.4"
  }
 },
 "nbformat": 4,
 "nbformat_minor": 5
}
