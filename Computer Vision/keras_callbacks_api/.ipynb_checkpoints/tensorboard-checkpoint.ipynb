{
 "cells": [
  {
   "cell_type": "code",
   "execution_count": 1,
   "id": "9e3aac84",
   "metadata": {},
   "outputs": [],
   "source": [
    "import keras\n",
    "from keras.datasets import mnist\n",
    "from keras.models import Sequential\n",
    "from keras.layers import Dense, Dropout, Flatten\n",
    "from keras.layers import Conv2D, MaxPooling2D\n",
    "from keras.layers import Activation\n",
    "from tensorflow.keras.optimizers import Adam\n",
    "from keras.callbacks import TensorBoard\n",
    "import time\n",
    "import tensorflow"
   ]
  },
  {
   "cell_type": "code",
   "execution_count": 2,
   "id": "b1fdab5d",
   "metadata": {},
   "outputs": [],
   "source": [
    "batch_size = 128\n",
    "num_classes = 10\n",
    "epochs = 10\n",
    "time = time.strftime(\"%Y_%m_%d_%H_%M_%S\")"
   ]
  },
  {
   "cell_type": "code",
   "execution_count": 3,
   "id": "2983fb7a",
   "metadata": {},
   "outputs": [
    {
     "name": "stdout",
     "output_type": "stream",
     "text": [
      "x_train shape: (60000, 28, 28, 1)\n",
      "60000 train samples\n",
      "10000 test samples\n"
     ]
    }
   ],
   "source": [
    "(x_train, y_train), (x_test, y_test) = mnist.load_data()\n",
    "x_train = x_train.reshape(60000,28,28,1)\n",
    "x_test = x_test.reshape(10000,28,28,1)\n",
    "x_train = x_train.astype('float32')\n",
    "x_test = x_test.astype('float32')\n",
    "x_train /= 255\n",
    "x_test /= 255\n",
    "\n",
    "print('x_train shape:', x_train.shape)\n",
    "print(x_train.shape[0], 'train samples')\n",
    "print(x_test.shape[0], 'test samples')\n",
    "\n",
    "y_train = tensorflow.keras.utils.to_categorical(y_train, num_classes)\n",
    "y_test =  tensorflow.keras.utils.to_categorical(y_test, num_classes)"
   ]
  },
  {
   "cell_type": "code",
   "execution_count": 4,
   "id": "2f08605d",
   "metadata": {},
   "outputs": [],
   "source": [
    "model = Sequential()\n",
    "\n",
    "model.add(Conv2D(32, (3,3), padding=\"same\", input_shape=(28,28,1), activation= \"relu\"))\n",
    "model.add(MaxPooling2D(pool_size=(3, 3)))\n",
    "model.add(Dropout(0.25))\n",
    "\n",
    "model.add(Flatten())\n",
    "model.add(Dense(128, activation=\"relu\"))\n",
    "model.add(Dropout(0.5))\n",
    "\n",
    "model.add(Dense(num_classes, activation='softmax'))"
   ]
  },
  {
   "cell_type": "code",
   "execution_count": 5,
   "id": "4f13b3eb",
   "metadata": {},
   "outputs": [
    {
     "name": "stdout",
     "output_type": "stream",
     "text": [
      "WARNING:tensorflow:`batch_size` is no longer needed in the `TensorBoard` Callback and will be ignored in TensorFlow 2.0.\n"
     ]
    }
   ],
   "source": [
    "kerasboard = TensorBoard(log_dir=\"/log_dir/{}\".format(time),\n",
    "                        batch_size=batch_size,\n",
    "                        histogram_freq=1,\n",
    "                        write_grads=False)"
   ]
  },
  {
   "cell_type": "code",
   "execution_count": null,
   "id": "0672bd1b",
   "metadata": {},
   "outputs": [
    {
     "name": "stdout",
     "output_type": "stream",
     "text": [
      "Epoch 1/10\n",
      "329/329 [==============================] - 11s 30ms/step - loss: 0.4859 - accuracy: 0.8498 - val_loss: 0.1482 - val_accuracy: 0.9574\n",
      "Epoch 2/10\n",
      "329/329 [==============================] - 9s 28ms/step - loss: 0.1914 - accuracy: 0.9429 - val_loss: 0.1010 - val_accuracy: 0.9696\n",
      "Epoch 3/10\n",
      "329/329 [==============================] - 9s 28ms/step - loss: 0.1454 - accuracy: 0.9566 - val_loss: 0.0828 - val_accuracy: 0.9748\n",
      "Epoch 4/10\n",
      "329/329 [==============================] - 9s 27ms/step - loss: 0.1213 - accuracy: 0.9630 - val_loss: 0.0752 - val_accuracy: 0.9763\n",
      "Epoch 5/10\n",
      "329/329 [==============================] - 9s 28ms/step - loss: 0.1025 - accuracy: 0.9697 - val_loss: 0.0651 - val_accuracy: 0.9801\n",
      "Epoch 6/10\n",
      "329/329 [==============================] - 9s 28ms/step - loss: 0.0944 - accuracy: 0.9716 - val_loss: 0.0589 - val_accuracy: 0.9822\n",
      "Epoch 7/10\n",
      "329/329 [==============================] - 9s 28ms/step - loss: 0.0880 - accuracy: 0.9730 - val_loss: 0.0559 - val_accuracy: 0.9832\n",
      "Epoch 8/10\n",
      "329/329 [==============================] - ETA: 0s - loss: 0.0774 - accuracy: 0.9770"
     ]
    }
   ],
   "source": [
    "model.compile(loss=\"categorical_crossentropy\",\n",
    "              optimizer=\"adam\",\n",
    "              metrics=['accuracy'])\n",
    "\n",
    "model.fit(x_train, y_train,\n",
    "          batch_size=batch_size,\n",
    "          epochs=epochs,\n",
    "          validation_split=0.3,\n",
    "          validation_data=(x_test, y_test),\n",
    "          callbacks=[kerasboard])\n",
    "\n",
    "\n",
    "print(\"tensorboard --logdir=\"+kerasboard.log_dir)"
   ]
  },
  {
   "cell_type": "code",
   "execution_count": null,
   "id": "0ea3a338",
   "metadata": {},
   "outputs": [],
   "source": []
  },
  {
   "cell_type": "code",
   "execution_count": null,
   "id": "82e595fe",
   "metadata": {},
   "outputs": [],
   "source": []
  }
 ],
 "metadata": {
  "kernelspec": {
   "display_name": "Python 3 (ipykernel)",
   "language": "python",
   "name": "python3"
  },
  "language_info": {
   "codemirror_mode": {
    "name": "ipython",
    "version": 3
   },
   "file_extension": ".py",
   "mimetype": "text/x-python",
   "name": "python",
   "nbconvert_exporter": "python",
   "pygments_lexer": "ipython3",
   "version": "3.7.4"
  }
 },
 "nbformat": 4,
 "nbformat_minor": 5
}
