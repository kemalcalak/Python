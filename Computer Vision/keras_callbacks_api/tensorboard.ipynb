{
 "cells": [
  {
   "cell_type": "code",
   "execution_count": 1,
   "id": "9e3aac84",
   "metadata": {},
   "outputs": [],
   "source": [
    "import keras\n",
    "from keras.datasets import mnist\n",
    "from keras.models import Sequential\n",
    "from keras.layers import Dense, Dropout, Flatten\n",
    "from keras.layers import Conv2D, MaxPooling2D\n",
    "from keras.layers import Activation\n",
    "from tensorflow.keras.optimizers import Adam\n",
    "from keras.callbacks import TensorBoard\n",
    "import time\n",
    "import tensorflow"
   ]
  },
  {
   "cell_type": "code",
   "execution_count": 2,
   "id": "b1fdab5d",
   "metadata": {},
   "outputs": [],
   "source": [
    "batch_size = 128\n",
    "num_classes = 10\n",
    "epochs = 10\n",
    "time = time.strftime(\"%Y_%m_%d_%H_%M_%S\")"
   ]
  },
  {
   "cell_type": "code",
   "execution_count": 3,
   "id": "2983fb7a",
   "metadata": {},
   "outputs": [
    {
     "name": "stdout",
     "output_type": "stream",
     "text": [
      "x_train shape: (60000, 28, 28, 1)\n",
      "60000 train samples\n",
      "10000 test samples\n"
     ]
    }
   ],
   "source": [
    "(x_train, y_train), (x_test, y_test) = mnist.load_data()\n",
    "x_train = x_train.reshape(60000,28,28,1)\n",
    "x_test = x_test.reshape(10000,28,28,1)\n",
    "x_train = x_train.astype('float32')\n",
    "x_test = x_test.astype('float32')\n",
    "x_train /= 255\n",
    "x_test /= 255\n",
    "\n",
    "print('x_train shape:', x_train.shape)\n",
    "print(x_train.shape[0], 'train samples')\n",
    "print(x_test.shape[0], 'test samples')\n",
    "\n",
    "y_train = tensorflow.keras.utils.to_categorical(y_train, num_classes)\n",
    "y_test =  tensorflow.keras.utils.to_categorical(y_test, num_classes)"
   ]
  },
  {
   "cell_type": "code",
   "execution_count": 4,
   "id": "2f08605d",
   "metadata": {},
   "outputs": [],
   "source": [
    "model = Sequential()\n",
    "\n",
    "model.add(Conv2D(32, (3,3), padding=\"same\", input_shape=(28,28,1), activation= \"relu\"))\n",
    "model.add(MaxPooling2D(pool_size=(3, 3)))\n",
    "model.add(Dropout(0.25))\n",
    "\n",
    "model.add(Flatten())\n",
    "model.add(Dense(128, activation=\"relu\"))\n",
    "model.add(Dropout(0.5))\n",
    "\n",
    "model.add(Dense(num_classes, activation='softmax'))"
   ]
  },
  {
   "cell_type": "code",
   "execution_count": 7,
   "id": "4f13b3eb",
   "metadata": {},
   "outputs": [
    {
     "name": "stdout",
     "output_type": "stream",
     "text": [
      "WARNING:tensorflow:`batch_size` is no longer needed in the `TensorBoard` Callback and will be ignored in TensorFlow 2.0.\n"
     ]
    }
   ],
   "source": [
    "kerasboard = TensorBoard(log_dir=\"/log_dir/{}\".format(time),\n",
    "                        batch_size=batch_size,\n",
    "                        histogram_freq=1,\n",
    "                        write_grads=False)"
   ]
  },
  {
   "cell_type": "code",
   "execution_count": 8,
   "id": "0672bd1b",
   "metadata": {},
   "outputs": [
    {
     "name": "stdout",
     "output_type": "stream",
     "text": [
      "Epoch 1/5\n",
      "329/329 [==============================] - 10s 29ms/step - loss: 0.0669 - accuracy: 0.9794 - val_loss: 0.0506 - val_accuracy: 0.9852\n",
      "Epoch 2/5\n",
      "329/329 [==============================] - 9s 28ms/step - loss: 0.0639 - accuracy: 0.9795 - val_loss: 0.0458 - val_accuracy: 0.9862\n",
      "Epoch 3/5\n",
      "329/329 [==============================] - 9s 28ms/step - loss: 0.0582 - accuracy: 0.9821 - val_loss: 0.0456 - val_accuracy: 0.9862\n",
      "Epoch 4/5\n",
      "329/329 [==============================] - 9s 28ms/step - loss: 0.0556 - accuracy: 0.9823 - val_loss: 0.0456 - val_accuracy: 0.9869\n",
      "Epoch 5/5\n",
      "329/329 [==============================] - 10s 29ms/step - loss: 0.0493 - accuracy: 0.9840 - val_loss: 0.0444 - val_accuracy: 0.9868\n",
      "tensorboard --logdir=/log_dir/2021_12_23_14_46_40\n"
     ]
    }
   ],
   "source": [
    "model.compile(loss=\"categorical_crossentropy\",\n",
    "              optimizer=\"adam\",\n",
    "              metrics=['accuracy'])\n",
    "\n",
    "model.fit(x_train, y_train,\n",
    "          batch_size=batch_size,\n",
    "          epochs=5,\n",
    "          validation_split=0.3,\n",
    "          validation_data=(x_test, y_test),\n",
    "          callbacks=[kerasboard])\n",
    "\n",
    "\n",
    "print(\"tensorboard --logdir=\"+kerasboard.log_dir)"
   ]
  },
  {
   "cell_type": "code",
   "execution_count": null,
   "id": "0ea3a338",
   "metadata": {},
   "outputs": [],
   "source": []
  },
  {
   "cell_type": "code",
   "execution_count": null,
   "id": "82e595fe",
   "metadata": {},
   "outputs": [],
   "source": []
  }
 ],
 "metadata": {
  "kernelspec": {
   "display_name": "Python 3 (ipykernel)",
   "language": "python",
   "name": "python3"
  },
  "language_info": {
   "codemirror_mode": {
    "name": "ipython",
    "version": 3
   },
   "file_extension": ".py",
   "mimetype": "text/x-python",
   "name": "python",
   "nbconvert_exporter": "python",
   "pygments_lexer": "ipython3",
   "version": "3.7.4"
  }
 },
 "nbformat": 4,
 "nbformat_minor": 5
}
