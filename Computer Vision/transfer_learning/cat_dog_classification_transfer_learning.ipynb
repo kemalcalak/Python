{
 "cells": [
  {
   "cell_type": "markdown",
   "id": "dc57f242",
   "metadata": {},
   "source": [
    "# 1. Creating Model"
   ]
  },
  {
   "cell_type": "code",
   "execution_count": 1,
   "id": "3b2a4df0",
   "metadata": {},
   "outputs": [],
   "source": [
    "from keras import layers\n",
    "from keras.models import Sequential, Model\n",
    "from keras.applications.vgg16 import VGG16\n",
    "from tensorflow.keras import optimizers\n",
    "from keras.preprocessing.image import ImageDataGenerator"
   ]
  },
  {
   "cell_type": "code",
   "execution_count": 2,
   "id": "38ca6a9c",
   "metadata": {},
   "outputs": [],
   "source": [
    "model = VGG16(include_top=False, input_shape=(224,224,3))"
   ]
  },
  {
   "cell_type": "code",
   "execution_count": 3,
   "id": "128b624c",
   "metadata": {},
   "outputs": [],
   "source": [
    "for layer in model.layers:\n",
    "    layer.trainable=False"
   ]
  },
  {
   "cell_type": "code",
   "execution_count": 4,
   "id": "ec634b1e",
   "metadata": {},
   "outputs": [],
   "source": [
    "flattened_layer = layers.Flatten()(model.output)\n",
    "fc_layer = layers.Dense(512, activation = \"relu\")(flattened_layer)\n",
    "output_layer = layers.Dense(1, activation = \"sigmoid\")(fc_layer)"
   ]
  },
  {
   "cell_type": "code",
   "execution_count": 5,
   "id": "1f54db9f",
   "metadata": {},
   "outputs": [],
   "source": [
    "model = Model(inputs=model.inputs, outputs=output_layer)"
   ]
  },
  {
   "cell_type": "code",
   "execution_count": 6,
   "id": "5285bc6c",
   "metadata": {},
   "outputs": [],
   "source": [
    "model.compile(loss = \"binary_crossentropy\",\n",
    "              optimizer = optimizers.RMSprop(learning_rate = 1e-4),\n",
    "              metrics = [\"acc\"])"
   ]
  },
  {
   "cell_type": "code",
   "execution_count": 7,
   "id": "0fbf0f81",
   "metadata": {},
   "outputs": [
    {
     "name": "stdout",
     "output_type": "stream",
     "text": [
      "Model: \"model\"\n",
      "_________________________________________________________________\n",
      " Layer (type)                Output Shape              Param #   \n",
      "=================================================================\n",
      " input_1 (InputLayer)        [(None, 224, 224, 3)]     0         \n",
      "                                                                 \n",
      " block1_conv1 (Conv2D)       (None, 224, 224, 64)      1792      \n",
      "                                                                 \n",
      " block1_conv2 (Conv2D)       (None, 224, 224, 64)      36928     \n",
      "                                                                 \n",
      " block1_pool (MaxPooling2D)  (None, 112, 112, 64)      0         \n",
      "                                                                 \n",
      " block2_conv1 (Conv2D)       (None, 112, 112, 128)     73856     \n",
      "                                                                 \n",
      " block2_conv2 (Conv2D)       (None, 112, 112, 128)     147584    \n",
      "                                                                 \n",
      " block2_pool (MaxPooling2D)  (None, 56, 56, 128)       0         \n",
      "                                                                 \n",
      " block3_conv1 (Conv2D)       (None, 56, 56, 256)       295168    \n",
      "                                                                 \n",
      " block3_conv2 (Conv2D)       (None, 56, 56, 256)       590080    \n",
      "                                                                 \n",
      " block3_conv3 (Conv2D)       (None, 56, 56, 256)       590080    \n",
      "                                                                 \n",
      " block3_pool (MaxPooling2D)  (None, 28, 28, 256)       0         \n",
      "                                                                 \n",
      " block4_conv1 (Conv2D)       (None, 28, 28, 512)       1180160   \n",
      "                                                                 \n",
      " block4_conv2 (Conv2D)       (None, 28, 28, 512)       2359808   \n",
      "                                                                 \n",
      " block4_conv3 (Conv2D)       (None, 28, 28, 512)       2359808   \n",
      "                                                                 \n",
      " block4_pool (MaxPooling2D)  (None, 14, 14, 512)       0         \n",
      "                                                                 \n",
      " block5_conv1 (Conv2D)       (None, 14, 14, 512)       2359808   \n",
      "                                                                 \n",
      " block5_conv2 (Conv2D)       (None, 14, 14, 512)       2359808   \n",
      "                                                                 \n",
      " block5_conv3 (Conv2D)       (None, 14, 14, 512)       2359808   \n",
      "                                                                 \n",
      " block5_pool (MaxPooling2D)  (None, 7, 7, 512)         0         \n",
      "                                                                 \n",
      " flatten (Flatten)           (None, 25088)             0         \n",
      "                                                                 \n",
      " dense (Dense)               (None, 512)               12845568  \n",
      "                                                                 \n",
      " dense_1 (Dense)             (None, 1)                 513       \n",
      "                                                                 \n",
      "=================================================================\n",
      "Total params: 27,560,769\n",
      "Trainable params: 12,846,081\n",
      "Non-trainable params: 14,714,688\n",
      "_________________________________________________________________\n"
     ]
    }
   ],
   "source": [
    "model.summary()"
   ]
  },
  {
   "cell_type": "code",
   "execution_count": 10,
   "id": "1a6f9dab",
   "metadata": {},
   "outputs": [],
   "source": [
    "from tensorflow.keras import optimizers\n",
    "\n",
    "model.compile(loss = \"binary_crossentropy\",\n",
    "              optimizer = optimizers.RMSprop(learning_rate = 1e-4),\n",
    "              metrics = [\"acc\"])"
   ]
  },
  {
   "cell_type": "code",
   "execution_count": 8,
   "id": "1fec3c67",
   "metadata": {},
   "outputs": [],
   "source": [
    "train_directory = \"dataset/catdog/train\"\n",
    "validation_directory = \"dataset/catdog/validation\""
   ]
  },
  {
   "cell_type": "code",
   "execution_count": 9,
   "id": "0634d882",
   "metadata": {},
   "outputs": [],
   "source": [
    "train_datagen_x = ImageDataGenerator(rescale = 1./255,\n",
    "                                     rotation_range = 45,\n",
    "                                     width_shift_range = 0.3,\n",
    "                                     height_shift_range = 0.3,\n",
    "                                     shear_range = 0.3,\n",
    "                                     zoom_range = 0.3,\n",
    "                                     horizontal_flip = True,\n",
    "                                     vertical_flip = True,\n",
    "                                     fill_mode = \"nearest\")\n",
    "\n",
    "validation_datagen_x = ImageDataGenerator(rescale = 1./255)"
   ]
  },
  {
   "cell_type": "code",
   "execution_count": 17,
   "id": "e26b0e9f",
   "metadata": {},
   "outputs": [
    {
     "name": "stdout",
     "output_type": "stream",
     "text": [
      "Found 1999 images belonging to 2 classes.\n",
      "Found 1999 images belonging to 2 classes.\n"
     ]
    }
   ],
   "source": [
    "train_generator_x = train_datagen_x.flow_from_directory(train_directory,\n",
    "                                                        target_size = (224,224),\n",
    "                                                        batch_size = 16,\n",
    "                                                        class_mode = \"binary\")\n",
    "\n",
    "\n",
    "validation_generator_x = validation_datagen_x.flow_from_directory(train_directory,\n",
    "                                                                  target_size = (224,224),\n",
    "                                                                  batch_size = 16,\n",
    "                                                                  class_mode = \"binary\")"
   ]
  },
  {
   "cell_type": "code",
   "execution_count": 18,
   "id": "b53cb01d",
   "metadata": {},
   "outputs": [
    {
     "name": "stderr",
     "output_type": "stream",
     "text": [
      "E:\\anaconda3\\envs\\keras_dl\\lib\\site-packages\\ipykernel_launcher.py:3: UserWarning: `Model.fit_generator` is deprecated and will be removed in a future version. Please use `Model.fit`, which supports generators.\n",
      "  This is separate from the ipykernel package so we can avoid doing imports until\n"
     ]
    },
    {
     "name": "stdout",
     "output_type": "stream",
     "text": [
      "Epoch 1/3\n",
      "125/125 [==============================] - 461s 4s/step - loss: 0.7400 - acc: 0.6498 - val_loss: 0.4061 - val_acc: 0.8174\n",
      "Epoch 2/3\n",
      "125/125 [==============================] - 484s 4s/step - loss: 0.5896 - acc: 0.6888 - val_loss: 0.4005 - val_acc: 0.8139\n",
      "Epoch 3/3\n",
      "125/125 [==============================] - 493s 4s/step - loss: 0.5470 - acc: 0.7209 - val_loss: 0.3428 - val_acc: 0.8494\n",
      "DONE !\n"
     ]
    }
   ],
   "source": [
    "history = model.fit_generator(train_generator_x,\n",
    "                              validation_data = validation_generator_x,\n",
    "                              epochs = 3)\n",
    "\n",
    "print(\"DONE !\")"
   ]
  },
  {
   "cell_type": "code",
   "execution_count": 19,
   "id": "e81849ca",
   "metadata": {},
   "outputs": [],
   "source": [
    "model.save(\"models/cat_dog_tl.h5\")"
   ]
  }
 ],
 "metadata": {
  "kernelspec": {
   "display_name": "Python 3 (ipykernel)",
   "language": "python",
   "name": "python3"
  },
  "language_info": {
   "codemirror_mode": {
    "name": "ipython",
    "version": 3
   },
   "file_extension": ".py",
   "mimetype": "text/x-python",
   "name": "python",
   "nbconvert_exporter": "python",
   "pygments_lexer": "ipython3",
   "version": "3.7.4"
  }
 },
 "nbformat": 4,
 "nbformat_minor": 5
}
