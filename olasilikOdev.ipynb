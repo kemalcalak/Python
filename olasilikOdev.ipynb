{
 "cells": [
  {
   "cell_type": "code",
   "execution_count": 40,
   "metadata": {},
   "outputs": [],
   "source": [
    "import numpy as np\n",
    "from scipy.stats import hmean\n",
    "import statistics\n",
    "from scipy.stats import skew\n",
    "from scipy.stats import mode\n",
    "from math import sqrt\n",
    "import pandas as pd\n",
    "import seaborn as sns\n",
    "import matplotlib.pyplot as plt\n",
    "import missingno as msno\n",
    "from datetime import date\n",
    "from sklearn.metrics import accuracy_score\n",
    "from sklearn.model_selection import train_test_split\n",
    "from sklearn.neighbors import LocalOutlierFactor\n",
    "from sklearn.preprocessing import MinMaxScaler, LabelEncoder, StandardScaler, RobustScaler"
   ]
  },
  {
   "cell_type": "code",
   "execution_count": 41,
   "metadata": {},
   "outputs": [
    {
     "name": "stdout",
     "output_type": "stream",
     "text": [
      "Girilen dizi: [2.6 3.4 3.8 3.8 4.1 4.1 1.5 1.5 2.6 4.6 4.6 4.6 5.2 5.2]\n"
     ]
    }
   ],
   "source": [
    "def veri_girisi():\n",
    "    veri_str = input(\"Lütfen veriyi virgülle ayırarak girin: \")\n",
    "    veri_liste = [float(x) for x in veri_str.split(\",\")]\n",
    "    return np.array(veri_liste)\n",
    "\n",
    "dizi = veri_girisi()\n",
    "print(\"Girilen dizi:\", dizi)"
   ]
  },
  {
   "cell_type": "code",
   "execution_count": 42,
   "metadata": {},
   "outputs": [
    {
     "name": "stdout",
     "output_type": "stream",
     "text": [
      "Dizi sıralanmış hali:  [1.5 1.5 2.6 2.6 3.4 3.8 3.8 4.1 4.1 4.6 4.6 4.6 5.2 5.2]\n"
     ]
    }
   ],
   "source": [
    "#dizi = np.array([2.6,3.4,3.8,3.8,4.1,4.1,1.5,1.5,2.6,4.6,4.6,4.6,5.2,5.2])\n",
    "boyut = len(dizi)\n",
    "print(\"Dizi sıralanmış hali: \",np.sort(dizi))"
   ]
  },
  {
   "cell_type": "code",
   "execution_count": 43,
   "metadata": {},
   "outputs": [
    {
     "data": {
      "text/plain": [
       "ModeResult(mode=4.6, count=3)"
      ]
     },
     "execution_count": 43,
     "metadata": {},
     "output_type": "execute_result"
    }
   ],
   "source": [
    "mode(dizi)"
   ]
  },
  {
   "cell_type": "code",
   "execution_count": 44,
   "metadata": {},
   "outputs": [
    {
     "name": "stdout",
     "output_type": "stream",
     "text": [
      "Medyan:  3.95\n"
     ]
    }
   ],
   "source": [
    "medyan = round(np.median(dizi),2)\n",
    "print(\"Medyan: \",medyan)"
   ]
  },
  {
   "cell_type": "code",
   "execution_count": 45,
   "metadata": {},
   "outputs": [
    {
     "name": "stdout",
     "output_type": "stream",
     "text": [
      "Aritmetik ortalaması: 3.69\n"
     ]
    }
   ],
   "source": [
    "aritmetik_ortalama = round(np.mean(dizi),2)\n",
    "print(\"Aritmetik ortalaması:\", aritmetik_ortalama)"
   ]
  },
  {
   "cell_type": "code",
   "execution_count": 46,
   "metadata": {},
   "outputs": [
    {
     "name": "stdout",
     "output_type": "stream",
     "text": [
      "Geometrik ortalama: 3.44\n"
     ]
    }
   ],
   "source": [
    "def geometrik_ortalama(dizi):\n",
    "    return np.prod(dizi) ** (1 / len(dizi))\n",
    "\n",
    "geo_ortalama = round(geometrik_ortalama(dizi),2)\n",
    "print(\"Geometrik ortalama:\", geo_ortalama)"
   ]
  },
  {
   "cell_type": "code",
   "execution_count": 47,
   "metadata": {},
   "outputs": [
    {
     "name": "stdout",
     "output_type": "stream",
     "text": [
      "Harmonik Ortalama: 3.15\n"
     ]
    }
   ],
   "source": [
    "harmonik_ort = round(hmean(dizi),2)\n",
    "print(\"Harmonik Ortalama:\", harmonik_ort)"
   ]
  },
  {
   "cell_type": "code",
   "execution_count": 48,
   "metadata": {},
   "outputs": [
    {
     "name": "stdout",
     "output_type": "stream",
     "text": [
      "Örneklem Varyansı: 1.4967032967032963\n"
     ]
    }
   ],
   "source": [
    "orneklem_varyansi = np.var(dizi, ddof=1)\n",
    "print(\"Örneklem Varyansı:\", orneklem_varyansi)"
   ]
  },
  {
   "cell_type": "code",
   "execution_count": 49,
   "metadata": {},
   "outputs": [
    {
     "name": "stdout",
     "output_type": "stream",
     "text": [
      "Veri dizisinin standart sapması: 1.22\n"
     ]
    }
   ],
   "source": [
    "standart_sapma = round(sqrt(orneklem_varyansi),2)\n",
    "print(\"Veri dizisinin standart sapması:\", standart_sapma)"
   ]
  },
  {
   "cell_type": "code",
   "execution_count": 50,
   "metadata": {},
   "outputs": [
    {
     "name": "stdout",
     "output_type": "stream",
     "text": [
      "OMS: 0.98\n"
     ]
    }
   ],
   "source": [
    "def ortalama_mutlak_sapma(dizi):\n",
    "    ort = np.mean(dizi)  \n",
    "    mutlak_sapmalar = np.abs(dizi - ort)  \n",
    "    ortalama_mutlak_sapma = np.mean(mutlak_sapmalar)  \n",
    "    return ortalama_mutlak_sapma\n",
    "\n",
    "sonuc = round(ortalama_mutlak_sapma(dizi),2)\n",
    "print(\"OMS:\", sonuc)"
   ]
  },
  {
   "cell_type": "code",
   "execution_count": 59,
   "metadata": {},
   "outputs": [
    {
     "name": "stdout",
     "output_type": "stream",
     "text": [
      "Çarpıklık ölçüsü: -0.61\n"
     ]
    }
   ],
   "source": [
    "carpiklik = round(skew(dizi),2)\n",
    "\n",
    "print(\"Çarpıklık ölçüsü:\", carpiklik)"
   ]
  },
  {
   "cell_type": "code",
   "execution_count": 58,
   "metadata": {},
   "outputs": [
    {
     "name": "stdout",
     "output_type": "stream",
     "text": [
      "Basıklık ölçüsü: -0.61\n"
     ]
    }
   ],
   "source": [
    "basiklik = round(skew(dizi),2)\n",
    "print(\"Basıklık ölçüsü:\", basiklik)"
   ]
  },
  {
   "cell_type": "code",
   "execution_count": 53,
   "metadata": {},
   "outputs": [
    {
     "name": "stdout",
     "output_type": "stream",
     "text": [
      "Varyasyon Katsayısı: 0.32\n"
     ]
    }
   ],
   "source": [
    "def varyasyon_katsayisi(dizi):\n",
    "    std_sapma = np.std(dizi)\n",
    "    ortalama = np.mean(dizi)\n",
    "    \n",
    "    if ortalama == 0:\n",
    "        return \"Dizinin ortalama değeri sıfır olduğu için varyasyon katsayısı hesaplanamaz.\"\n",
    "    else:\n",
    "        return std_sapma / ortalama\n",
    "\n",
    "vk = round(varyasyon_katsayisi(dizi),2)\n",
    "print(\"Varyasyon Katsayısı:\", vk)"
   ]
  },
  {
   "cell_type": "code",
   "execution_count": 54,
   "metadata": {},
   "outputs": [
    {
     "name": "stdout",
     "output_type": "stream",
     "text": [
      "frekans Tablosu:\n",
      "Eleman: 1.5, Frekans: 2\n",
      "Eleman: 2.6, Frekans: 2\n",
      "Eleman: 3.4, Frekans: 1\n",
      "Eleman: 3.8, Frekans: 2\n",
      "Eleman: 4.1, Frekans: 2\n",
      "Eleman: 4.6, Frekans: 3\n",
      "Eleman: 5.2, Frekans: 2\n"
     ]
    }
   ],
   "source": [
    "benzersiz_elemanlar, frekanslar = np.unique(dizi, return_counts=True)\n",
    "print(\"frekans Tablosu:\")\n",
    "for eleman, frekans in zip(benzersiz_elemanlar, frekanslar):\n",
    "    print(f\"Eleman: {eleman}, Frekans: {frekans}\")\n",
    "\n"
   ]
  },
  {
   "cell_type": "code",
   "execution_count": 55,
   "metadata": {},
   "outputs": [],
   "source": [
    "def sinif_frekanslarini_bul(dizi, alt_sinirlar, ust_sinirlar):\n",
    "    sinif_frekanslari = []\n",
    "    for alt, ust in zip(alt_sinirlar, ust_sinirlar):\n",
    "        sinif_frekanslari.append(((dizi >= alt) & (dizi < ust)).sum())\n",
    "    return sinif_frekanslari"
   ]
  },
  {
   "cell_type": "code",
   "execution_count": 56,
   "metadata": {},
   "outputs": [
    {
     "name": "stdout",
     "output_type": "stream",
     "text": [
      "1.Alt Limit:1.5\t1.Üst Limiti: 2.4\t1.Alt Sınır:1.45\t1.Üst Sınır:2.45\t1.Sınıf Frekansı:2\t1.SON:1.95\t1.EF:2\t1.OF:2/14\t1.OEF:2/14\n",
      "2.Alt Limit:2.5\t2.Üst Limiti: 3.4\t2.Alt Sınır:2.45\t2.Üst Sınır:3.45\t2.Sınıf Frekansı:3\t2.SON:2.95\t2.EF:5\t2.OF:3/14\t2.OEF:5/14\n",
      "3.Alt Limit:3.5\t3.Üst Limiti: 4.4\t3.Alt Sınır:3.45\t3.Üst Sınır:4.45\t3.Sınıf Frekansı:4\t3.SON:3.95\t3.EF:9\t3.OF:4/14\t3.OEF:9/14\n",
      "4.Alt Limit:4.5\t4.Üst Limiti: 5.4\t4.Alt Sınır:4.45\t4.Üst Sınır:5.45\t4.Sınıf Frekansı:5\t4.SON:4.95\t4.EF:14\t4.OF:5/14\t4.OEF:14/14\n"
     ]
    }
   ],
   "source": [
    "def sinif_limitlerini_bul(dizi):\n",
    "    min_deger = np.min(dizi)\n",
    "    max_deger = np.max(dizi)\n",
    "    \n",
    "    sinif_alt_limitleri = np.arange(min_deger, max_deger + 1, 1)\n",
    "    \n",
    "    sinif_ust_limitleri = sinif_alt_limitleri + 0.9\n",
    "    \n",
    "    return sinif_alt_limitleri, sinif_ust_limitleri\n",
    "\n",
    "alt_limitler, ust_limitler = sinif_limitlerini_bul(dizi)\n",
    "\n",
    "ust_sinir = (ust_limitler[1] + alt_limitler[0]) / 2\n",
    "alt_sinir = round(ust_sinir - 1, 2)  \n",
    "alt_sinirlar=[alt_sinir,alt_sinir+1,alt_sinir+2,alt_sinir+3]\n",
    "ust_sinirlar=[ust_sinir,ust_sinir+1,ust_sinir+2,ust_sinir+3]\n",
    "abc = round((alt_sinirlar[0]+ust_sinirlar[0])/2, 2)\n",
    "\n",
    "SON=[abc,abc+1,abc+2,abc+3]\n",
    "\n",
    "\n",
    "oransal_frekanlar = frekanslar / len(dizi)\n",
    "\n",
    "sinif_frekanslari = sinif_frekanslarini_bul(dizi, alt_sinirlar, ust_sinirlar)\n",
    "eklenik = np.cumsum(sinif_frekanslari)\n",
    "\n",
    "sayac=1\n",
    "for alt, ust, frek,altsinir,ustsinir in zip(alt_limitler, ust_limitler,sinif_frekanslari ,alt_sinirlar, ust_sinirlar):\n",
    "    print(f\"{sayac}.Alt Limit:{alt}\\t{sayac}.Üst Limiti: {ust}\\t{sayac}.Alt Sınır:{altsinir}\\t{sayac}.Üst Sınır:{ustsinir}\\t{sayac}.Sınıf Frekansı:{frek}\\t{sayac}.SON:{SON[sayac-1]}\\t{sayac}.EF:{eklenik[sayac-1]}\\t{sayac}.OF:{frek}/{len(dizi)}\\t{sayac}.OEF:{eklenik[sayac-1]}/{boyut}\")\n",
    "    sayac+=1\n",
    "    "
   ]
  },
  {
   "cell_type": "code",
   "execution_count": 57,
   "metadata": {},
   "outputs": [
    {
     "name": "stdout",
     "output_type": "stream",
     "text": [
      "Çeyrekler arası aralık (IQR): 1.7999999999999998\n",
      "Alt çeyrek (Q1): 2.8\n",
      "Üst çeyrek (Q3): 4.6\n"
     ]
    }
   ],
   "source": [
    "Q1 = np.percentile(dizi, 25)\n",
    "Q3 = np.percentile(dizi, 75)\n",
    "IQR = Q3 - Q1\n",
    "print(\"Çeyrekler arası aralık (IQR):\", IQR)\n",
    "print(\"Alt çeyrek (Q1):\", Q1)   \n",
    "print(\"Üst çeyrek (Q3):\", Q3)"
   ]
  }
 ],
 "metadata": {
  "kernelspec": {
   "display_name": "abc",
   "language": "python",
   "name": "python3"
  },
  "language_info": {
   "codemirror_mode": {
    "name": "ipython",
    "version": 3
   },
   "file_extension": ".py",
   "mimetype": "text/x-python",
   "name": "python",
   "nbconvert_exporter": "python",
   "pygments_lexer": "ipython3",
   "version": "3.11.5"
  }
 },
 "nbformat": 4,
 "nbformat_minor": 2
}
