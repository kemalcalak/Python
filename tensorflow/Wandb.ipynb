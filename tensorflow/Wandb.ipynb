{
 "cells": [
  {
   "cell_type": "markdown",
   "id": "44110c03",
   "metadata": {},
   "source": [
    "# Kütüphaneler"
   ]
  },
  {
   "cell_type": "code",
   "execution_count": 1,
   "id": "b11a336c",
   "metadata": {},
   "outputs": [],
   "source": [
    "import tensorflow as tf\n",
    "import os\n",
    "import warnings\n",
    "import time\n",
    "import numpy as np\n",
    "import pylab as pl\n",
    "import pandas as pd\n",
    "import matplotlib.cm as cm\n",
    "from keras import backend as K\n",
    "import matplotlib.pyplot as plt\n",
    "from tensorflow.keras.optimizers import SGD\n",
    "from keras.utils import np_utils\n",
    "from keras.models import Sequential\n",
    "from keras.datasets import fashion_mnist\n",
    "from keras.layers.convolutional import Conv2D, MaxPooling2D\n",
    "from keras.layers.core import Dense, Dropout, Activation, Flatten\n",
    "from tensorflow.keras import layers,activations\n",
    "from tensorflow.keras.utils import image_dataset_from_directory\n",
    "\n",
    "import warnings\n",
    "warnings.filterwarnings(\"ignore\")"
   ]
  },
  {
   "cell_type": "code",
   "execution_count": 2,
   "id": "95b5df86",
   "metadata": {},
   "outputs": [],
   "source": [
    "import pandas as pd\n",
    "import numpy as np\n",
    "from sklearn import model_selection\n",
    "from sklearn.model_selection import train_test_split, learning_curve, KFold, cross_val_score, StratifiedKFold\n",
    "\n",
    "# Models\n",
    "import tensorflow\n",
    "from tensorflow import keras\n",
    "from keras import backend as K\n",
    "from keras import regularizers\n",
    "from keras.models import Sequential, model_from_json\n",
    "from keras.preprocessing.image import ImageDataGenerator\n",
    "from keras.utils import np_utils\n",
    "from keras.layers import Dense, Flatten, Conv2D, BatchNormalization, Dropout, MaxPooling2D, Activation\n",
    "from tensorflow.keras.optimizers import RMSprop, SGD, Adam, Nadam\n",
    "from keras import callbacks\n",
    "from keras.callbacks import ReduceLROnPlateau, ModelCheckpoint, Callback, EarlyStopping\n",
    "\n",
    "# Image Libraries\n",
    "from PIL import Image, ImageFilter, ImageStat\n",
    "import random\n",
    "random.seed(42)\n",
    "import PIL\n",
    "import os\n",
    "import itertools\n",
    "import glob\n",
    "import matplotlib.pyplot as plt\n",
    "from mpl_toolkits.axes_grid1 import AxesGrid"
   ]
  },
  {
   "cell_type": "markdown",
   "id": "e4ffc72e",
   "metadata": {},
   "source": [
    "# Veriyi Yükleme"
   ]
  },
  {
   "cell_type": "code",
   "execution_count": 3,
   "id": "fae10c9a",
   "metadata": {},
   "outputs": [
    {
     "name": "stdout",
     "output_type": "stream",
     "text": [
      "Found 252 images belonging to 4 classes.\n",
      "Found 28 images belonging to 4 classes.\n"
     ]
    }
   ],
   "source": [
    "import tensorflow as tf\n",
    "import numpy as np\n",
    "base_dir=r\"C:Tensorflow\\f1\"\n",
    "\n",
    "train_datagen=tf.keras.preprocessing.image.ImageDataGenerator(\n",
    "    rescale=1./255,\n",
    "    shear_range=0.2,\n",
    "    zoom_range=0.2,\n",
    "    horizontal_flip=True,\n",
    "    validation_split=0.1\n",
    "    )\n",
    "\n",
    "test_datagen=tf.keras.preprocessing.image.ImageDataGenerator(\n",
    "     rescale=1./255,\n",
    "     validation_split=0.1\n",
    ")\n",
    "\n",
    "train_datagen=train_datagen.flow_from_directory(\n",
    "    base_dir,\n",
    "    target_size=(500,500),\n",
    "    subset='training',\n",
    "    batch_size=2\n",
    ")\n",
    "\n",
    "test_datagen=test_datagen.flow_from_directory(\n",
    "    base_dir,\n",
    "    target_size=(500,500),\n",
    "    subset='validation',\n",
    "    batch_size=2\n",
    ")"
   ]
  },
  {
   "cell_type": "markdown",
   "id": "6f5eada6",
   "metadata": {},
   "source": [
    "# Görselleştirme"
   ]
  },
  {
   "cell_type": "code",
   "execution_count": null,
   "id": "3f717f33",
   "metadata": {},
   "outputs": [],
   "source": [
    "import tensorflow as tf\n",
    "from tensorflow import keras\n",
    "import matplotlib.pyplot as plt\n",
    "\n",
    "for _ in range(5):\n",
    "    img, label = test_datagen.next()\n",
    "    print(img.shape)   \n",
    "    plt.imshow(img[0])\n",
    "    print(label[0])   \n",
    "\n",
    "    plt.show()"
   ]
  },
  {
   "cell_type": "markdown",
   "id": "60c66b48",
   "metadata": {},
   "source": [
    "# Wandb ile Eğitim"
   ]
  },
  {
   "cell_type": "code",
   "execution_count": 4,
   "id": "a8686dba",
   "metadata": {},
   "outputs": [],
   "source": [
    "import wandb\n",
    "import config\n",
    "from wandb.keras import WandbCallback"
   ]
  },
  {
   "cell_type": "code",
   "execution_count": 5,
   "id": "c917b0ab",
   "metadata": {},
   "outputs": [
    {
     "name": "stderr",
     "output_type": "stream",
     "text": [
      "\u001b[34m\u001b[1mwandb\u001b[0m: Currently logged in as: \u001b[33myasarniyaz\u001b[0m (use `wandb login --relogin` to force relogin)\n"
     ]
    },
    {
     "data": {
      "text/plain": [
       "True"
      ]
     },
     "execution_count": 5,
     "metadata": {},
     "output_type": "execute_result"
    }
   ],
   "source": [
    "wandb.login()"
   ]
  },
  {
   "cell_type": "code",
   "execution_count": 6,
   "id": "719dd8c9",
   "metadata": {},
   "outputs": [],
   "source": [
    "sweep_config = {\n",
    "    'method': 'random',\n",
    "    'metric': {\n",
    "      'name': 'accuracy',\n",
    "      'goal': 'maximize'   \n",
    "    },\n",
    "    'parameters': {\n",
    "        'epochs': {\n",
    "            'values': [1,2]\n",
    "        },\n",
    "        'learning_rate': {\n",
    "            'values': [0.1,0.01]\n",
    "        },\n",
    "        'optimizer': {\n",
    "            'values': ['adam','rmsprop']\n",
    "        },\n",
    "        'activation': {\n",
    "            'values': ['relu', 'elu', 'selu']\n",
    "        }\n",
    "    }\n",
    "}"
   ]
  },
  {
   "cell_type": "code",
   "execution_count": 7,
   "id": "04759345",
   "metadata": {},
   "outputs": [
    {
     "name": "stdout",
     "output_type": "stream",
     "text": [
      "Create sweep with ID: qn5du4en\n",
      "Sweep URL: https://wandb.ai/yasarniyaz/sweep/sweeps/qn5du4en\n"
     ]
    }
   ],
   "source": [
    "sweep_id = wandb.sweep(sweep_config, entity=\"yasarniyaz\", project=\"sweep\")"
   ]
  },
  {
   "cell_type": "code",
   "execution_count": 8,
   "id": "925145f9",
   "metadata": {},
   "outputs": [],
   "source": [
    "def model_sweep(opt,func):\n",
    "    \n",
    "    model= Sequential()\n",
    "\n",
    "    model.add(layers.Conv2D(filters=4,activation=func,kernel_size=(5,5),input_shape=(500,500,3)))\n",
    "    model.add(layers.MaxPooling2D((2,2)))\n",
    "    model.add(layers.Conv2D(filters=8,activation=func,kernel_size=(3,3)))\n",
    "    model.add(layers.MaxPooling2D((2,2)))\n",
    "    model.add(layers.Conv2D(filters=16,activation=func,kernel_size=(2,2)))\n",
    "    model.add(layers.MaxPooling2D((2,2)))\n",
    "    model.add(layers.Conv2D(filters=32,activation=func,kernel_size=(2,2)))\n",
    "\n",
    "    model.add(layers.Flatten())\n",
    "\n",
    "    model.add(Dense(50,activation=func))\n",
    "    model.add(Dense(100,activation=func))\n",
    "    model.add(Dense(100,activation=func))\n",
    "    model.add(Dense(50,activation=func))\n",
    "    model.add(Dense(4,activation=\"softmax\"))\n",
    "    \n",
    "    model.compile(optimizer=opt,\n",
    "                  loss=\"categorical_crossentropy\",\n",
    "                  metrics=[\"accuracy\"])\n",
    "    \n",
    "    return model"
   ]
  },
  {
   "cell_type": "code",
   "execution_count": 9,
   "id": "4437a703",
   "metadata": {},
   "outputs": [],
   "source": [
    "def train():\n",
    "    config_defaults = {\n",
    "        'epochs': 2,\n",
    "        'batch_size': 128,\n",
    "        'learning_rate': 0.01,\n",
    "        'activation': 'relu',\n",
    "        'optimizer': 'adam',\n",
    "        'seed': 42\n",
    "    }\n",
    "\n",
    "    wandb.init(config=config_defaults)\n",
    "    \n",
    "    config = wandb.config\n",
    "    \n",
    "    model = model_sweep(config.optimizer,config.activation)\n",
    "    \n",
    "    start = time.time()\n",
    "    model.fit(train_datagen, \n",
    "        validation_data=test_datagen,\n",
    "        batch_size=config.batch_size,\n",
    "        epochs=config.epochs,\n",
    "        callbacks=[WandbCallback(data_type=\"image\", validation_data=test_datagen)])\n",
    "    wandb.log({\"training_time\":time.time()-start})"
   ]
  },
  {
   "cell_type": "code",
   "execution_count": null,
   "id": "ab49da90",
   "metadata": {},
   "outputs": [],
   "source": [
    "wandb.agent(sweep_id, train)"
   ]
  }
 ],
 "metadata": {
  "kernelspec": {
   "display_name": "Python 3 (ipykernel)",
   "language": "python",
   "name": "python3"
  },
  "language_info": {
   "codemirror_mode": {
    "name": "ipython",
    "version": 3
   },
   "file_extension": ".py",
   "mimetype": "text/x-python",
   "name": "python",
   "nbconvert_exporter": "python",
   "pygments_lexer": "ipython3",
   "version": "3.7.12"
  }
 },
 "nbformat": 4,
 "nbformat_minor": 5
}
